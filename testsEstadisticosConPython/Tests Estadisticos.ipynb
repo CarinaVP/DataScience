{
 "cells": [
  {
   "cell_type": "markdown",
   "id": "9fcc8664",
   "metadata": {},
   "source": [
    "## Importo pandas\n"
   ]
  },
  {
   "cell_type": "code",
   "execution_count": 1,
   "id": "61134bcb",
   "metadata": {},
   "outputs": [],
   "source": [
    "import pandas as pd \n"
   ]
  },
  {
   "cell_type": "markdown",
   "id": "d46df50d",
   "metadata": {},
   "source": [
    "### El nombre del primer csv se asigna a la variable 'tmdb'"
   ]
  },
  {
   "cell_type": "code",
   "execution_count": 2,
   "id": "d510778b",
   "metadata": {},
   "outputs": [],
   "source": [
    "tmdb=pd.read_csv('C:/Users/Carina/Downloads/ml-latest-small/tmdb_5000_movies.csv')"
   ]
  },
  {
   "cell_type": "markdown",
   "id": "33431990",
   "metadata": {},
   "source": [
    "### Visualizo solo las primeras dos filas del csv que contiene los datos de 5000 peliculas"
   ]
  },
  {
   "cell_type": "code",
   "execution_count": 3,
   "id": "beb4d2ae",
   "metadata": {},
   "outputs": [
    {
     "data": {
      "text/html": [
       "<div>\n",
       "<style scoped>\n",
       "    .dataframe tbody tr th:only-of-type {\n",
       "        vertical-align: middle;\n",
       "    }\n",
       "\n",
       "    .dataframe tbody tr th {\n",
       "        vertical-align: top;\n",
       "    }\n",
       "\n",
       "    .dataframe thead th {\n",
       "        text-align: right;\n",
       "    }\n",
       "</style>\n",
       "<table border=\"1\" class=\"dataframe\">\n",
       "  <thead>\n",
       "    <tr style=\"text-align: right;\">\n",
       "      <th></th>\n",
       "      <th>budget</th>\n",
       "      <th>genres</th>\n",
       "      <th>homepage</th>\n",
       "      <th>id</th>\n",
       "      <th>keywords</th>\n",
       "      <th>original_language</th>\n",
       "      <th>original_title</th>\n",
       "      <th>overview</th>\n",
       "      <th>popularity</th>\n",
       "      <th>production_companies</th>\n",
       "      <th>production_countries</th>\n",
       "      <th>release_date</th>\n",
       "      <th>revenue</th>\n",
       "      <th>runtime</th>\n",
       "      <th>spoken_languages</th>\n",
       "      <th>status</th>\n",
       "      <th>tagline</th>\n",
       "      <th>title</th>\n",
       "      <th>vote_average</th>\n",
       "      <th>vote_count</th>\n",
       "    </tr>\n",
       "  </thead>\n",
       "  <tbody>\n",
       "    <tr>\n",
       "      <th>0</th>\n",
       "      <td>237000000</td>\n",
       "      <td>[{\"id\": 28, \"name\": \"Action\"}, {\"id\": 12, \"nam...</td>\n",
       "      <td>http://www.avatarmovie.com/</td>\n",
       "      <td>19995</td>\n",
       "      <td>[{\"id\": 1463, \"name\": \"culture clash\"}, {\"id\":...</td>\n",
       "      <td>en</td>\n",
       "      <td>Avatar</td>\n",
       "      <td>In the 22nd century, a paraplegic Marine is di...</td>\n",
       "      <td>150.437577</td>\n",
       "      <td>[{\"name\": \"Ingenious Film Partners\", \"id\": 289...</td>\n",
       "      <td>[{\"iso_3166_1\": \"US\", \"name\": \"United States o...</td>\n",
       "      <td>2009-12-10</td>\n",
       "      <td>2787965087</td>\n",
       "      <td>162.0</td>\n",
       "      <td>[{\"iso_639_1\": \"en\", \"name\": \"English\"}, {\"iso...</td>\n",
       "      <td>Released</td>\n",
       "      <td>Enter the World of Pandora.</td>\n",
       "      <td>Avatar</td>\n",
       "      <td>7.2</td>\n",
       "      <td>11800</td>\n",
       "    </tr>\n",
       "    <tr>\n",
       "      <th>1</th>\n",
       "      <td>300000000</td>\n",
       "      <td>[{\"id\": 12, \"name\": \"Adventure\"}, {\"id\": 14, \"...</td>\n",
       "      <td>http://disney.go.com/disneypictures/pirates/</td>\n",
       "      <td>285</td>\n",
       "      <td>[{\"id\": 270, \"name\": \"ocean\"}, {\"id\": 726, \"na...</td>\n",
       "      <td>en</td>\n",
       "      <td>Pirates of the Caribbean: At World's End</td>\n",
       "      <td>Captain Barbossa, long believed to be dead, ha...</td>\n",
       "      <td>139.082615</td>\n",
       "      <td>[{\"name\": \"Walt Disney Pictures\", \"id\": 2}, {\"...</td>\n",
       "      <td>[{\"iso_3166_1\": \"US\", \"name\": \"United States o...</td>\n",
       "      <td>2007-05-19</td>\n",
       "      <td>961000000</td>\n",
       "      <td>169.0</td>\n",
       "      <td>[{\"iso_639_1\": \"en\", \"name\": \"English\"}]</td>\n",
       "      <td>Released</td>\n",
       "      <td>At the end of the world, the adventure begins.</td>\n",
       "      <td>Pirates of the Caribbean: At World's End</td>\n",
       "      <td>6.9</td>\n",
       "      <td>4500</td>\n",
       "    </tr>\n",
       "  </tbody>\n",
       "</table>\n",
       "</div>"
      ],
      "text/plain": [
       "      budget                                             genres  \\\n",
       "0  237000000  [{\"id\": 28, \"name\": \"Action\"}, {\"id\": 12, \"nam...   \n",
       "1  300000000  [{\"id\": 12, \"name\": \"Adventure\"}, {\"id\": 14, \"...   \n",
       "\n",
       "                                       homepage     id  \\\n",
       "0                   http://www.avatarmovie.com/  19995   \n",
       "1  http://disney.go.com/disneypictures/pirates/    285   \n",
       "\n",
       "                                            keywords original_language  \\\n",
       "0  [{\"id\": 1463, \"name\": \"culture clash\"}, {\"id\":...                en   \n",
       "1  [{\"id\": 270, \"name\": \"ocean\"}, {\"id\": 726, \"na...                en   \n",
       "\n",
       "                             original_title  \\\n",
       "0                                    Avatar   \n",
       "1  Pirates of the Caribbean: At World's End   \n",
       "\n",
       "                                            overview  popularity  \\\n",
       "0  In the 22nd century, a paraplegic Marine is di...  150.437577   \n",
       "1  Captain Barbossa, long believed to be dead, ha...  139.082615   \n",
       "\n",
       "                                production_companies  \\\n",
       "0  [{\"name\": \"Ingenious Film Partners\", \"id\": 289...   \n",
       "1  [{\"name\": \"Walt Disney Pictures\", \"id\": 2}, {\"...   \n",
       "\n",
       "                                production_countries release_date     revenue  \\\n",
       "0  [{\"iso_3166_1\": \"US\", \"name\": \"United States o...   2009-12-10  2787965087   \n",
       "1  [{\"iso_3166_1\": \"US\", \"name\": \"United States o...   2007-05-19   961000000   \n",
       "\n",
       "   runtime                                   spoken_languages    status  \\\n",
       "0    162.0  [{\"iso_639_1\": \"en\", \"name\": \"English\"}, {\"iso...  Released   \n",
       "1    169.0           [{\"iso_639_1\": \"en\", \"name\": \"English\"}]  Released   \n",
       "\n",
       "                                          tagline  \\\n",
       "0                     Enter the World of Pandora.   \n",
       "1  At the end of the world, the adventure begins.   \n",
       "\n",
       "                                      title  vote_average  vote_count  \n",
       "0                                    Avatar           7.2       11800  \n",
       "1  Pirates of the Caribbean: At World's End           6.9        4500  "
      ]
     },
     "execution_count": 3,
     "metadata": {},
     "output_type": "execute_result"
    }
   ],
   "source": [
    "tmdb.head(2)"
   ]
  },
  {
   "cell_type": "markdown",
   "id": "d29636f9",
   "metadata": {},
   "source": [
    "### Veo la descripcion de mi csv que contiene datos de 5000 peliculas"
   ]
  },
  {
   "cell_type": "code",
   "execution_count": 4,
   "id": "019d3020",
   "metadata": {},
   "outputs": [
    {
     "data": {
      "text/html": [
       "<div>\n",
       "<style scoped>\n",
       "    .dataframe tbody tr th:only-of-type {\n",
       "        vertical-align: middle;\n",
       "    }\n",
       "\n",
       "    .dataframe tbody tr th {\n",
       "        vertical-align: top;\n",
       "    }\n",
       "\n",
       "    .dataframe thead th {\n",
       "        text-align: right;\n",
       "    }\n",
       "</style>\n",
       "<table border=\"1\" class=\"dataframe\">\n",
       "  <thead>\n",
       "    <tr style=\"text-align: right;\">\n",
       "      <th></th>\n",
       "      <th>budget</th>\n",
       "      <th>id</th>\n",
       "      <th>popularity</th>\n",
       "      <th>revenue</th>\n",
       "      <th>runtime</th>\n",
       "      <th>vote_average</th>\n",
       "      <th>vote_count</th>\n",
       "    </tr>\n",
       "  </thead>\n",
       "  <tbody>\n",
       "    <tr>\n",
       "      <th>count</th>\n",
       "      <td>4.803000e+03</td>\n",
       "      <td>4803.000000</td>\n",
       "      <td>4803.000000</td>\n",
       "      <td>4.803000e+03</td>\n",
       "      <td>4801.000000</td>\n",
       "      <td>4803.000000</td>\n",
       "      <td>4803.000000</td>\n",
       "    </tr>\n",
       "    <tr>\n",
       "      <th>mean</th>\n",
       "      <td>2.904504e+07</td>\n",
       "      <td>57165.484281</td>\n",
       "      <td>21.492301</td>\n",
       "      <td>8.226064e+07</td>\n",
       "      <td>106.875859</td>\n",
       "      <td>6.092172</td>\n",
       "      <td>690.217989</td>\n",
       "    </tr>\n",
       "    <tr>\n",
       "      <th>std</th>\n",
       "      <td>4.072239e+07</td>\n",
       "      <td>88694.614033</td>\n",
       "      <td>31.816650</td>\n",
       "      <td>1.628571e+08</td>\n",
       "      <td>22.611935</td>\n",
       "      <td>1.194612</td>\n",
       "      <td>1234.585891</td>\n",
       "    </tr>\n",
       "    <tr>\n",
       "      <th>min</th>\n",
       "      <td>0.000000e+00</td>\n",
       "      <td>5.000000</td>\n",
       "      <td>0.000000</td>\n",
       "      <td>0.000000e+00</td>\n",
       "      <td>0.000000</td>\n",
       "      <td>0.000000</td>\n",
       "      <td>0.000000</td>\n",
       "    </tr>\n",
       "    <tr>\n",
       "      <th>25%</th>\n",
       "      <td>7.900000e+05</td>\n",
       "      <td>9014.500000</td>\n",
       "      <td>4.668070</td>\n",
       "      <td>0.000000e+00</td>\n",
       "      <td>94.000000</td>\n",
       "      <td>5.600000</td>\n",
       "      <td>54.000000</td>\n",
       "    </tr>\n",
       "    <tr>\n",
       "      <th>50%</th>\n",
       "      <td>1.500000e+07</td>\n",
       "      <td>14629.000000</td>\n",
       "      <td>12.921594</td>\n",
       "      <td>1.917000e+07</td>\n",
       "      <td>103.000000</td>\n",
       "      <td>6.200000</td>\n",
       "      <td>235.000000</td>\n",
       "    </tr>\n",
       "    <tr>\n",
       "      <th>75%</th>\n",
       "      <td>4.000000e+07</td>\n",
       "      <td>58610.500000</td>\n",
       "      <td>28.313505</td>\n",
       "      <td>9.291719e+07</td>\n",
       "      <td>118.000000</td>\n",
       "      <td>6.800000</td>\n",
       "      <td>737.000000</td>\n",
       "    </tr>\n",
       "    <tr>\n",
       "      <th>max</th>\n",
       "      <td>3.800000e+08</td>\n",
       "      <td>459488.000000</td>\n",
       "      <td>875.581305</td>\n",
       "      <td>2.787965e+09</td>\n",
       "      <td>338.000000</td>\n",
       "      <td>10.000000</td>\n",
       "      <td>13752.000000</td>\n",
       "    </tr>\n",
       "  </tbody>\n",
       "</table>\n",
       "</div>"
      ],
      "text/plain": [
       "             budget             id   popularity       revenue      runtime  \\\n",
       "count  4.803000e+03    4803.000000  4803.000000  4.803000e+03  4801.000000   \n",
       "mean   2.904504e+07   57165.484281    21.492301  8.226064e+07   106.875859   \n",
       "std    4.072239e+07   88694.614033    31.816650  1.628571e+08    22.611935   \n",
       "min    0.000000e+00       5.000000     0.000000  0.000000e+00     0.000000   \n",
       "25%    7.900000e+05    9014.500000     4.668070  0.000000e+00    94.000000   \n",
       "50%    1.500000e+07   14629.000000    12.921594  1.917000e+07   103.000000   \n",
       "75%    4.000000e+07   58610.500000    28.313505  9.291719e+07   118.000000   \n",
       "max    3.800000e+08  459488.000000   875.581305  2.787965e+09   338.000000   \n",
       "\n",
       "       vote_average    vote_count  \n",
       "count   4803.000000   4803.000000  \n",
       "mean       6.092172    690.217989  \n",
       "std        1.194612   1234.585891  \n",
       "min        0.000000      0.000000  \n",
       "25%        5.600000     54.000000  \n",
       "50%        6.200000    235.000000  \n",
       "75%        6.800000    737.000000  \n",
       "max       10.000000  13752.000000  "
      ]
     },
     "execution_count": 4,
     "metadata": {},
     "output_type": "execute_result"
    }
   ],
   "source": [
    "tmdb.describe()"
   ]
  },
  {
   "cell_type": "markdown",
   "id": "7914f3cc",
   "metadata": {},
   "source": [
    "### Grafico con la funcion 'seaborn' para una visualizacon estadistica"
   ]
  },
  {
   "cell_type": "code",
   "execution_count": 5,
   "id": "51341a10",
   "metadata": {},
   "outputs": [],
   "source": [
    "import seaborn as sb"
   ]
  },
  {
   "cell_type": "markdown",
   "id": "cf0944a1",
   "metadata": {},
   "source": [
    "### Grafico una distribución con ayuda de 'distplot'"
   ]
  },
  {
   "cell_type": "markdown",
   "id": "c213bfb5",
   "metadata": {},
   "source": [
    "####  'vote_average' es utilizada como entrada para crear un histograma o un gráfico de distribución de datos con la función distplot(). Esta función generará un gráfico que muestra la distribución de los valores en la columna 'vote_average' en el conjunto de datos 'tmdb'. El eje x del gráfico representará los valores de 'vote_average', mientras que el eje y mostrará la frecuencia o densidad de los valores en 'vote_average'."
   ]
  },
  {
   "cell_type": "code",
   "execution_count": 6,
   "id": "5dcd40fe",
   "metadata": {},
   "outputs": [
    {
     "name": "stderr",
     "output_type": "stream",
     "text": [
      "C:\\Users\\Carina\\anaconda3\\lib\\site-packages\\seaborn\\distributions.py:2619: FutureWarning: `distplot` is a deprecated function and will be removed in a future version. Please adapt your code to use either `displot` (a figure-level function with similar flexibility) or `histplot` (an axes-level function for histograms).\n",
      "  warnings.warn(msg, FutureWarning)\n"
     ]
    },
    {
     "data": {
      "text/plain": [
       "<AxesSubplot:xlabel='vote_average', ylabel='Density'>"
      ]
     },
     "execution_count": 6,
     "metadata": {},
     "output_type": "execute_result"
    },
    {
     "data": {
      "image/png": "[encoded data removed]",
      "text/plain": [
       "<Figure size 432x288 with 1 Axes>"
      ]
     },
     "metadata": {
      "needs_background": "light"
     },
     "output_type": "display_data"
    }
   ],
   "source": [
    "sb.distplot(tmdb.vote_average)"
   ]
  },
  {
   "cell_type": "markdown",
   "id": "5d1fef92",
   "metadata": {},
   "source": [
    "### Visualizo la frecuencia con parámetros: 'kde' (estimación de densidad de kernel), 'norm_hist' ( indica si se debe normalizar o no el histograma en el gráfico)"
   ]
  },
  {
   "cell_type": "code",
   "execution_count": 7,
   "id": "4aa3b91f",
   "metadata": {},
   "outputs": [
    {
     "name": "stderr",
     "output_type": "stream",
     "text": [
      "C:\\Users\\Carina\\anaconda3\\lib\\site-packages\\seaborn\\distributions.py:2619: FutureWarning: `distplot` is a deprecated function and will be removed in a future version. Please adapt your code to use either `displot` (a figure-level function with similar flexibility) or `histplot` (an axes-level function for histograms).\n",
      "  warnings.warn(msg, FutureWarning)\n"
     ]
    },
    {
     "data": {
      "text/plain": [
       "Text(0.5, 1.0, 'Grafico de distribución del Promedio de notas de TMDB')"
      ]
     },
     "execution_count": 7,
     "metadata": {},
     "output_type": "execute_result"
    },
    {
     "data": {
      "image/png": "[encoded data removed]",
      "text/plain": [
       "<Figure size 432x288 with 1 Axes>"
      ]
     },
     "metadata": {
      "needs_background": "light"
     },
     "output_type": "display_data"
    }
   ],
   "source": [
    "ax= sb.distplot(tmdb.vote_average, kde= False, norm_hist= False)\n",
    "ax.set(xlabel = \"Nota promedio\", ylabel = \"Frecuencia\")\n",
    "ax.set_title(\"Grafico de distribución del Promedio de notas de TMDB\")"
   ]
  },
  {
   "cell_type": "markdown",
   "id": "11b55e65",
   "metadata": {},
   "source": [
    "### Grafico una gráfica con boxplot"
   ]
  },
  {
   "cell_type": "markdown",
   "id": "20cf4946",
   "metadata": {},
   "source": [
    "####  Grafico mi diagrama de caja para representar la distribución de datos en un conjunto de datos. "
   ]
  },
  {
   "cell_type": "markdown",
   "id": "fb5ebe71",
   "metadata": {},
   "source": [
    "##### El resultado muestra la mediana  en el tercer cuartil"
   ]
  },
  {
   "cell_type": "code",
   "execution_count": 8,
   "id": "1419df46",
   "metadata": {},
   "outputs": [
    {
     "name": "stderr",
     "output_type": "stream",
     "text": [
      "C:\\Users\\Carina\\anaconda3\\lib\\site-packages\\seaborn\\_decorators.py:36: FutureWarning: Pass the following variable as a keyword arg: x. From version 0.12, the only valid positional argument will be `data`, and passing other arguments without an explicit keyword will result in an error or misinterpretation.\n",
      "  warnings.warn(\n"
     ]
    },
    {
     "data": {
      "text/plain": [
       "<AxesSubplot:xlabel='vote_average'>"
      ]
     },
     "execution_count": 8,
     "metadata": {},
     "output_type": "execute_result"
    },
    {
     "data": {
      "image/png": "[encoded data removed]",
      "text/plain": [
       "<Figure size 432x288 with 1 Axes>"
      ]
     },
     "metadata": {
      "needs_background": "light"
     },
     "output_type": "display_data"
    }
   ],
   "source": [
    "sb.boxplot(tmdb.vote_average)"
   ]
  },
  {
   "cell_type": "markdown",
   "id": "c0489b1b",
   "metadata": {},
   "source": [
    "### Realizo una consulta para ver mejor el promedio de las notas, hay peliculas con nota 0 y 10, para ver más a detalle realizo una query"
   ]
  },
  {
   "cell_type": "markdown",
   "id": "61904bf5",
   "metadata": {},
   "source": [
    "#### Utilizo 'query'  para filtrar y seleccionar filas del DataFrame "
   ]
  },
  {
   "cell_type": "code",
   "execution_count": 9,
   "id": "b2e413e5",
   "metadata": {},
   "outputs": [
    {
     "data": {
      "text/html": [
       "<div>\n",
       "<style scoped>\n",
       "    .dataframe tbody tr th:only-of-type {\n",
       "        vertical-align: middle;\n",
       "    }\n",
       "\n",
       "    .dataframe tbody tr th {\n",
       "        vertical-align: top;\n",
       "    }\n",
       "\n",
       "    .dataframe thead th {\n",
       "        text-align: right;\n",
       "    }\n",
       "</style>\n",
       "<table border=\"1\" class=\"dataframe\">\n",
       "  <thead>\n",
       "    <tr style=\"text-align: right;\">\n",
       "      <th></th>\n",
       "      <th>budget</th>\n",
       "      <th>genres</th>\n",
       "      <th>homepage</th>\n",
       "      <th>id</th>\n",
       "      <th>keywords</th>\n",
       "      <th>original_language</th>\n",
       "      <th>original_title</th>\n",
       "      <th>overview</th>\n",
       "      <th>popularity</th>\n",
       "      <th>production_companies</th>\n",
       "      <th>production_countries</th>\n",
       "      <th>release_date</th>\n",
       "      <th>revenue</th>\n",
       "      <th>runtime</th>\n",
       "      <th>spoken_languages</th>\n",
       "      <th>status</th>\n",
       "      <th>tagline</th>\n",
       "      <th>title</th>\n",
       "      <th>vote_average</th>\n",
       "      <th>vote_count</th>\n",
       "    </tr>\n",
       "  </thead>\n",
       "  <tbody>\n",
       "    <tr>\n",
       "      <th>1464</th>\n",
       "      <td>0</td>\n",
       "      <td>[{\"id\": 18, \"name\": \"Drama\"}, {\"id\": 80, \"name...</td>\n",
       "      <td>NaN</td>\n",
       "      <td>310706</td>\n",
       "      <td>[]</td>\n",
       "      <td>en</td>\n",
       "      <td>Black Water Transit</td>\n",
       "      <td>In this action thriller set in post-Katrina Ne...</td>\n",
       "      <td>0.126738</td>\n",
       "      <td>[{\"name\": \"Capitol Films\", \"id\": 826}]</td>\n",
       "      <td>[{\"iso_3166_1\": \"US\", \"name\": \"United States o...</td>\n",
       "      <td>2009-05-13</td>\n",
       "      <td>0</td>\n",
       "      <td>100.0</td>\n",
       "      <td>[{\"iso_639_1\": \"en\", \"name\": \"English\"}]</td>\n",
       "      <td>Released</td>\n",
       "      <td>NaN</td>\n",
       "      <td>Black Water Transit</td>\n",
       "      <td>0.0</td>\n",
       "      <td>0</td>\n",
       "    </tr>\n",
       "    <tr>\n",
       "      <th>3669</th>\n",
       "      <td>0</td>\n",
       "      <td>[{\"id\": 35, \"name\": \"Comedy\"}, {\"id\": 18, \"nam...</td>\n",
       "      <td>http://www.romeothemovie.com/</td>\n",
       "      <td>113406</td>\n",
       "      <td>[]</td>\n",
       "      <td>en</td>\n",
       "      <td>Should've Been Romeo</td>\n",
       "      <td>A self-centered, middle-aged pitchman for a po...</td>\n",
       "      <td>0.407030</td>\n",
       "      <td>[{\"name\": \"Phillybrook Films\", \"id\": 65147}]</td>\n",
       "      <td>[{\"iso_3166_1\": \"US\", \"name\": \"United States o...</td>\n",
       "      <td>2012-04-28</td>\n",
       "      <td>0</td>\n",
       "      <td>0.0</td>\n",
       "      <td>[{\"iso_639_1\": \"en\", \"name\": \"English\"}]</td>\n",
       "      <td>Released</td>\n",
       "      <td>Even Shakespeare didn't see this one coming.</td>\n",
       "      <td>Should've Been Romeo</td>\n",
       "      <td>0.0</td>\n",
       "      <td>0</td>\n",
       "    </tr>\n",
       "    <tr>\n",
       "      <th>3670</th>\n",
       "      <td>0</td>\n",
       "      <td>[{\"id\": 10751, \"name\": \"Family\"}]</td>\n",
       "      <td>NaN</td>\n",
       "      <td>447027</td>\n",
       "      <td>[]</td>\n",
       "      <td>en</td>\n",
       "      <td>Running Forever</td>\n",
       "      <td>After being estranged since her mother's death...</td>\n",
       "      <td>0.028756</td>\n",
       "      <td>[{\"name\": \"New Kingdom Pictures\", \"id\": 41671}]</td>\n",
       "      <td>[{\"iso_3166_1\": \"US\", \"name\": \"United States o...</td>\n",
       "      <td>2015-10-27</td>\n",
       "      <td>0</td>\n",
       "      <td>88.0</td>\n",
       "      <td>[]</td>\n",
       "      <td>Released</td>\n",
       "      <td>NaN</td>\n",
       "      <td>Running Forever</td>\n",
       "      <td>0.0</td>\n",
       "      <td>0</td>\n",
       "    </tr>\n",
       "    <tr>\n",
       "      <th>3852</th>\n",
       "      <td>0</td>\n",
       "      <td>[{\"id\": 18, \"name\": \"Drama\"}]</td>\n",
       "      <td>NaN</td>\n",
       "      <td>395766</td>\n",
       "      <td>[{\"id\": 11162, \"name\": \"miniseries\"}]</td>\n",
       "      <td>en</td>\n",
       "      <td>The Secret</td>\n",
       "      <td>The Secret is the story of a real-life double ...</td>\n",
       "      <td>0.042346</td>\n",
       "      <td>[]</td>\n",
       "      <td>[]</td>\n",
       "      <td>2016-04-29</td>\n",
       "      <td>0</td>\n",
       "      <td>200.0</td>\n",
       "      <td>[]</td>\n",
       "      <td>Released</td>\n",
       "      <td>NaN</td>\n",
       "      <td>The Secret</td>\n",
       "      <td>0.0</td>\n",
       "      <td>0</td>\n",
       "    </tr>\n",
       "    <tr>\n",
       "      <th>3855</th>\n",
       "      <td>3500000</td>\n",
       "      <td>[{\"id\": 99, \"name\": \"Documentary\"}]</td>\n",
       "      <td>http://www.timetochoose.com</td>\n",
       "      <td>370662</td>\n",
       "      <td>[{\"id\": 2210, \"name\": \"climate change\"}, {\"id\"...</td>\n",
       "      <td>en</td>\n",
       "      <td>Time to Choose</td>\n",
       "      <td>Academy Award® winning director Charles Fergus...</td>\n",
       "      <td>1.618138</td>\n",
       "      <td>[{\"name\": \"Representational Pictures\", \"id\": 8...</td>\n",
       "      <td>[{\"iso_3166_1\": \"US\", \"name\": \"United States o...</td>\n",
       "      <td>2015-09-04</td>\n",
       "      <td>0</td>\n",
       "      <td>100.0</td>\n",
       "      <td>[{\"iso_639_1\": \"en\", \"name\": \"English\"}]</td>\n",
       "      <td>Released</td>\n",
       "      <td>Climate change for good.</td>\n",
       "      <td>Time to Choose</td>\n",
       "      <td>0.0</td>\n",
       "      <td>0</td>\n",
       "    </tr>\n",
       "    <tr>\n",
       "      <th>...</th>\n",
       "      <td>...</td>\n",
       "      <td>...</td>\n",
       "      <td>...</td>\n",
       "      <td>...</td>\n",
       "      <td>...</td>\n",
       "      <td>...</td>\n",
       "      <td>...</td>\n",
       "      <td>...</td>\n",
       "      <td>...</td>\n",
       "      <td>...</td>\n",
       "      <td>...</td>\n",
       "      <td>...</td>\n",
       "      <td>...</td>\n",
       "      <td>...</td>\n",
       "      <td>...</td>\n",
       "      <td>...</td>\n",
       "      <td>...</td>\n",
       "      <td>...</td>\n",
       "      <td>...</td>\n",
       "      <td>...</td>\n",
       "    </tr>\n",
       "    <tr>\n",
       "      <th>4769</th>\n",
       "      <td>0</td>\n",
       "      <td>[{\"id\": 28, \"name\": \"Action\"}, {\"id\": 37, \"nam...</td>\n",
       "      <td>NaN</td>\n",
       "      <td>69382</td>\n",
       "      <td>[]</td>\n",
       "      <td>en</td>\n",
       "      <td>The Legend of God's Gun</td>\n",
       "      <td>A gun-slinging preacher returns to the debauch...</td>\n",
       "      <td>0.003582</td>\n",
       "      <td>[]</td>\n",
       "      <td>[]</td>\n",
       "      <td>2007-07-08</td>\n",
       "      <td>0</td>\n",
       "      <td>78.0</td>\n",
       "      <td>[]</td>\n",
       "      <td>Released</td>\n",
       "      <td>NaN</td>\n",
       "      <td>The Legend of God's Gun</td>\n",
       "      <td>0.0</td>\n",
       "      <td>0</td>\n",
       "    </tr>\n",
       "    <tr>\n",
       "      <th>4771</th>\n",
       "      <td>0</td>\n",
       "      <td>[{\"id\": 27, \"name\": \"Horror\"}]</td>\n",
       "      <td>NaN</td>\n",
       "      <td>220490</td>\n",
       "      <td>[]</td>\n",
       "      <td>en</td>\n",
       "      <td>Her Cry: La Llorona Investigation</td>\n",
       "      <td>Crew of \"Paranormal Legends\" went to film thei...</td>\n",
       "      <td>0.056459</td>\n",
       "      <td>[]</td>\n",
       "      <td>[]</td>\n",
       "      <td>2013-04-19</td>\n",
       "      <td>0</td>\n",
       "      <td>89.0</td>\n",
       "      <td>[]</td>\n",
       "      <td>Released</td>\n",
       "      <td>NaN</td>\n",
       "      <td>Her Cry: La Llorona Investigation</td>\n",
       "      <td>0.0</td>\n",
       "      <td>0</td>\n",
       "    </tr>\n",
       "    <tr>\n",
       "      <th>4780</th>\n",
       "      <td>0</td>\n",
       "      <td>[{\"id\": 53, \"name\": \"Thriller\"}, {\"id\": 80, \"n...</td>\n",
       "      <td>NaN</td>\n",
       "      <td>366967</td>\n",
       "      <td>[]</td>\n",
       "      <td>en</td>\n",
       "      <td>Dutch Kills</td>\n",
       "      <td>A desperate ex-con is forced to gather his old...</td>\n",
       "      <td>0.038143</td>\n",
       "      <td>[]</td>\n",
       "      <td>[]</td>\n",
       "      <td>2015-10-02</td>\n",
       "      <td>0</td>\n",
       "      <td>90.0</td>\n",
       "      <td>[]</td>\n",
       "      <td>Released</td>\n",
       "      <td>NaN</td>\n",
       "      <td>Dutch Kills</td>\n",
       "      <td>0.0</td>\n",
       "      <td>0</td>\n",
       "    </tr>\n",
       "    <tr>\n",
       "      <th>4785</th>\n",
       "      <td>0</td>\n",
       "      <td>[{\"id\": 18, \"name\": \"Drama\"}]</td>\n",
       "      <td>NaN</td>\n",
       "      <td>287625</td>\n",
       "      <td>[]</td>\n",
       "      <td>en</td>\n",
       "      <td>Stories of Our Lives</td>\n",
       "      <td>Created by the members of a Nairobi-based arts...</td>\n",
       "      <td>0.327794</td>\n",
       "      <td>[]</td>\n",
       "      <td>[{\"iso_3166_1\": \"KE\", \"name\": \"Kenya\"}]</td>\n",
       "      <td>2014-09-05</td>\n",
       "      <td>0</td>\n",
       "      <td>60.0</td>\n",
       "      <td>[{\"iso_639_1\": \"sw\", \"name\": \"Kiswahili\"}, {\"i...</td>\n",
       "      <td>Released</td>\n",
       "      <td>NaN</td>\n",
       "      <td>Stories of Our Lives</td>\n",
       "      <td>0.0</td>\n",
       "      <td>0</td>\n",
       "    </tr>\n",
       "    <tr>\n",
       "      <th>4794</th>\n",
       "      <td>0</td>\n",
       "      <td>[{\"id\": 53, \"name\": \"Thriller\"}, {\"id\": 27, \"n...</td>\n",
       "      <td>NaN</td>\n",
       "      <td>286939</td>\n",
       "      <td>[]</td>\n",
       "      <td>en</td>\n",
       "      <td>Sanctuary: Quite a Conundrum</td>\n",
       "      <td>It should have been just a normal day of sex, ...</td>\n",
       "      <td>0.166513</td>\n",
       "      <td>[{\"name\": \"Gold Lion Films\", \"id\": 37870}, {\"n...</td>\n",
       "      <td>[{\"iso_3166_1\": \"US\", \"name\": \"United States o...</td>\n",
       "      <td>2012-01-20</td>\n",
       "      <td>0</td>\n",
       "      <td>82.0</td>\n",
       "      <td>[{\"iso_639_1\": \"en\", \"name\": \"English\"}]</td>\n",
       "      <td>Released</td>\n",
       "      <td>NaN</td>\n",
       "      <td>Sanctuary: Quite a Conundrum</td>\n",
       "      <td>0.0</td>\n",
       "      <td>0</td>\n",
       "    </tr>\n",
       "  </tbody>\n",
       "</table>\n",
       "<p>63 rows × 20 columns</p>\n",
       "</div>"
      ],
      "text/plain": [
       "       budget                                             genres  \\\n",
       "1464        0  [{\"id\": 18, \"name\": \"Drama\"}, {\"id\": 80, \"name...   \n",
       "3669        0  [{\"id\": 35, \"name\": \"Comedy\"}, {\"id\": 18, \"nam...   \n",
       "3670        0                  [{\"id\": 10751, \"name\": \"Family\"}]   \n",
       "3852        0                      [{\"id\": 18, \"name\": \"Drama\"}]   \n",
       "3855  3500000                [{\"id\": 99, \"name\": \"Documentary\"}]   \n",
       "...       ...                                                ...   \n",
       "4769        0  [{\"id\": 28, \"name\": \"Action\"}, {\"id\": 37, \"nam...   \n",
       "4771        0                     [{\"id\": 27, \"name\": \"Horror\"}]   \n",
       "4780        0  [{\"id\": 53, \"name\": \"Thriller\"}, {\"id\": 80, \"n...   \n",
       "4785        0                      [{\"id\": 18, \"name\": \"Drama\"}]   \n",
       "4794        0  [{\"id\": 53, \"name\": \"Thriller\"}, {\"id\": 27, \"n...   \n",
       "\n",
       "                           homepage      id  \\\n",
       "1464                            NaN  310706   \n",
       "3669  http://www.romeothemovie.com/  113406   \n",
       "3670                            NaN  447027   \n",
       "3852                            NaN  395766   \n",
       "3855    http://www.timetochoose.com  370662   \n",
       "...                             ...     ...   \n",
       "4769                            NaN   69382   \n",
       "4771                            NaN  220490   \n",
       "4780                            NaN  366967   \n",
       "4785                            NaN  287625   \n",
       "4794                            NaN  286939   \n",
       "\n",
       "                                               keywords original_language  \\\n",
       "1464                                                 []                en   \n",
       "3669                                                 []                en   \n",
       "3670                                                 []                en   \n",
       "3852              [{\"id\": 11162, \"name\": \"miniseries\"}]                en   \n",
       "3855  [{\"id\": 2210, \"name\": \"climate change\"}, {\"id\"...                en   \n",
       "...                                                 ...               ...   \n",
       "4769                                                 []                en   \n",
       "4771                                                 []                en   \n",
       "4780                                                 []                en   \n",
       "4785                                                 []                en   \n",
       "4794                                                 []                en   \n",
       "\n",
       "                         original_title  \\\n",
       "1464                Black Water Transit   \n",
       "3669               Should've Been Romeo   \n",
       "3670                    Running Forever   \n",
       "3852                         The Secret   \n",
       "3855                     Time to Choose   \n",
       "...                                 ...   \n",
       "4769            The Legend of God's Gun   \n",
       "4771  Her Cry: La Llorona Investigation   \n",
       "4780                        Dutch Kills   \n",
       "4785               Stories of Our Lives   \n",
       "4794       Sanctuary: Quite a Conundrum   \n",
       "\n",
       "                                               overview  popularity  \\\n",
       "1464  In this action thriller set in post-Katrina Ne...    0.126738   \n",
       "3669  A self-centered, middle-aged pitchman for a po...    0.407030   \n",
       "3670  After being estranged since her mother's death...    0.028756   \n",
       "3852  The Secret is the story of a real-life double ...    0.042346   \n",
       "3855  Academy Award® winning director Charles Fergus...    1.618138   \n",
       "...                                                 ...         ...   \n",
       "4769  A gun-slinging preacher returns to the debauch...    0.003582   \n",
       "4771  Crew of \"Paranormal Legends\" went to film thei...    0.056459   \n",
       "4780  A desperate ex-con is forced to gather his old...    0.038143   \n",
       "4785  Created by the members of a Nairobi-based arts...    0.327794   \n",
       "4794  It should have been just a normal day of sex, ...    0.166513   \n",
       "\n",
       "                                   production_companies  \\\n",
       "1464             [{\"name\": \"Capitol Films\", \"id\": 826}]   \n",
       "3669       [{\"name\": \"Phillybrook Films\", \"id\": 65147}]   \n",
       "3670    [{\"name\": \"New Kingdom Pictures\", \"id\": 41671}]   \n",
       "3852                                                 []   \n",
       "3855  [{\"name\": \"Representational Pictures\", \"id\": 8...   \n",
       "...                                                 ...   \n",
       "4769                                                 []   \n",
       "4771                                                 []   \n",
       "4780                                                 []   \n",
       "4785                                                 []   \n",
       "4794  [{\"name\": \"Gold Lion Films\", \"id\": 37870}, {\"n...   \n",
       "\n",
       "                                   production_countries release_date  revenue  \\\n",
       "1464  [{\"iso_3166_1\": \"US\", \"name\": \"United States o...   2009-05-13        0   \n",
       "3669  [{\"iso_3166_1\": \"US\", \"name\": \"United States o...   2012-04-28        0   \n",
       "3670  [{\"iso_3166_1\": \"US\", \"name\": \"United States o...   2015-10-27        0   \n",
       "3852                                                 []   2016-04-29        0   \n",
       "3855  [{\"iso_3166_1\": \"US\", \"name\": \"United States o...   2015-09-04        0   \n",
       "...                                                 ...          ...      ...   \n",
       "4769                                                 []   2007-07-08        0   \n",
       "4771                                                 []   2013-04-19        0   \n",
       "4780                                                 []   2015-10-02        0   \n",
       "4785            [{\"iso_3166_1\": \"KE\", \"name\": \"Kenya\"}]   2014-09-05        0   \n",
       "4794  [{\"iso_3166_1\": \"US\", \"name\": \"United States o...   2012-01-20        0   \n",
       "\n",
       "      runtime                                   spoken_languages    status  \\\n",
       "1464    100.0           [{\"iso_639_1\": \"en\", \"name\": \"English\"}]  Released   \n",
       "3669      0.0           [{\"iso_639_1\": \"en\", \"name\": \"English\"}]  Released   \n",
       "3670     88.0                                                 []  Released   \n",
       "3852    200.0                                                 []  Released   \n",
       "3855    100.0           [{\"iso_639_1\": \"en\", \"name\": \"English\"}]  Released   \n",
       "...       ...                                                ...       ...   \n",
       "4769     78.0                                                 []  Released   \n",
       "4771     89.0                                                 []  Released   \n",
       "4780     90.0                                                 []  Released   \n",
       "4785     60.0  [{\"iso_639_1\": \"sw\", \"name\": \"Kiswahili\"}, {\"i...  Released   \n",
       "4794     82.0           [{\"iso_639_1\": \"en\", \"name\": \"English\"}]  Released   \n",
       "\n",
       "                                           tagline  \\\n",
       "1464                                           NaN   \n",
       "3669  Even Shakespeare didn't see this one coming.   \n",
       "3670                                           NaN   \n",
       "3852                                           NaN   \n",
       "3855                      Climate change for good.   \n",
       "...                                            ...   \n",
       "4769                                           NaN   \n",
       "4771                                           NaN   \n",
       "4780                                           NaN   \n",
       "4785                                           NaN   \n",
       "4794                                           NaN   \n",
       "\n",
       "                                  title  vote_average  vote_count  \n",
       "1464                Black Water Transit           0.0           0  \n",
       "3669               Should've Been Romeo           0.0           0  \n",
       "3670                    Running Forever           0.0           0  \n",
       "3852                         The Secret           0.0           0  \n",
       "3855                     Time to Choose           0.0           0  \n",
       "...                                 ...           ...         ...  \n",
       "4769            The Legend of God's Gun           0.0           0  \n",
       "4771  Her Cry: La Llorona Investigation           0.0           0  \n",
       "4780                        Dutch Kills           0.0           0  \n",
       "4785               Stories of Our Lives           0.0           0  \n",
       "4794       Sanctuary: Quite a Conundrum           0.0           0  \n",
       "\n",
       "[63 rows x 20 columns]"
      ]
     },
     "execution_count": 9,
     "metadata": {},
     "output_type": "execute_result"
    }
   ],
   "source": [
    "tmdb.query(\"vote_average== 0\")"
   ]
  },
  {
   "cell_type": "markdown",
   "id": "49f4c498",
   "metadata": {},
   "source": [
    "### Verifico anteriormente que existe un error de datos, pues no tiene nota porque no tuvo votos, exluyo esta información porque la distribución de las notas es afectada."
   ]
  },
  {
   "cell_type": "markdown",
   "id": "f3867ec0",
   "metadata": {},
   "source": [
    "### Realizo otra consulta dode el promedio de votos sea igual a 10"
   ]
  },
  {
   "cell_type": "code",
   "execution_count": 10,
   "id": "55c123e9",
   "metadata": {},
   "outputs": [
    {
     "data": {
      "text/html": [
       "<div>\n",
       "<style scoped>\n",
       "    .dataframe tbody tr th:only-of-type {\n",
       "        vertical-align: middle;\n",
       "    }\n",
       "\n",
       "    .dataframe tbody tr th {\n",
       "        vertical-align: top;\n",
       "    }\n",
       "\n",
       "    .dataframe thead th {\n",
       "        text-align: right;\n",
       "    }\n",
       "</style>\n",
       "<table border=\"1\" class=\"dataframe\">\n",
       "  <thead>\n",
       "    <tr style=\"text-align: right;\">\n",
       "      <th></th>\n",
       "      <th>budget</th>\n",
       "      <th>genres</th>\n",
       "      <th>homepage</th>\n",
       "      <th>id</th>\n",
       "      <th>keywords</th>\n",
       "      <th>original_language</th>\n",
       "      <th>original_title</th>\n",
       "      <th>overview</th>\n",
       "      <th>popularity</th>\n",
       "      <th>production_companies</th>\n",
       "      <th>production_countries</th>\n",
       "      <th>release_date</th>\n",
       "      <th>revenue</th>\n",
       "      <th>runtime</th>\n",
       "      <th>spoken_languages</th>\n",
       "      <th>status</th>\n",
       "      <th>tagline</th>\n",
       "      <th>title</th>\n",
       "      <th>vote_average</th>\n",
       "      <th>vote_count</th>\n",
       "    </tr>\n",
       "  </thead>\n",
       "  <tbody>\n",
       "    <tr>\n",
       "      <th>3519</th>\n",
       "      <td>0</td>\n",
       "      <td>[{\"id\": 35, \"name\": \"Comedy\"}]</td>\n",
       "      <td>NaN</td>\n",
       "      <td>89861</td>\n",
       "      <td>[{\"id\": 131, \"name\": \"italy\"}, {\"id\": 8250, \"n...</td>\n",
       "      <td>en</td>\n",
       "      <td>Stiff Upper Lips</td>\n",
       "      <td>Stiff Upper Lips is a broad parody of British ...</td>\n",
       "      <td>0.356495</td>\n",
       "      <td>[]</td>\n",
       "      <td>[{\"iso_3166_1\": \"GB\", \"name\": \"United Kingdom\"...</td>\n",
       "      <td>1998-06-12</td>\n",
       "      <td>0</td>\n",
       "      <td>99.0</td>\n",
       "      <td>[{\"iso_639_1\": \"en\", \"name\": \"English\"}]</td>\n",
       "      <td>Released</td>\n",
       "      <td>NaN</td>\n",
       "      <td>Stiff Upper Lips</td>\n",
       "      <td>10.0</td>\n",
       "      <td>1</td>\n",
       "    </tr>\n",
       "    <tr>\n",
       "      <th>4045</th>\n",
       "      <td>0</td>\n",
       "      <td>[{\"id\": 35, \"name\": \"Comedy\"}, {\"id\": 18, \"nam...</td>\n",
       "      <td>NaN</td>\n",
       "      <td>78373</td>\n",
       "      <td>[{\"id\": 1415, \"name\": \"small town\"}, {\"id\": 15...</td>\n",
       "      <td>en</td>\n",
       "      <td>Dancer, Texas Pop. 81</td>\n",
       "      <td>Four guys, best friends, have grown up togethe...</td>\n",
       "      <td>0.376662</td>\n",
       "      <td>[{\"name\": \"HSX Films\", \"id\": 4714}, {\"name\": \"...</td>\n",
       "      <td>[{\"iso_3166_1\": \"US\", \"name\": \"United States o...</td>\n",
       "      <td>1998-05-01</td>\n",
       "      <td>565592</td>\n",
       "      <td>97.0</td>\n",
       "      <td>[{\"iso_639_1\": \"en\", \"name\": \"English\"}]</td>\n",
       "      <td>Released</td>\n",
       "      <td>in the middle of nowhere they had everything</td>\n",
       "      <td>Dancer, Texas Pop. 81</td>\n",
       "      <td>10.0</td>\n",
       "      <td>1</td>\n",
       "    </tr>\n",
       "    <tr>\n",
       "      <th>4247</th>\n",
       "      <td>1</td>\n",
       "      <td>[{\"id\": 10749, \"name\": \"Romance\"}, {\"id\": 35, ...</td>\n",
       "      <td>NaN</td>\n",
       "      <td>361505</td>\n",
       "      <td>[]</td>\n",
       "      <td>en</td>\n",
       "      <td>Me You and Five Bucks</td>\n",
       "      <td>A womanizing yet lovable loser, Charlie, a wai...</td>\n",
       "      <td>0.094105</td>\n",
       "      <td>[]</td>\n",
       "      <td>[]</td>\n",
       "      <td>2015-07-07</td>\n",
       "      <td>0</td>\n",
       "      <td>90.0</td>\n",
       "      <td>[]</td>\n",
       "      <td>Released</td>\n",
       "      <td>A story about second, second chances</td>\n",
       "      <td>Me You and Five Bucks</td>\n",
       "      <td>10.0</td>\n",
       "      <td>2</td>\n",
       "    </tr>\n",
       "    <tr>\n",
       "      <th>4662</th>\n",
       "      <td>0</td>\n",
       "      <td>[{\"id\": 35, \"name\": \"Comedy\"}]</td>\n",
       "      <td>NaN</td>\n",
       "      <td>40963</td>\n",
       "      <td>[{\"id\": 10183, \"name\": \"independent film\"}]</td>\n",
       "      <td>en</td>\n",
       "      <td>Little Big Top</td>\n",
       "      <td>An aging out of work clown returns to his smal...</td>\n",
       "      <td>0.092100</td>\n",
       "      <td>[{\"name\": \"Fly High Films\", \"id\": 24248}]</td>\n",
       "      <td>[{\"iso_3166_1\": \"US\", \"name\": \"United States o...</td>\n",
       "      <td>2006-01-01</td>\n",
       "      <td>0</td>\n",
       "      <td>0.0</td>\n",
       "      <td>[{\"iso_639_1\": \"en\", \"name\": \"English\"}]</td>\n",
       "      <td>Rumored</td>\n",
       "      <td>NaN</td>\n",
       "      <td>Little Big Top</td>\n",
       "      <td>10.0</td>\n",
       "      <td>1</td>\n",
       "    </tr>\n",
       "  </tbody>\n",
       "</table>\n",
       "</div>"
      ],
      "text/plain": [
       "      budget                                             genres homepage  \\\n",
       "3519       0                     [{\"id\": 35, \"name\": \"Comedy\"}]      NaN   \n",
       "4045       0  [{\"id\": 35, \"name\": \"Comedy\"}, {\"id\": 18, \"nam...      NaN   \n",
       "4247       1  [{\"id\": 10749, \"name\": \"Romance\"}, {\"id\": 35, ...      NaN   \n",
       "4662       0                     [{\"id\": 35, \"name\": \"Comedy\"}]      NaN   \n",
       "\n",
       "          id                                           keywords  \\\n",
       "3519   89861  [{\"id\": 131, \"name\": \"italy\"}, {\"id\": 8250, \"n...   \n",
       "4045   78373  [{\"id\": 1415, \"name\": \"small town\"}, {\"id\": 15...   \n",
       "4247  361505                                                 []   \n",
       "4662   40963        [{\"id\": 10183, \"name\": \"independent film\"}]   \n",
       "\n",
       "     original_language         original_title  \\\n",
       "3519                en       Stiff Upper Lips   \n",
       "4045                en  Dancer, Texas Pop. 81   \n",
       "4247                en  Me You and Five Bucks   \n",
       "4662                en         Little Big Top   \n",
       "\n",
       "                                               overview  popularity  \\\n",
       "3519  Stiff Upper Lips is a broad parody of British ...    0.356495   \n",
       "4045  Four guys, best friends, have grown up togethe...    0.376662   \n",
       "4247  A womanizing yet lovable loser, Charlie, a wai...    0.094105   \n",
       "4662  An aging out of work clown returns to his smal...    0.092100   \n",
       "\n",
       "                                   production_companies  \\\n",
       "3519                                                 []   \n",
       "4045  [{\"name\": \"HSX Films\", \"id\": 4714}, {\"name\": \"...   \n",
       "4247                                                 []   \n",
       "4662          [{\"name\": \"Fly High Films\", \"id\": 24248}]   \n",
       "\n",
       "                                   production_countries release_date  revenue  \\\n",
       "3519  [{\"iso_3166_1\": \"GB\", \"name\": \"United Kingdom\"...   1998-06-12        0   \n",
       "4045  [{\"iso_3166_1\": \"US\", \"name\": \"United States o...   1998-05-01   565592   \n",
       "4247                                                 []   2015-07-07        0   \n",
       "4662  [{\"iso_3166_1\": \"US\", \"name\": \"United States o...   2006-01-01        0   \n",
       "\n",
       "      runtime                          spoken_languages    status  \\\n",
       "3519     99.0  [{\"iso_639_1\": \"en\", \"name\": \"English\"}]  Released   \n",
       "4045     97.0  [{\"iso_639_1\": \"en\", \"name\": \"English\"}]  Released   \n",
       "4247     90.0                                        []  Released   \n",
       "4662      0.0  [{\"iso_639_1\": \"en\", \"name\": \"English\"}]   Rumored   \n",
       "\n",
       "                                           tagline                  title  \\\n",
       "3519                                           NaN       Stiff Upper Lips   \n",
       "4045  in the middle of nowhere they had everything  Dancer, Texas Pop. 81   \n",
       "4247          A story about second, second chances  Me You and Five Bucks   \n",
       "4662                                           NaN         Little Big Top   \n",
       "\n",
       "      vote_average  vote_count  \n",
       "3519          10.0           1  \n",
       "4045          10.0           1  \n",
       "4247          10.0           2  \n",
       "4662          10.0           1  "
      ]
     },
     "execution_count": 10,
     "metadata": {},
     "output_type": "execute_result"
    }
   ],
   "source": [
    "tmdb.query(\"vote_average== 10\")"
   ]
  },
  {
   "cell_type": "markdown",
   "id": "ec422804",
   "metadata": {},
   "source": [
    "#### Se deben dejar número considerable de votos, para no afectar la distribución muestro cuantos votos tiene"
   ]
  },
  {
   "cell_type": "markdown",
   "id": "71018f64",
   "metadata": {},
   "source": [
    "#### Uso unicamente peliculas que tienen 10 o más votos"
   ]
  },
  {
   "cell_type": "code",
   "execution_count": 11,
   "id": "e25dc466",
   "metadata": {},
   "outputs": [],
   "source": [
    "tmdb_10_o_mas_votos = tmdb.query(\"vote_count >= 10\")"
   ]
  },
  {
   "cell_type": "markdown",
   "id": "26d463a0",
   "metadata": {},
   "source": [
    "### Realizo graficos que había echo anteriormente"
   ]
  },
  {
   "cell_type": "markdown",
   "id": "6860e203",
   "metadata": {},
   "source": [
    "#### Visualmente hay una leve tendencia del gráfico hacia la cola izquierda, o sea, la distribución es mayor ahí,  los datos están más agrupados entre 6.3, más o menos, con aproximación visual, entre 6.3- 8, están agrupados los datos y antes de la media, antes del promedio, los datos están más distribuidos. Además la cola de la curva a la izquierda es mayor. "
   ]
  },
  {
   "cell_type": "code",
   "execution_count": 12,
   "id": "b7b6c3fc",
   "metadata": {},
   "outputs": [
    {
     "name": "stderr",
     "output_type": "stream",
     "text": [
      "C:\\Users\\Carina\\anaconda3\\lib\\site-packages\\seaborn\\distributions.py:2619: FutureWarning: `distplot` is a deprecated function and will be removed in a future version. Please adapt your code to use either `displot` (a figure-level function with similar flexibility) or `histplot` (an axes-level function for histograms).\n",
      "  warnings.warn(msg, FutureWarning)\n"
     ]
    },
    {
     "data": {
      "text/plain": [
       "Text(0.5, 1.0, 'Grafico de distribución del Promedio de notas de TMDB')"
      ]
     },
     "execution_count": 12,
     "metadata": {},
     "output_type": "execute_result"
    },
    {
     "data": {
      "image/png": "[encoded data removed]",
      "text/plain": [
       "<Figure size 432x288 with 1 Axes>"
      ]
     },
     "metadata": {
      "needs_background": "light"
     },
     "output_type": "display_data"
    }
   ],
   "source": [
    "ax= sb.distplot(tmdb_10_o_mas_votos.vote_average)\n",
    "ax.set(xlabel = \"Nota promedio\", ylabel = \"Densidad\")\n",
    "ax.set_title(\"Grafico de distribución del Promedio de notas de TMDB\")"
   ]
  },
  {
   "cell_type": "markdown",
   "id": "2d8f4070",
   "metadata": {},
   "source": [
    "### Cambio los parámetros que había definido anteriormente, que era kde, con minúscula, kde = False para eliminar la curva. Y hist_norm para graficar la frecuencia y no la curva normalizada. También false. \n",
    "#### Desactivo esos dos parámetros que en distplot están por default como verdaderos."
   ]
  },
  {
   "cell_type": "code",
   "execution_count": 13,
   "id": "a3d81e1b",
   "metadata": {},
   "outputs": [
    {
     "name": "stderr",
     "output_type": "stream",
     "text": [
      "C:\\Users\\Carina\\anaconda3\\lib\\site-packages\\seaborn\\distributions.py:2619: FutureWarning: `distplot` is a deprecated function and will be removed in a future version. Please adapt your code to use either `displot` (a figure-level function with similar flexibility) or `histplot` (an axes-level function for histograms).\n",
      "  warnings.warn(msg, FutureWarning)\n"
     ]
    },
    {
     "data": {
      "text/plain": [
       "Text(0.5, 1.0, 'Grafico de distribución del Promedio de notas de TMDB')"
      ]
     },
     "execution_count": 13,
     "metadata": {},
     "output_type": "execute_result"
    },
    {
     "data": {
      "image/png": "[encoded data removed]",
      "text/plain": [
       "<Figure size 432x288 with 1 Axes>"
      ]
     },
     "metadata": {
      "needs_background": "light"
     },
     "output_type": "display_data"
    }
   ],
   "source": [
    "ax= sb.distplot(tmdb_10_o_mas_votos.vote_average, kde= False, norm_hist= False)\n",
    "ax.set(xlabel = \"Nota promedio\", ylabel = \"Frecuencia\")\n",
    "ax.set_title(\"Grafico de distribución del Promedio de notas de TMDB\")"
   ]
  },
  {
   "cell_type": "markdown",
   "id": "6152bfda",
   "metadata": {},
   "source": [
    "### Nuevo gráfico con diagrama de caja"
   ]
  },
  {
   "cell_type": "markdown",
   "id": "e0f83453",
   "metadata": {},
   "source": [
    "#### Ya no tengo valores 0. En el gráfico de boxplot también visualmente puedo destacar que la caja,el rectángulo a la derecha que vendría a ser entre la media y el tercer cuartil es más pequeño. El área es menor que el área del primero al segundo cuartil, que es la mediana.\n",
    "\n",
    "#### El área del primero al segundo cuartil es mayor, lo que demuestra que mis datos están menos densos al lado izquierdo de la media. Y tengo mis datos outliers conocidos que están fuera de la distribución de los datos."
   ]
  },
  {
   "cell_type": "code",
   "execution_count": 14,
   "id": "99449309",
   "metadata": {},
   "outputs": [
    {
     "name": "stderr",
     "output_type": "stream",
     "text": [
      "C:\\Users\\Carina\\anaconda3\\lib\\site-packages\\seaborn\\_decorators.py:36: FutureWarning: Pass the following variable as a keyword arg: x. From version 0.12, the only valid positional argument will be `data`, and passing other arguments without an explicit keyword will result in an error or misinterpretation.\n",
      "  warnings.warn(\n"
     ]
    },
    {
     "data": {
      "text/plain": [
       "Text(0.5, 1.0, 'Grafico de distribución del Promedio de notas de TMDB')"
      ]
     },
     "execution_count": 14,
     "metadata": {},
     "output_type": "execute_result"
    },
    {
     "data": {
      "image/png": "[encoded data removed]",
      "text/plain": [
       "<Figure size 432x288 with 1 Axes>"
      ]
     },
     "metadata": {
      "needs_background": "light"
     },
     "output_type": "display_data"
    }
   ],
   "source": [
    "ax= sb.boxplot( tmdb_10_o_mas_votos.vote_average)\n",
    "ax.set(xlabel = \"Nota promedio\")\n",
    "ax.set_title(\"Grafico de distribución del Promedio de notas de TMDB\")"
   ]
  },
  {
   "cell_type": "markdown",
   "id": "4dc89b67",
   "metadata": {},
   "source": [
    "### Importo el archivo csv que contiene las calificaciones de cada usuario"
   ]
  },
  {
   "cell_type": "markdown",
   "id": "c2aadcc6",
   "metadata": {},
   "source": [
    "#### Visualizo las primeros 5 filas del archivo"
   ]
  },
  {
   "cell_type": "code",
   "execution_count": 15,
   "id": "34749f60",
   "metadata": {},
   "outputs": [
    {
     "data": {
      "text/html": [
       "<div>\n",
       "<style scoped>\n",
       "    .dataframe tbody tr th:only-of-type {\n",
       "        vertical-align: middle;\n",
       "    }\n",
       "\n",
       "    .dataframe tbody tr th {\n",
       "        vertical-align: top;\n",
       "    }\n",
       "\n",
       "    .dataframe thead th {\n",
       "        text-align: right;\n",
       "    }\n",
       "</style>\n",
       "<table border=\"1\" class=\"dataframe\">\n",
       "  <thead>\n",
       "    <tr style=\"text-align: right;\">\n",
       "      <th></th>\n",
       "      <th>userId</th>\n",
       "      <th>movieId</th>\n",
       "      <th>rating</th>\n",
       "      <th>timestamp</th>\n",
       "    </tr>\n",
       "  </thead>\n",
       "  <tbody>\n",
       "    <tr>\n",
       "      <th>0</th>\n",
       "      <td>1</td>\n",
       "      <td>1</td>\n",
       "      <td>4.0</td>\n",
       "      <td>964982703</td>\n",
       "    </tr>\n",
       "    <tr>\n",
       "      <th>1</th>\n",
       "      <td>1</td>\n",
       "      <td>3</td>\n",
       "      <td>4.0</td>\n",
       "      <td>964981247</td>\n",
       "    </tr>\n",
       "    <tr>\n",
       "      <th>2</th>\n",
       "      <td>1</td>\n",
       "      <td>6</td>\n",
       "      <td>4.0</td>\n",
       "      <td>964982224</td>\n",
       "    </tr>\n",
       "    <tr>\n",
       "      <th>3</th>\n",
       "      <td>1</td>\n",
       "      <td>47</td>\n",
       "      <td>5.0</td>\n",
       "      <td>964983815</td>\n",
       "    </tr>\n",
       "    <tr>\n",
       "      <th>4</th>\n",
       "      <td>1</td>\n",
       "      <td>50</td>\n",
       "      <td>5.0</td>\n",
       "      <td>964982931</td>\n",
       "    </tr>\n",
       "  </tbody>\n",
       "</table>\n",
       "</div>"
      ],
      "text/plain": [
       "   userId  movieId  rating  timestamp\n",
       "0       1        1     4.0  964982703\n",
       "1       1        3     4.0  964981247\n",
       "2       1        6     4.0  964982224\n",
       "3       1       47     5.0  964983815\n",
       "4       1       50     5.0  964982931"
      ]
     },
     "execution_count": 15,
     "metadata": {},
     "output_type": "execute_result"
    }
   ],
   "source": [
    " notas=pd.read_csv('C:/Users/Carina/Downloads/ml-latest-small/ratings.csv')\n",
    "notas.head()"
   ]
  },
  {
   "cell_type": "markdown",
   "id": "9327df69",
   "metadata": {},
   "source": [
    "#### Agrupo el conjunto de datos para obtener el promedio con la variable 'rating'"
   ]
  },
  {
   "cell_type": "code",
   "execution_count": 16,
   "id": "862e471c",
   "metadata": {},
   "outputs": [
    {
     "data": {
      "text/plain": [
       "movieId\n",
       "1    3.920930\n",
       "2    3.431818\n",
       "3    3.259615\n",
       "4    2.357143\n",
       "5    3.071429\n",
       "Name: rating, dtype: float64"
      ]
     },
     "execution_count": 16,
     "metadata": {},
     "output_type": "execute_result"
    }
   ],
   "source": [
    "nota_promedio_por_pelicula= notas.groupby(\"movieId\").mean()[\"rating\"]\n",
    "nota_promedio_por_pelicula.head()"
   ]
  },
  {
   "cell_type": "markdown",
   "id": "ffc51c07",
   "metadata": {},
   "source": [
    "### Visualizo la distribución de mis datos"
   ]
  },
  {
   "cell_type": "markdown",
   "id": "4f9e6d80",
   "metadata": {},
   "source": [
    "#### Con 'nota_promedio_por_pelicula' se creó una serie (no es dataFrame), se tiene que pasar como parámetro el 'values' para decirle los valores que se obtuvieron de mi variable 'nota_promedio_por_pelicula"
   ]
  },
  {
   "cell_type": "markdown",
   "id": "b15655a0",
   "metadata": {},
   "source": [
    "### Se visualiza: \n",
    "#### No tiene distribución normal, no hay nota cero, pero hay promedio con nota 5, probablemente hay datos que perjudican este análisis, se limpian los datos de películas con menos de 10 evaluaciones para que el gráfico se acerque mas a la realidad"
   ]
  },
  {
   "cell_type": "code",
   "execution_count": 17,
   "id": "ed38a858",
   "metadata": {},
   "outputs": [
    {
     "name": "stderr",
     "output_type": "stream",
     "text": [
      "C:\\Users\\Carina\\anaconda3\\lib\\site-packages\\seaborn\\distributions.py:2619: FutureWarning: `distplot` is a deprecated function and will be removed in a future version. Please adapt your code to use either `displot` (a figure-level function with similar flexibility) or `histplot` (an axes-level function for histograms).\n",
      "  warnings.warn(msg, FutureWarning)\n"
     ]
    },
    {
     "data": {
      "text/plain": [
       "<AxesSubplot:ylabel='Density'>"
      ]
     },
     "execution_count": 17,
     "metadata": {},
     "output_type": "execute_result"
    },
    {
     "data": {
      "image/png": "[encoded data removed]",
      "text/plain": [
       "<Figure size 432x288 with 1 Axes>"
      ]
     },
     "metadata": {
      "needs_background": "light"
     },
     "output_type": "display_data"
    }
   ],
   "source": [
    "sb.distplot(nota_promedio_por_pelicula.values)"
   ]
  },
  {
   "cell_type": "markdown",
   "id": "a3604515",
   "metadata": {},
   "source": [
    "### Agrupo nuevamente por la variable 'movieId'"
   ]
  },
  {
   "cell_type": "code",
   "execution_count": 18,
   "id": "a94d0838",
   "metadata": {},
   "outputs": [
    {
     "data": {
      "text/html": [
       "<div>\n",
       "<style scoped>\n",
       "    .dataframe tbody tr th:only-of-type {\n",
       "        vertical-align: middle;\n",
       "    }\n",
       "\n",
       "    .dataframe tbody tr th {\n",
       "        vertical-align: top;\n",
       "    }\n",
       "\n",
       "    .dataframe thead th {\n",
       "        text-align: right;\n",
       "    }\n",
       "</style>\n",
       "<table border=\"1\" class=\"dataframe\">\n",
       "  <thead>\n",
       "    <tr style=\"text-align: right;\">\n",
       "      <th></th>\n",
       "      <th>userId</th>\n",
       "      <th>rating</th>\n",
       "      <th>timestamp</th>\n",
       "    </tr>\n",
       "    <tr>\n",
       "      <th>movieId</th>\n",
       "      <th></th>\n",
       "      <th></th>\n",
       "      <th></th>\n",
       "    </tr>\n",
       "  </thead>\n",
       "  <tbody>\n",
       "    <tr>\n",
       "      <th>1</th>\n",
       "      <td>215</td>\n",
       "      <td>215</td>\n",
       "      <td>215</td>\n",
       "    </tr>\n",
       "    <tr>\n",
       "      <th>2</th>\n",
       "      <td>110</td>\n",
       "      <td>110</td>\n",
       "      <td>110</td>\n",
       "    </tr>\n",
       "    <tr>\n",
       "      <th>3</th>\n",
       "      <td>52</td>\n",
       "      <td>52</td>\n",
       "      <td>52</td>\n",
       "    </tr>\n",
       "    <tr>\n",
       "      <th>4</th>\n",
       "      <td>7</td>\n",
       "      <td>7</td>\n",
       "      <td>7</td>\n",
       "    </tr>\n",
       "    <tr>\n",
       "      <th>5</th>\n",
       "      <td>49</td>\n",
       "      <td>49</td>\n",
       "      <td>49</td>\n",
       "    </tr>\n",
       "    <tr>\n",
       "      <th>...</th>\n",
       "      <td>...</td>\n",
       "      <td>...</td>\n",
       "      <td>...</td>\n",
       "    </tr>\n",
       "    <tr>\n",
       "      <th>193581</th>\n",
       "      <td>1</td>\n",
       "      <td>1</td>\n",
       "      <td>1</td>\n",
       "    </tr>\n",
       "    <tr>\n",
       "      <th>193583</th>\n",
       "      <td>1</td>\n",
       "      <td>1</td>\n",
       "      <td>1</td>\n",
       "    </tr>\n",
       "    <tr>\n",
       "      <th>193585</th>\n",
       "      <td>1</td>\n",
       "      <td>1</td>\n",
       "      <td>1</td>\n",
       "    </tr>\n",
       "    <tr>\n",
       "      <th>193587</th>\n",
       "      <td>1</td>\n",
       "      <td>1</td>\n",
       "      <td>1</td>\n",
       "    </tr>\n",
       "    <tr>\n",
       "      <th>193609</th>\n",
       "      <td>1</td>\n",
       "      <td>1</td>\n",
       "      <td>1</td>\n",
       "    </tr>\n",
       "  </tbody>\n",
       "</table>\n",
       "<p>9724 rows × 3 columns</p>\n",
       "</div>"
      ],
      "text/plain": [
       "         userId  rating  timestamp\n",
       "movieId                           \n",
       "1           215     215        215\n",
       "2           110     110        110\n",
       "3            52      52         52\n",
       "4             7       7          7\n",
       "5            49      49         49\n",
       "...         ...     ...        ...\n",
       "193581        1       1          1\n",
       "193583        1       1          1\n",
       "193585        1       1          1\n",
       "193587        1       1          1\n",
       "193609        1       1          1\n",
       "\n",
       "[9724 rows x 3 columns]"
      ]
     },
     "execution_count": 18,
     "metadata": {},
     "output_type": "execute_result"
    }
   ],
   "source": [
    "cantidad_de_votos_por_pelicula= notas.groupby(\"movieId\").count()\n",
    "cantidad_de_votos_por_pelicula"
   ]
  },
  {
   "cell_type": "markdown",
   "id": "66127f24",
   "metadata": {},
   "source": [
    "### Denoto los registros que son mayores a 10"
   ]
  },
  {
   "cell_type": "code",
   "execution_count": 19,
   "id": "a126c078",
   "metadata": {},
   "outputs": [
    {
     "data": {
      "text/html": [
       "<div>\n",
       "<style scoped>\n",
       "    .dataframe tbody tr th:only-of-type {\n",
       "        vertical-align: middle;\n",
       "    }\n",
       "\n",
       "    .dataframe tbody tr th {\n",
       "        vertical-align: top;\n",
       "    }\n",
       "\n",
       "    .dataframe thead th {\n",
       "        text-align: right;\n",
       "    }\n",
       "</style>\n",
       "<table border=\"1\" class=\"dataframe\">\n",
       "  <thead>\n",
       "    <tr style=\"text-align: right;\">\n",
       "      <th></th>\n",
       "      <th>userId</th>\n",
       "      <th>rating</th>\n",
       "      <th>timestamp</th>\n",
       "    </tr>\n",
       "    <tr>\n",
       "      <th>movieId</th>\n",
       "      <th></th>\n",
       "      <th></th>\n",
       "      <th></th>\n",
       "    </tr>\n",
       "  </thead>\n",
       "  <tbody>\n",
       "    <tr>\n",
       "      <th>1</th>\n",
       "      <td>215</td>\n",
       "      <td>215</td>\n",
       "      <td>215</td>\n",
       "    </tr>\n",
       "    <tr>\n",
       "      <th>2</th>\n",
       "      <td>110</td>\n",
       "      <td>110</td>\n",
       "      <td>110</td>\n",
       "    </tr>\n",
       "    <tr>\n",
       "      <th>3</th>\n",
       "      <td>52</td>\n",
       "      <td>52</td>\n",
       "      <td>52</td>\n",
       "    </tr>\n",
       "    <tr>\n",
       "      <th>5</th>\n",
       "      <td>49</td>\n",
       "      <td>49</td>\n",
       "      <td>49</td>\n",
       "    </tr>\n",
       "    <tr>\n",
       "      <th>6</th>\n",
       "      <td>102</td>\n",
       "      <td>102</td>\n",
       "      <td>102</td>\n",
       "    </tr>\n",
       "    <tr>\n",
       "      <th>...</th>\n",
       "      <td>...</td>\n",
       "      <td>...</td>\n",
       "      <td>...</td>\n",
       "    </tr>\n",
       "    <tr>\n",
       "      <th>174055</th>\n",
       "      <td>13</td>\n",
       "      <td>13</td>\n",
       "      <td>13</td>\n",
       "    </tr>\n",
       "    <tr>\n",
       "      <th>176371</th>\n",
       "      <td>18</td>\n",
       "      <td>18</td>\n",
       "      <td>18</td>\n",
       "    </tr>\n",
       "    <tr>\n",
       "      <th>177765</th>\n",
       "      <td>13</td>\n",
       "      <td>13</td>\n",
       "      <td>13</td>\n",
       "    </tr>\n",
       "    <tr>\n",
       "      <th>179819</th>\n",
       "      <td>12</td>\n",
       "      <td>12</td>\n",
       "      <td>12</td>\n",
       "    </tr>\n",
       "    <tr>\n",
       "      <th>187593</th>\n",
       "      <td>12</td>\n",
       "      <td>12</td>\n",
       "      <td>12</td>\n",
       "    </tr>\n",
       "  </tbody>\n",
       "</table>\n",
       "<p>2269 rows × 3 columns</p>\n",
       "</div>"
      ],
      "text/plain": [
       "         userId  rating  timestamp\n",
       "movieId                           \n",
       "1           215     215        215\n",
       "2           110     110        110\n",
       "3            52      52         52\n",
       "5            49      49         49\n",
       "6           102     102        102\n",
       "...         ...     ...        ...\n",
       "174055       13      13         13\n",
       "176371       18      18         18\n",
       "177765       13      13         13\n",
       "179819       12      12         12\n",
       "187593       12      12         12\n",
       "\n",
       "[2269 rows x 3 columns]"
      ]
     },
     "execution_count": 19,
     "metadata": {},
     "output_type": "execute_result"
    }
   ],
   "source": [
    "peliculas_con_10_o_mas_votos= cantidad_de_votos_por_pelicula.query(\"rating >= 10\")\n",
    "peliculas_con_10_o_mas_votos"
   ]
  },
  {
   "cell_type": "markdown",
   "id": "998f7583",
   "metadata": {},
   "source": [
    " #### Entonces aquí le paso el index para que sepa que solo quiero los índices que tienen mayor notas con más de 10 votos. "
   ]
  },
  {
   "cell_type": "code",
   "execution_count": 20,
   "id": "bb564829",
   "metadata": {},
   "outputs": [
    {
     "data": {
      "text/plain": [
       "Int64Index([     1,      2,      3,      5,      6,      7,      9,     10,\n",
       "                11,     12,\n",
       "            ...\n",
       "            166461, 166528, 166643, 168250, 168252, 174055, 176371, 177765,\n",
       "            179819, 187593],\n",
       "           dtype='int64', name='movieId', length=2269)"
      ]
     },
     "execution_count": 20,
     "metadata": {},
     "output_type": "execute_result"
    }
   ],
   "source": [
    "peliculas_con_10_o_mas_votos= cantidad_de_votos_por_pelicula.query(\"rating >= 10\").index\n",
    "peliculas_con_10_o_mas_votos"
   ]
  },
  {
   "cell_type": "code",
   "execution_count": 21,
   "id": "ddc78af4",
   "metadata": {},
   "outputs": [
    {
     "data": {
      "text/plain": [
       "movieId\n",
       "1         3.920930\n",
       "2         3.431818\n",
       "3         3.259615\n",
       "5         3.071429\n",
       "6         3.946078\n",
       "            ...   \n",
       "174055    3.423077\n",
       "176371    3.805556\n",
       "177765    3.538462\n",
       "179819    3.125000\n",
       "187593    3.875000\n",
       "Name: rating, Length: 2269, dtype: float64"
      ]
     },
     "execution_count": 21,
     "metadata": {},
     "output_type": "execute_result"
    }
   ],
   "source": [
    "nota_promedio_por_pelicula_con_10_o_mas_votos= nota_promedio_por_pelicula.loc[peliculas_con_10_o_mas_votos.values]\n",
    "nota_promedio_por_pelicula_con_10_o_mas_votos"
   ]
  },
  {
   "cell_type": "markdown",
   "id": "b3c6ba76",
   "metadata": {},
   "source": [
    "### Hago limpieza de datos al graficarlos: Las distribución es similar a la que se obtuvo en 'TMDB'"
   ]
  },
  {
   "cell_type": "code",
   "execution_count": 22,
   "id": "5d1bb77c",
   "metadata": {},
   "outputs": [
    {
     "name": "stderr",
     "output_type": "stream",
     "text": [
      "C:\\Users\\Carina\\anaconda3\\lib\\site-packages\\seaborn\\distributions.py:2619: FutureWarning: `distplot` is a deprecated function and will be removed in a future version. Please adapt your code to use either `displot` (a figure-level function with similar flexibility) or `histplot` (an axes-level function for histograms).\n",
      "  warnings.warn(msg, FutureWarning)\n"
     ]
    },
    {
     "data": {
      "text/plain": [
       "Text(0.5, 1.0, 'Grafico de distribución del Promedio de notas de Movielens ')"
      ]
     },
     "execution_count": 22,
     "metadata": {},
     "output_type": "execute_result"
    },
    {
     "data": {
      "image/png": "[encoded data removed]",
      "text/plain": [
       "<Figure size 432x288 with 1 Axes>"
      ]
     },
     "metadata": {
      "needs_background": "light"
     },
     "output_type": "display_data"
    }
   ],
   "source": [
    "ax=sb.distplot(nota_promedio_por_pelicula_con_10_o_mas_votos.values)\n",
    "ax.set(xlabel = \"Nota promedio\", ylabel= \"Densidad\")\n",
    "ax.set_title(\"Grafico de distribución del Promedio de notas de Movielens \")"
   ]
  },
  {
   "cell_type": "markdown",
   "id": "039ccfe8",
   "metadata": {},
   "source": [
    "### Obtengo la frecuencia real de las notas con 'kde'"
   ]
  },
  {
   "cell_type": "code",
   "execution_count": 23,
   "id": "53b9cf7f",
   "metadata": {},
   "outputs": [
    {
     "name": "stderr",
     "output_type": "stream",
     "text": [
      "C:\\Users\\Carina\\anaconda3\\lib\\site-packages\\seaborn\\distributions.py:2619: FutureWarning: `distplot` is a deprecated function and will be removed in a future version. Please adapt your code to use either `displot` (a figure-level function with similar flexibility) or `histplot` (an axes-level function for histograms).\n",
      "  warnings.warn(msg, FutureWarning)\n"
     ]
    },
    {
     "data": {
      "text/plain": [
       "Text(0.5, 1.0, 'Grafico de distribución del Promedio de notas de Movielens ')"
      ]
     },
     "execution_count": 23,
     "metadata": {},
     "output_type": "execute_result"
    },
    {
     "data": {
      "image/png": "[encoded data removed]",
      "text/plain": [
       "<Figure size 432x288 with 1 Axes>"
      ]
     },
     "metadata": {
      "needs_background": "light"
     },
     "output_type": "display_data"
    }
   ],
   "source": [
    "ax=sb.distplot(nota_promedio_por_pelicula_con_10_o_mas_votos.values,kde= False, norm_hist= False)\n",
    "ax.set(xlabel = \"Nota promedio\", ylabel= \"Densidad\")\n",
    "ax.set_title(\"Grafico de distribución del Promedio de notas de Movielens \")"
   ]
  },
  {
   "cell_type": "markdown",
   "id": "bd5d7fd7",
   "metadata": {},
   "source": [
    "### Grafico:\n",
    "### El área a la izquierda es un poco mayor que el área derecha, es decir: El área entre el primer y segundo cuartil  que la mediana es mayor que el área entre el segundo y tercer cuartil; similar a lo que obtuve en TMDB."
   ]
  },
  {
   "cell_type": "code",
   "execution_count": 24,
   "id": "81a19b3a",
   "metadata": {},
   "outputs": [
    {
     "name": "stderr",
     "output_type": "stream",
     "text": [
      "C:\\Users\\Carina\\anaconda3\\lib\\site-packages\\seaborn\\_decorators.py:36: FutureWarning: Pass the following variable as a keyword arg: x. From version 0.12, the only valid positional argument will be `data`, and passing other arguments without an explicit keyword will result in an error or misinterpretation.\n",
      "  warnings.warn(\n"
     ]
    },
    {
     "data": {
      "text/plain": [
       "Text(0.5, 1.0, 'Grafico de distribución del Promedio de notas de Movielens ')"
      ]
     },
     "execution_count": 24,
     "metadata": {},
     "output_type": "execute_result"
    },
    {
     "data": {
      "image/png": "[encoded data removed]",
      "text/plain": [
       "<Figure size 432x288 with 1 Axes>"
      ]
     },
     "metadata": {
      "needs_background": "light"
     },
     "output_type": "display_data"
    }
   ],
   "source": [
    "ax=sb.boxplot(nota_promedio_por_pelicula_con_10_o_mas_votos.values)\n",
    "ax.set(xlabel = \"Nota promedio\")\n",
    "ax.set_title(\"Grafico de distribución del Promedio de notas de Movielens \")"
   ]
  },
  {
   "cell_type": "markdown",
   "id": "84e98cfb",
   "metadata": {},
   "source": [
    "### Conclusión: Por comparación de frecuencias, el comportamiento de los usuarios, personas es muy similar.\n",
    "### En TMDB. se analizó  el promedio de las notas, con la diferencia de la escala, las bases eran diferentes, pero después de hacer todos los tratamientos correspondientes se llegó a bases que podrían ser comparables, los resultados son comparables. La escala es diferente en TMDB, la valoración era de 0 a 10. Mientras que en MovieLens la valoración era de 0 a 5.\n",
    "### Pero si nos concentramos en el gráfico el comportamiento es muy similar."
   ]
  },
  {
   "cell_type": "markdown",
   "id": "b47c5973",
   "metadata": {},
   "source": [
    "### Nuevo caso: Obtener un cierto porcentaje de las mejores películas, ahora se debe aplicar 'seaborn.displot' (distribución acumulada)"
   ]
  },
  {
   "cell_type": "code",
   "execution_count": 25,
   "id": "14849158",
   "metadata": {},
   "outputs": [
    {
     "name": "stderr",
     "output_type": "stream",
     "text": [
      "C:\\Users\\Carina\\anaconda3\\lib\\site-packages\\seaborn\\distributions.py:2619: FutureWarning: `distplot` is a deprecated function and will be removed in a future version. Please adapt your code to use either `displot` (a figure-level function with similar flexibility) or `histplot` (an axes-level function for histograms).\n",
      "  warnings.warn(msg, FutureWarning)\n"
     ]
    },
    {
     "data": {
      "text/plain": [
       "Text(0.5, 1.0, 'Grafico de distribución del Promedio de notas de Movielens ')"
      ]
     },
     "execution_count": 25,
     "metadata": {},
     "output_type": "execute_result"
    },
    {
     "data": {
      "image/png": "[encoded data removed]",
      "text/plain": [
       "<Figure size 432x288 with 1 Axes>"
      ]
     },
     "metadata": {
      "needs_background": "light"
     },
     "output_type": "display_data"
    }
   ],
   "source": [
    "ax=sb.distplot(nota_promedio_por_pelicula_con_10_o_mas_votos.values,\n",
    "              hist_kws= {\"cumulative\": True},\n",
    "              kde_kws={\"cumulative\": True} )\n",
    "ax.set(xlabel = \"Nota promedio\", ylabel= \"% acumulado\")\n",
    "ax.set_title(\"Grafico de distribución del Promedio de notas de Movielens \")"
   ]
  },
  {
   "cell_type": "markdown",
   "id": "24015827",
   "metadata": {},
   "source": [
    "### De la gráfica anterior:\n",
    "### El 3.9 que es el promedio, la nota promedio del primer filme de la primera película de nuestro conjunto de datos de MovieLens está encima del 80%. Entonces podemos deducir que ese filme, esa película está entre los 20% mejores."
   ]
  },
  {
   "cell_type": "markdown",
   "id": "5dbf62c5",
   "metadata": {},
   "source": [
    "### Nueva gráfica con TMDB"
   ]
  },
  {
   "cell_type": "markdown",
   "id": "c9cd842d",
   "metadata": {},
   "source": [
    "#### Se visualiza:\n",
    "#### El 20% de las películas mejores, de las mejores películas, tienen 7 o más de nota. Aquí, inversamente, podemos decir que nota 5 será un 10%, 15%. Tienen 5 o menos de nota."
   ]
  },
  {
   "cell_type": "code",
   "execution_count": 26,
   "id": "ddc7439d",
   "metadata": {},
   "outputs": [
    {
     "name": "stderr",
     "output_type": "stream",
     "text": [
      "C:\\Users\\Carina\\anaconda3\\lib\\site-packages\\seaborn\\distributions.py:2619: FutureWarning: `distplot` is a deprecated function and will be removed in a future version. Please adapt your code to use either `displot` (a figure-level function with similar flexibility) or `histplot` (an axes-level function for histograms).\n",
      "  warnings.warn(msg, FutureWarning)\n"
     ]
    },
    {
     "data": {
      "text/plain": [
       "Text(0.5, 1.0, 'Grafico de distribución del Promedio de notas de TMDB ')"
      ]
     },
     "execution_count": 26,
     "metadata": {},
     "output_type": "execute_result"
    },
    {
     "data": {
      "image/png": "[encoded data removed]",
      "text/plain": [
       "<Figure size 432x288 with 1 Axes>"
      ]
     },
     "metadata": {
      "needs_background": "light"
     },
     "output_type": "display_data"
    }
   ],
   "source": [
    "ax=sb.distplot(tmdb_10_o_mas_votos.vote_average,\n",
    "              hist_kws= {\"cumulative\": True},\n",
    "              kde_kws={\"cumulative\": True} )\n",
    "ax.set(xlabel = \"Nota promedio\", ylabel= \"% acumulado\")\n",
    "ax.set_title(\"Grafico de distribución del Promedio de notas de TMDB \")"
   ]
  },
  {
   "cell_type": "markdown",
   "id": "f88df589",
   "metadata": {},
   "source": [
    "## Analizando otras variables"
   ]
  },
  {
   "cell_type": "markdown",
   "id": "66490b35",
   "metadata": {},
   "source": [
    "#### Existen más películas con menos votos:"
   ]
  },
  {
   "cell_type": "code",
   "execution_count": 27,
   "id": "bb5c8957",
   "metadata": {},
   "outputs": [
    {
     "name": "stderr",
     "output_type": "stream",
     "text": [
      "C:\\Users\\Carina\\anaconda3\\lib\\site-packages\\seaborn\\distributions.py:2619: FutureWarning: `distplot` is a deprecated function and will be removed in a future version. Please adapt your code to use either `displot` (a figure-level function with similar flexibility) or `histplot` (an axes-level function for histograms).\n",
      "  warnings.warn(msg, FutureWarning)\n"
     ]
    },
    {
     "data": {
      "text/plain": [
       "Text(0.5, 1.0, 'Grafico de distribución de la cantidad de votos de TMDB')"
      ]
     },
     "execution_count": 27,
     "metadata": {},
     "output_type": "execute_result"
    },
    {
     "data": {
      "image/png": "[encoded data removed]",
      "text/plain": [
       "<Figure size 432x288 with 1 Axes>"
      ]
     },
     "metadata": {
      "needs_background": "light"
     },
     "output_type": "display_data"
    }
   ],
   "source": [
    "ax= sb.distplot(tmdb_10_o_mas_votos.vote_count)\n",
    "ax.set(xlabel = \"Cantidad de votos\", ylabel = \"frecuencia\")\n",
    "ax.set_title(\"Grafico de distribución de la cantidad de votos de TMDB\")"
   ]
  },
  {
   "cell_type": "markdown",
   "id": "208200cf",
   "metadata": {},
   "source": [
    "### Existen películas que tuvieron presupuesto 0: "
   ]
  },
  {
   "cell_type": "code",
   "execution_count": 28,
   "id": "719683d1",
   "metadata": {},
   "outputs": [
    {
     "data": {
      "text/plain": [
       "0       237000000\n",
       "1       300000000\n",
       "2       245000000\n",
       "3       250000000\n",
       "4       260000000\n",
       "          ...    \n",
       "4798       220000\n",
       "4799         9000\n",
       "4800            0\n",
       "4801            0\n",
       "4802            0\n",
       "Name: budget, Length: 4803, dtype: int64"
      ]
     },
     "execution_count": 28,
     "metadata": {},
     "output_type": "execute_result"
    }
   ],
   "source": [
    "tmdb.budget"
   ]
  },
  {
   "cell_type": "markdown",
   "id": "6c6e6d9e",
   "metadata": {},
   "source": [
    "### Obtengo los valores que son mayor que 10 para que el análisis sea coherente"
   ]
  },
  {
   "cell_type": "markdown",
   "id": "5ad248cc",
   "metadata": {},
   "source": [
    "####  Lo que podemos ver es que la mayor cantidad de películas no gastaron ni siquiera 100.000.000 para ser realizadas. No son pocas películas que gastaron un presupuesto mayor que 100.000.000."
   ]
  },
  {
   "cell_type": "code",
   "execution_count": 29,
   "id": "5dd86ba7",
   "metadata": {},
   "outputs": [
    {
     "name": "stderr",
     "output_type": "stream",
     "text": [
      "C:\\Users\\Carina\\anaconda3\\lib\\site-packages\\seaborn\\distributions.py:2619: FutureWarning: `distplot` is a deprecated function and will be removed in a future version. Please adapt your code to use either `displot` (a figure-level function with similar flexibility) or `histplot` (an axes-level function for histograms).\n",
      "  warnings.warn(msg, FutureWarning)\n"
     ]
    },
    {
     "data": {
      "text/plain": [
       "Text(0.5, 1.0, 'Grafico de distribución de presupuesto de peliculas de TMDB')"
      ]
     },
     "execution_count": 29,
     "metadata": {},
     "output_type": "execute_result"
    },
    {
     "data": {
      "image/png": "[encoded data removed]",
      "text/plain": [
       "<Figure size 432x288 with 1 Axes>"
      ]
     },
     "metadata": {
      "needs_background": "light"
     },
     "output_type": "display_data"
    }
   ],
   "source": [
    "\n",
    "ax= sb.distplot(tmdb.query(\"budget >= 0\").budget)\n",
    "ax.set(xlabel = \"Presupuesto de películas\", ylabel = \"frecuencia\")\n",
    "ax.set_title(\"Grafico de distribución de presupuesto de peliculas de TMDB\")"
   ]
  },
  {
   "cell_type": "markdown",
   "id": "ddb0d139",
   "metadata": {},
   "source": [
    "### Analizamos la popularidad:"
   ]
  },
  {
   "cell_type": "markdown",
   "id": "df4f94b5",
   "metadata": {},
   "source": [
    "#### Solo existe un registro de los 5000 registros que hay, no afecta el análisis, puede ser que tuvo 0 popularidad"
   ]
  },
  {
   "cell_type": "code",
   "execution_count": 30,
   "id": "8c9ab139",
   "metadata": {},
   "outputs": [
    {
     "data": {
      "text/html": [
       "<div>\n",
       "<style scoped>\n",
       "    .dataframe tbody tr th:only-of-type {\n",
       "        vertical-align: middle;\n",
       "    }\n",
       "\n",
       "    .dataframe tbody tr th {\n",
       "        vertical-align: top;\n",
       "    }\n",
       "\n",
       "    .dataframe thead th {\n",
       "        text-align: right;\n",
       "    }\n",
       "</style>\n",
       "<table border=\"1\" class=\"dataframe\">\n",
       "  <thead>\n",
       "    <tr style=\"text-align: right;\">\n",
       "      <th></th>\n",
       "      <th>budget</th>\n",
       "      <th>genres</th>\n",
       "      <th>homepage</th>\n",
       "      <th>id</th>\n",
       "      <th>keywords</th>\n",
       "      <th>original_language</th>\n",
       "      <th>original_title</th>\n",
       "      <th>overview</th>\n",
       "      <th>popularity</th>\n",
       "      <th>production_companies</th>\n",
       "      <th>production_countries</th>\n",
       "      <th>release_date</th>\n",
       "      <th>revenue</th>\n",
       "      <th>runtime</th>\n",
       "      <th>spoken_languages</th>\n",
       "      <th>status</th>\n",
       "      <th>tagline</th>\n",
       "      <th>title</th>\n",
       "      <th>vote_average</th>\n",
       "      <th>vote_count</th>\n",
       "    </tr>\n",
       "  </thead>\n",
       "  <tbody>\n",
       "    <tr>\n",
       "      <th>4553</th>\n",
       "      <td>0</td>\n",
       "      <td>[]</td>\n",
       "      <td>NaN</td>\n",
       "      <td>380097</td>\n",
       "      <td>[]</td>\n",
       "      <td>en</td>\n",
       "      <td>America Is Still the Place</td>\n",
       "      <td>1971 post civil rights San Francisco seemed li...</td>\n",
       "      <td>0.0</td>\n",
       "      <td>[]</td>\n",
       "      <td>[]</td>\n",
       "      <td>NaN</td>\n",
       "      <td>0</td>\n",
       "      <td>0.0</td>\n",
       "      <td>[]</td>\n",
       "      <td>Released</td>\n",
       "      <td>NaN</td>\n",
       "      <td>America Is Still the Place</td>\n",
       "      <td>0.0</td>\n",
       "      <td>0</td>\n",
       "    </tr>\n",
       "  </tbody>\n",
       "</table>\n",
       "</div>"
      ],
      "text/plain": [
       "      budget genres homepage      id keywords original_language  \\\n",
       "4553       0     []      NaN  380097       []                en   \n",
       "\n",
       "                  original_title  \\\n",
       "4553  America Is Still the Place   \n",
       "\n",
       "                                               overview  popularity  \\\n",
       "4553  1971 post civil rights San Francisco seemed li...         0.0   \n",
       "\n",
       "     production_companies production_countries release_date  revenue  runtime  \\\n",
       "4553                   []                   []          NaN        0      0.0   \n",
       "\n",
       "     spoken_languages    status tagline                       title  \\\n",
       "4553               []  Released     NaN  America Is Still the Place   \n",
       "\n",
       "      vote_average  vote_count  \n",
       "4553           0.0           0  "
      ]
     },
     "execution_count": 30,
     "metadata": {},
     "output_type": "execute_result"
    }
   ],
   "source": [
    "tmdb.query(\"popularity == 0\")"
   ]
  },
  {
   "cell_type": "markdown",
   "id": "c320b0de",
   "metadata": {},
   "source": [
    "### Visualizo la distribución"
   ]
  },
  {
   "cell_type": "markdown",
   "id": "498a16cd",
   "metadata": {},
   "source": [
    "#### La mayor cantidad de películas tienen poca popularidad.\n",
    "#### Son pocas las películas, nuestra escala está súper espaciada, de 0 a 800. Tenemos algunos valores que tienen 800. Pero la mayor cantidad de películas están distribuidas, están localizadas entre 0 y 50, 100,"
   ]
  },
  {
   "cell_type": "code",
   "execution_count": 31,
   "id": "778db694",
   "metadata": {},
   "outputs": [
    {
     "name": "stderr",
     "output_type": "stream",
     "text": [
      "C:\\Users\\Carina\\anaconda3\\lib\\site-packages\\seaborn\\distributions.py:2619: FutureWarning: `distplot` is a deprecated function and will be removed in a future version. Please adapt your code to use either `displot` (a figure-level function with similar flexibility) or `histplot` (an axes-level function for histograms).\n",
      "  warnings.warn(msg, FutureWarning)\n"
     ]
    },
    {
     "data": {
      "text/plain": [
       "Text(0.5, 1.0, 'Grafico de distribución de popularidad de peliculas de TMDB')"
      ]
     },
     "execution_count": 31,
     "metadata": {},
     "output_type": "execute_result"
    },
    {
     "data": {
      "image/png": "[encoded data removed]",
      "text/plain": [
       "<Figure size 432x288 with 1 Axes>"
      ]
     },
     "metadata": {
      "needs_background": "light"
     },
     "output_type": "display_data"
    }
   ],
   "source": [
    "ax= sb.distplot(tmdb.popularity)\n",
    "ax.set(xlabel = \"Popularidad de películas\", ylabel = \"frecuencia\")\n",
    "ax.set_title(\"Grafico de distribución de popularidad de peliculas de TMDB\")"
   ]
  },
  {
   "cell_type": "markdown",
   "id": "d61c3bc3",
   "metadata": {},
   "source": [
    "###  ¿Cuál es la duración?"
   ]
  },
  {
   "cell_type": "code",
   "execution_count": 32,
   "id": "4f53f17d",
   "metadata": {},
   "outputs": [
    {
     "name": "stderr",
     "output_type": "stream",
     "text": [
      "C:\\Users\\Carina\\anaconda3\\lib\\site-packages\\seaborn\\distributions.py:2619: FutureWarning: `distplot` is a deprecated function and will be removed in a future version. Please adapt your code to use either `displot` (a figure-level function with similar flexibility) or `histplot` (an axes-level function for histograms).\n",
      "  warnings.warn(msg, FutureWarning)\n"
     ]
    },
    {
     "data": {
      "text/plain": [
       "Text(0.5, 1.0, 'Grafico de distribución de duración de peliculas de TMDB')"
      ]
     },
     "execution_count": 32,
     "metadata": {},
     "output_type": "execute_result"
    },
    {
     "data": {
      "image/png": "[encoded data removed]",
      "text/plain": [
       "<Figure size 432x288 with 1 Axes>"
      ]
     },
     "metadata": {
      "needs_background": "light"
     },
     "output_type": "display_data"
    }
   ],
   "source": [
    "ax= sb.distplot(tmdb.runtime)\n",
    "ax.set(xlabel = \"Duración de películas\", ylabel = \"frecuencia\")\n",
    "ax.set_title(\"Grafico de distribución de duración de peliculas de TMDB\")"
   ]
  },
  {
   "cell_type": "markdown",
   "id": "5ea19a93",
   "metadata": {},
   "source": [
    "### Veo cuantos valores nulos tiene la columna"
   ]
  },
  {
   "cell_type": "code",
   "execution_count": 33,
   "id": "7a4a2303",
   "metadata": {},
   "outputs": [
    {
     "data": {
      "text/plain": [
       "2"
      ]
     },
     "execution_count": 33,
     "metadata": {},
     "output_type": "execute_result"
    }
   ],
   "source": [
    "tmdb.runtime.isnull().sum()"
   ]
  },
  {
   "cell_type": "markdown",
   "id": "819c2d33",
   "metadata": {},
   "source": [
    "### Elimino los valores nulos"
   ]
  },
  {
   "cell_type": "markdown",
   "id": "f3f72008",
   "metadata": {},
   "source": [
    "#### Obtengo una campana de Gauss, parece ser una normal, pero la sospecha inicial de que sí existe películas con 0, y aquí vemos que hay un número considerable de películas con duración 0 que no tiene ningún sentido. No puede ser que una película no tenga duración, entonces lo que vamos a hacer es dar un query aquí antes de nuestra variable."
   ]
  },
  {
   "cell_type": "code",
   "execution_count": 34,
   "id": "4fcfbf51",
   "metadata": {},
   "outputs": [
    {
     "name": "stderr",
     "output_type": "stream",
     "text": [
      "C:\\Users\\Carina\\anaconda3\\lib\\site-packages\\seaborn\\distributions.py:2619: FutureWarning: `distplot` is a deprecated function and will be removed in a future version. Please adapt your code to use either `displot` (a figure-level function with similar flexibility) or `histplot` (an axes-level function for histograms).\n",
      "  warnings.warn(msg, FutureWarning)\n"
     ]
    },
    {
     "data": {
      "text/plain": [
       "Text(0.5, 1.0, 'Grafico de distribución de duración de peliculas de TMDB')"
      ]
     },
     "execution_count": 34,
     "metadata": {},
     "output_type": "execute_result"
    },
    {
     "data": {
      "image/png": "[encoded data removed]",
      "text/plain": [
       "<Figure size 432x288 with 1 Axes>"
      ]
     },
     "metadata": {
      "needs_background": "light"
     },
     "output_type": "display_data"
    }
   ],
   "source": [
    "ax= sb.distplot(tmdb.runtime.dropna())\n",
    "ax.set(xlabel = \"Duración de películas\", ylabel = \"Frecuencia\")\n",
    "ax.set_title(\"Grafico de distribución de duración de peliculas de TMDB\")"
   ]
  },
  {
   "cell_type": "markdown",
   "id": "cfd13152",
   "metadata": {},
   "source": [
    "###  Podemos ver es que la mayoría de las películas, la media está próxima de  100. Entonces los valores están entre 100, 80 y 120 podemos decir así a ojo. Entre 80 y 120 la mayoría de las películas tienen esa duración, de 80 a 120 minutos."
   ]
  },
  {
   "cell_type": "code",
   "execution_count": 35,
   "id": "c16fd179",
   "metadata": {},
   "outputs": [
    {
     "name": "stderr",
     "output_type": "stream",
     "text": [
      "C:\\Users\\Carina\\anaconda3\\lib\\site-packages\\seaborn\\distributions.py:2619: FutureWarning: `distplot` is a deprecated function and will be removed in a future version. Please adapt your code to use either `displot` (a figure-level function with similar flexibility) or `histplot` (an axes-level function for histograms).\n",
      "  warnings.warn(msg, FutureWarning)\n"
     ]
    },
    {
     "data": {
      "text/plain": [
       "Text(0.5, 1.0, 'Grafico de distribución de duración de peliculas de TMDB')"
      ]
     },
     "execution_count": 35,
     "metadata": {},
     "output_type": "execute_result"
    },
    {
     "data": {
      "image/png": "[encoded data removed]",
      "text/plain": [
       "<Figure size 432x288 with 1 Axes>"
      ]
     },
     "metadata": {
      "needs_background": "light"
     },
     "output_type": "display_data"
    }
   ],
   "source": [
    "ax= sb.distplot(tmdb.query(\"runtime > 0\").runtime.dropna())\n",
    "ax.set(xlabel = \"Duración de películas\", ylabel = \"Frecuencia\")\n",
    "ax.set_title(\"Grafico de distribución de duración de peliculas de TMDB\")"
   ]
  },
  {
   "cell_type": "markdown",
   "id": "a088f8ca",
   "metadata": {},
   "source": [
    "### Grafico la distribución acumulada para visualizar mejo el análisis"
   ]
  },
  {
   "cell_type": "markdown",
   "id": "e81004f6",
   "metadata": {},
   "source": [
    "#### Decimos que  el 40% de las películas, tienen menos de 100 minutos. "
   ]
  },
  {
   "cell_type": "code",
   "execution_count": 36,
   "id": "23c68a71",
   "metadata": {},
   "outputs": [
    {
     "name": "stderr",
     "output_type": "stream",
     "text": [
      "C:\\Users\\Carina\\anaconda3\\lib\\site-packages\\seaborn\\distributions.py:2619: FutureWarning: `distplot` is a deprecated function and will be removed in a future version. Please adapt your code to use either `displot` (a figure-level function with similar flexibility) or `histplot` (an axes-level function for histograms).\n",
      "  warnings.warn(msg, FutureWarning)\n"
     ]
    },
    {
     "data": {
      "text/plain": [
       "Text(0.5, 1.0, 'Grafico de distribución de la duración de las películas de TMDB ')"
      ]
     },
     "execution_count": 36,
     "metadata": {},
     "output_type": "execute_result"
    },
    {
     "data": {
      "image/png": "[encoded data removed]",
      "text/plain": [
       "<Figure size 432x288 with 1 Axes>"
      ]
     },
     "metadata": {
      "needs_background": "light"
     },
     "output_type": "display_data"
    }
   ],
   "source": [
    "ax= sb.distplot(tmdb.query(\"runtime > 0\").runtime.dropna(),\n",
    "              hist_kws= {\"cumulative\": True},\n",
    "              kde_kws={\"cumulative\": True} )\n",
    "ax.set(xlabel = \"Duración\", ylabel= \"% acumulado\")\n",
    "ax.set_title(\"Grafico de distribución de la duración de las películas de TMDB \")"
   ]
  },
  {
   "cell_type": "markdown",
   "id": "7f651cd3",
   "metadata": {},
   "source": [
    "### Existen en pandas en realidad una forma de pedir los cuantiles, en realidad, son los percentiles, decirle: “quiero que me digas el 80% de los valores de los registros, cuánto representan o qué número está representado”. En esta curva de acumulada que hicimos."
   ]
  },
  {
   "cell_type": "markdown",
   "id": "bd8df805",
   "metadata": {},
   "source": [
    "#### El 80% de las películas tienen 121 o menos de duración. "
   ]
  },
  {
   "cell_type": "code",
   "execution_count": 37,
   "id": "7b5f1a44",
   "metadata": {},
   "outputs": [
    {
     "data": {
      "text/plain": [
       "121.0"
      ]
     },
     "execution_count": 37,
     "metadata": {},
     "output_type": "execute_result"
    }
   ],
   "source": [
    "tmdb.query(\"runtime > 0\").runtime.dropna().quantile(0.8)"
   ]
  },
  {
   "cell_type": "markdown",
   "id": "e5e8a603",
   "metadata": {},
   "source": [
    "### Efecto del tamaño de la muestra"
   ]
  },
  {
   "cell_type": "markdown",
   "id": "f763eafc",
   "metadata": {},
   "source": [
    "#### Cuando se grupa el promedio de cada película y calculando el promedio de los promedios de esas películas. Nos da 3.43.\n",
    "\n",
    "#### ¿Ahora, qué significa ese 3.43? Si recordamos en MovieLens, la menor nota que teníamos, el range de notas era de 0.5 a 5. Aquí tenemos una diferencia de 4.5, es nuestro intervalo de notas. Si lo dividimos entre 2, dan 2.75.\n",
    "#### ¿qué significa? Que en realidad la mitad de nuestro intervalo es 2.75, sin embargo, el promedio de las notas, el promedio, la media de las notas es 3.43.\n",
    "\n",
    "#### Entonces da a parecer que a las personas les gusta o aprecian normalmente las películas y la tendencia es a dar una nota alta."
   ]
  },
  {
   "cell_type": "code",
   "execution_count": 38,
   "id": "0bf96409",
   "metadata": {},
   "outputs": [
    {
     "data": {
      "text/plain": [
       "3.4320503405352603"
      ]
     },
     "execution_count": 38,
     "metadata": {},
     "output_type": "execute_result"
    }
   ],
   "source": [
    "nota_promedio_por_pelicula_con_10_o_mas_votos.mean()"
   ]
  },
  {
   "cell_type": "markdown",
   "id": "ef29939f",
   "metadata": {},
   "source": [
    "### Viendo el tamaño del array que consolidó el tamaño de las notas"
   ]
  },
  {
   "cell_type": "code",
   "execution_count": 39,
   "id": "ed830f2e",
   "metadata": {},
   "outputs": [
    {
     "data": {
      "text/plain": [
       "2269"
      ]
     },
     "execution_count": 39,
     "metadata": {},
     "output_type": "execute_result"
    }
   ],
   "source": [
    "len(nota_promedio_por_pelicula_con_10_o_mas_votos)"
   ]
  },
  {
   "cell_type": "markdown",
   "id": "770cb75b",
   "metadata": {},
   "source": [
    "### Visualizando solo el promedio de las primeras 5 películas"
   ]
  },
  {
   "cell_type": "markdown",
   "id": "34d5b88d",
   "metadata": {},
   "source": [
    "#### Las primeras 6 películas tienen un promedio mayor que el promedio de todas las películas"
   ]
  },
  {
   "cell_type": "code",
   "execution_count": 40,
   "id": "6fdcdc2c",
   "metadata": {},
   "outputs": [
    {
     "data": {
      "text/plain": [
       "3.5259741603585653"
      ]
     },
     "execution_count": 40,
     "metadata": {},
     "output_type": "execute_result"
    }
   ],
   "source": [
    "nota_promedio_por_pelicula_con_10_o_mas_votos[0:5].mean()"
   ]
  },
  {
   "cell_type": "markdown",
   "id": "78a9434c",
   "metadata": {},
   "source": [
    "### Calculando en forma acumulada los promedios, medias, etc...Para ver como se comporta el acumulado de los promedios a medida que se avanza en los datos"
   ]
  },
  {
   "cell_type": "code",
   "execution_count": 45,
   "id": "3c831c47",
   "metadata": {},
   "outputs": [
    {
     "data": {
      "text/plain": [
       "[3.9209302325581397,\n",
       " 3.676374207188161,\n",
       " 3.5374545996639024,\n",
       " 3.4209480926050695,\n",
       " 3.5259741603585653,\n",
       " 3.469175997829668,\n",
       " 3.420007998139716,\n",
       " 3.4295335135237663,\n",
       " 3.4564107421798558,\n",
       " 3.352874931119765,\n",
       " 3.396552967684635,\n",
       " 3.363506887044249,\n",
       " 3.406839377909513,\n",
       " 3.4332165225577675,\n",
       " 3.451002087720583,\n",
       " 3.405769002692592,\n",
       " 3.3524884731224396,\n",
       " 3.3603714480862994,\n",
       " 3.3531004361987162,\n",
       " 3.3416954143887807,\n",
       " 3.331376585132172,\n",
       " 3.3447231039898004,\n",
       " 3.3514742733815486,\n",
       " 3.3879658756270143,\n",
       " 3.412973556391407,\n",
       " 3.404174978311576,\n",
       " 3.425614825316986,\n",
       " 3.4337122869128076,\n",
       " 3.4475781010027933,\n",
       " 3.4424344719950075,\n",
       " 3.4507430374145236,\n",
       " 3.4223910131474935,\n",
       " 3.4190609824460543,\n",
       " 3.4086964437466603,\n",
       " 3.4248871013004156,\n",
       " 3.4171696491401096,\n",
       " 3.4393473639752203,\n",
       " 3.4400036363518125,\n",
       " 3.4550555181639973,\n",
       " 3.4495614831510744,\n",
       " 3.455822178683975,\n",
       " 3.433832556918074,\n",
       " 3.441766683501375,\n",
       " 3.4432967795375005,\n",
       " 3.4437021502486327,\n",
       " 3.4427521035040973,\n",
       " 3.4283255881604555,\n",
       " 3.4216342812642555,\n",
       " 3.432757391170427,\n",
       " 3.427227243347019,\n",
       " 3.4237521993598223,\n",
       " 3.433872349372133,\n",
       " 3.4261353149275555,\n",
       " 3.4349105868733414,\n",
       " 3.4231070177613585,\n",
       " 3.4295266905808375,\n",
       " 3.4296998002091375,\n",
       " 3.4271637466822935,\n",
       " 3.425464752279595,\n",
       " 3.435567765901939,\n",
       " 3.4465546751620586,\n",
       " 3.448117958802502,\n",
       " 3.4355486261230976,\n",
       " 3.4378577621732576,\n",
       " 3.430377072035604,\n",
       " 3.43143196488355,\n",
       " 3.432368592967551,\n",
       " 3.4309121920905774,\n",
       " 3.42821923335326,\n",
       " 3.4287684824005944,\n",
       " 3.434641759328454,\n",
       " 3.436180825802427,\n",
       " 3.429055860985416,\n",
       " 3.4350821331342614,\n",
       " 3.427462856207623,\n",
       " 3.4192916556378283,\n",
       " 3.412454843783534,\n",
       " 3.405592512228055,\n",
       " 3.4085080795428526,\n",
       " 3.4184752579603312,\n",
       " 3.4202299592275627,\n",
       " 3.419025064254404,\n",
       " 3.420670009932731,\n",
       " 3.416654097116071,\n",
       " 3.404693460679411,\n",
       " 3.402645530073505,\n",
       " 3.394330584705061,\n",
       " 3.3860922239551132,\n",
       " 3.378383322562359,\n",
       " 3.3850123967561108,\n",
       " 3.3951517364367287,\n",
       " 3.3952346281904355,\n",
       " 3.383078405116914,\n",
       " 3.379430534545761,\n",
       " 3.3735724938312446,\n",
       " 3.3744554192427247,\n",
       " 3.36514586411062,\n",
       " 3.3682226069938452,\n",
       " 3.3655132877312814,\n",
       " 3.3585248215206356,\n",
       " 3.357450318337263,\n",
       " 3.358179415038056,\n",
       " 3.351951135927654,\n",
       " 3.3526878695107674,\n",
       " 3.3485007800702924,\n",
       " 3.3550400808872394,\n",
       " 3.3547736372550676,\n",
       " 3.355456950137627,\n",
       " 3.3590766111455386,\n",
       " 3.363591998596663,\n",
       " 3.36583441302372,\n",
       " 3.3673757266437008,\n",
       " 3.3629178561746094,\n",
       " 3.3632065884303874,\n",
       " 3.3605713170174263,\n",
       " 3.3651599879298377,\n",
       " 3.3663124666654802,\n",
       " 3.359718592321854,\n",
       " 3.36239802792059,\n",
       " 3.3633595258360667,\n",
       " 3.363173985051546,\n",
       " 3.3601971491085005,\n",
       " 3.367781753166772,\n",
       " 3.3723042505490675,\n",
       " 3.3707375812505576,\n",
       " 3.37352714189319,\n",
       " 3.3741567578790153,\n",
       " 3.3748173738044156,\n",
       " 3.370582909112687,\n",
       " 3.3715784251964354,\n",
       " 3.3656885135537147,\n",
       " 3.372244477066271,\n",
       " 3.376069348524062,\n",
       " 3.380014815361658,\n",
       " 3.3841583644285635,\n",
       " 3.3842532207454816,\n",
       " 3.38101908388302,\n",
       " 3.3837512971601647,\n",
       " 3.380605090500225,\n",
       " 3.379672196996652,\n",
       " 3.3785658992202667,\n",
       " 3.3834839075139485,\n",
       " 3.3862967073615033,\n",
       " 3.3859578413381595,\n",
       " 3.3849077572749575,\n",
       " 3.389365336236871,\n",
       " 3.389612800441092,\n",
       " 3.3938640449819037,\n",
       " 3.3992546782632926,\n",
       " 3.400049770531661,\n",
       " 3.397090003839398,\n",
       " 3.4024956617088757,\n",
       " 3.40572009093518,\n",
       " 3.40974138904599,\n",
       " 3.4119366058908547,\n",
       " 3.4098020594968173,\n",
       " 3.4095803903280477,\n",
       " 3.408277373324096,\n",
       " 3.414697151366202,\n",
       " 3.4158552941701634,\n",
       " 3.4166884911007833,\n",
       " 3.4130270153024127,\n",
       " 3.411413352631846,\n",
       " 3.411304237789691,\n",
       " 3.4078013838232892,\n",
       " 3.4100435441617027,\n",
       " 3.412176419742973,\n",
       " 3.408783139049014,\n",
       " 3.409141746244594,\n",
       " 3.4083393081650804,\n",
       " 3.406187456484626,\n",
       " 3.4072981237272866,\n",
       " 3.4083156682914835,\n",
       " 3.409443425683748,\n",
       " 3.409309262750016,\n",
       " 3.407986315735727,\n",
       " 3.4091241049123617,\n",
       " 3.4032140979024206,\n",
       " 3.407465045615825,\n",
       " 3.4080870035608934,\n",
       " 3.4061573711070303,\n",
       " 3.406834593049881,\n",
       " 3.4097582316950525,\n",
       " 3.407078386232942,\n",
       " 3.4058764132035537,\n",
       " 3.406382453992782,\n",
       " 3.404531985402372,\n",
       " 3.4040266227647202,\n",
       " 3.4006291526014407,\n",
       " 3.401869860410715,\n",
       " 3.395577348052544,\n",
       " 3.3948191326981036,\n",
       " 3.395515612663823,\n",
       " 3.390899552804731,\n",
       " 3.3914446372069422,\n",
       " 3.393621867722121,\n",
       " 3.3924169343834296,\n",
       " 3.390916031155423,\n",
       " 3.3864390661747423,\n",
       " 3.381590204177202,\n",
       " 3.3801951806548796,\n",
       " 3.3807882738199546,\n",
       " 3.377870408128534,\n",
       " 3.373720308088688,\n",
       " 3.375274392889757,\n",
       " 3.37187500263301,\n",
       " 3.3687274856301976,\n",
       " 3.3679563598980016,\n",
       " 3.3654780998027958,\n",
       " 3.361555188216433,\n",
       " 3.363264510652479,\n",
       " 3.3650325801215484,\n",
       " 3.361654279489309,\n",
       " 3.360126238301726,\n",
       " 3.3557565112428107,\n",
       " 3.3566375117999225,\n",
       " 3.3592731519693766,\n",
       " 3.3580498466511344,\n",
       " 3.3564149158445082,\n",
       " 3.3572250910695174,\n",
       " 3.3528570675438267,\n",
       " 3.3557365639204666,\n",
       " 3.35369290219885,\n",
       " 3.3515186779330817,\n",
       " 3.3508654636069144,\n",
       " 3.3517465898741405,\n",
       " 3.3532492795348587,\n",
       " 3.357401694975495,\n",
       " 3.3575106523824862,\n",
       " 3.35921712780691,\n",
       " 3.358345602304898,\n",
       " 3.3565163637783724,\n",
       " 3.354400998970896,\n",
       " 3.3528864647872596,\n",
       " 3.3526363847118192,\n",
       " 3.3543201288443965,\n",
       " 3.355638046725503,\n",
       " 3.355732209472403,\n",
       " 3.357649453317172,\n",
       " 3.3577796176320542,\n",
       " 3.3536671157608287,\n",
       " 3.3537950011693183,\n",
       " 3.354864307187701,\n",
       " 3.3556270912015114,\n",
       " 3.355876232325859,\n",
       " 3.356885543034561,\n",
       " 3.355665583571083,\n",
       " 3.351831294543627,\n",
       " 3.350942151925415,\n",
       " 3.3514795597883014,\n",
       " 3.3549597209046826,\n",
       " 3.3570233728058545,\n",
       " 3.356600355522037,\n",
       " 3.35519641711447,\n",
       " 3.3533677601410363,\n",
       " 3.3543590691136997,\n",
       " 3.354017853539976,\n",
       " 3.3532916861489936,\n",
       " 3.3541798778369643,\n",
       " 3.3546318710499285,\n",
       " 3.351995989040797,\n",
       " 3.354854044241454,\n",
       " 3.3526900147413508,\n",
       " 3.3525551024534357,\n",
       " 3.3474511209347435,\n",
       " 3.348226731160027,\n",
       " 3.3479048897772823,\n",
       " 3.349649217111638,\n",
       " 3.3513233835907767,\n",
       " 3.352035068321439,\n",
       " 3.349467595744607,\n",
       " 3.3472126086687486,\n",
       " 3.345924978802462,\n",
       " 3.34624927672178,\n",
       " 3.3478714601765223,\n",
       " 3.350129107577539,\n",
       " 3.3518808647836074,\n",
       " 3.352156730120974,\n",
       " 3.355056850524055,\n",
       " 3.35599194433248,\n",
       " 3.357467232591815,\n",
       " 3.3577953629726953,\n",
       " 3.358245503687227,\n",
       " 3.359864997752349,\n",
       " 3.358602313549709,\n",
       " 3.3612506344794215,\n",
       " 3.3619829617858645,\n",
       " 3.3626200158958253,\n",
       " 3.362787805152626,\n",
       " 3.3637535614895375,\n",
       " 3.363128353999258,\n",
       " 3.3620404299973923,\n",
       " 3.3597188523585553,\n",
       " 3.3596095576460994,\n",
       " 3.3602110067287807,\n",
       " 3.3593059279638444,\n",
       " 3.359607859492036,\n",
       " 3.359379868912085,\n",
       " 3.359803719220443,\n",
       " 3.3576295307224124,\n",
       " 3.3562903809676716,\n",
       " 3.354716414080204,\n",
       " 3.3548260332894535,\n",
       " 3.353957885452676,\n",
       " 3.3529613022216838,\n",
       " 3.3549668753081052,\n",
       " 3.3532987654304147,\n",
       " 3.355699070064058,\n",
       " 3.354652335418272,\n",
       " 3.3551211988524066,\n",
       " 3.356038802289436,\n",
       " 3.355926941421143,\n",
       " 3.3536715837808204,\n",
       " 3.356201763922117,\n",
       " 3.35449376409437,\n",
       " 3.351844231231129,\n",
       " 3.353560285180978,\n",
       " 3.3528058074402716,\n",
       " 3.355674884022319,\n",
       " 3.3539055052729077,\n",
       " 3.3509794262731214,\n",
       " 3.3503797843804786,\n",
       " 3.352512403271791,\n",
       " 3.3527995395408765,\n",
       " 3.352728732447035,\n",
       " 3.3510502871191474,\n",
       " 3.351105324831467,\n",
       " 3.35036834213381,\n",
       " 3.3484879134862093,\n",
       " 3.3465480511221095,\n",
       " 3.3468802979136756,\n",
       " 3.3493231124887615,\n",
       " 3.34868359454244,\n",
       " 3.348648483546023,\n",
       " 3.349569362273178,\n",
       " 3.3462968344092694,\n",
       " 3.346011087126156,\n",
       " 3.3451987128193585,\n",
       " 3.3451769993238383,\n",
       " 3.3438157520939935,\n",
       " 3.343607281480015,\n",
       " 3.345282893717403,\n",
       " 3.343790329401414,\n",
       " 3.341458574567883,\n",
       " 3.340238273034221,\n",
       " 3.3397590254377385,\n",
       " 3.342494770321203,\n",
       " 3.3443841531651075,\n",
       " 3.342654515880224,\n",
       " 3.34321396451617,\n",
       " 3.3459693231004155,\n",
       " 3.3480389218561144,\n",
       " 3.3490595859112906,\n",
       " 3.3504668249969143,\n",
       " 3.3523669184476277,\n",
       " 3.3549218000303727,\n",
       " 3.35762910191104,\n",
       " 3.3599379885713887,\n",
       " 3.3616177238761007,\n",
       " 3.363418785754223,\n",
       " 3.3646494603302286,\n",
       " 3.367067555743681,\n",
       " 3.3692807430431597,\n",
       " 3.371131227658034,\n",
       " 3.3722148863950436,\n",
       " 3.3740877755242713,\n",
       " 3.3760657379887826,\n",
       " 3.377436306044815,\n",
       " 3.378159905335871,\n",
       " 3.380741455141269,\n",
       " 3.382527807717356,\n",
       " 3.3839040647203844,\n",
       " 3.3861701842966485,\n",
       " 3.3882570732869426,\n",
       " 3.390555054424844,\n",
       " 3.3927540870044264,\n",
       " 3.3923754289487116,\n",
       " 3.3950222059696333,\n",
       " 3.395629007536996,\n",
       " 3.397310201618795,\n",
       " 3.3991107872663395,\n",
       " 3.40032021219787,\n",
       " 3.4020046360444933,\n",
       " 3.402910873971461,\n",
       " 3.404385360624247,\n",
       " 3.406187471088951,\n",
       " 3.4065292645446936,\n",
       " 3.4063015649406654,\n",
       " 3.408295180922356,\n",
       " 3.405966218919991,\n",
       " 3.405034506510136,\n",
       " 3.402980847054753,\n",
       " 3.402485560760296,\n",
       " 3.4013371202507523,\n",
       " 3.4015868996931555,\n",
       " 3.4017611454901275,\n",
       " 3.4009533871414903,\n",
       " 3.398270924694736,\n",
       " 3.398496048287218,\n",
       " 3.3990382697049615,\n",
       " 3.3994895458403604,\n",
       " 3.398540211504581,\n",
       " 3.3997530743635327,\n",
       " 3.3997183248866785,\n",
       " 3.3981552343725547,\n",
       " 3.3983547699200773,\n",
       " 3.398297387193001,\n",
       " 3.398730481832234,\n",
       " 3.4000477667177296,\n",
       " 3.4011746476904112,\n",
       " 3.3996409705265256,\n",
       " 3.402532398003182,\n",
       " 3.4022207203416963,\n",
       " 3.402017727824402,\n",
       " 3.402196457338537,\n",
       " 3.402351433803268,\n",
       " 3.403118510034488,\n",
       " 3.403815462030684,\n",
       " 3.404456508166896,\n",
       " 3.403859816847085,\n",
       " 3.404976419609519,\n",
       " 3.4057940110322455,\n",
       " 3.4058018051174908,\n",
       " 3.4070205159810523,\n",
       " 3.4082439178072965,\n",
       " 3.4085571167482813,\n",
       " 3.410109508913809,\n",
       " 3.411721402584571,\n",
       " 3.411621929895674,\n",
       " 3.4134606930269302,\n",
       " 3.41478474474642,\n",
       " 3.4127774167438103,\n",
       " 3.412266358879973,\n",
       " 3.412250550231414,\n",
       " 3.412315436760712,\n",
       " 3.412898811141231,\n",
       " 3.4143567085985733,\n",
       " 3.4151604454342452,\n",
       " 3.413555356300658,\n",
       " 3.413300014171059,\n",
       " 3.4148571569960677,\n",
       " 3.4172556702155332,\n",
       " 3.417526057048087,\n",
       " 3.4180583095183534,\n",
       " 3.418663796463256,\n",
       " 3.4187919190084344,\n",
       " 3.4188588676207603,\n",
       " 3.420358979726314,\n",
       " 3.419679749516199,\n",
       " 3.4213288271970126,\n",
       " 3.4223901823473524,\n",
       " 3.423747094080465,\n",
       " 3.4235907896265796,\n",
       " 3.425216723362826,\n",
       " 3.4245818814133773,\n",
       " 3.4254782661763596,\n",
       " 3.427920691560365,\n",
       " 3.4283611040889004,\n",
       " 3.4289771171760948,\n",
       " 3.4301097756170162,\n",
       " 3.430450007170427,\n",
       " 3.430944900897528,\n",
       " 3.432173961586734,\n",
       " 3.4338352408048594,\n",
       " 3.43417303403089,\n",
       " 3.435850001362211,\n",
       " 3.437555663813678,\n",
       " 3.4392008440192043,\n",
       " 3.440776036466274,\n",
       " 3.4418898868446135,\n",
       " 3.443384458917838,\n",
       " 3.444879667282456,\n",
       " 3.446687532679322,\n",
       " 3.4478460681237397,\n",
       " 3.4492625809385786,\n",
       " 3.4508809918362378,\n",
       " 3.452672762410073,\n",
       " 3.45410598906202,\n",
       " 3.4550047560673507,\n",
       " 3.4566175933810994,\n",
       " 3.458267037053904,\n",
       " 3.459327018475352,\n",
       " 3.460527616131251,\n",
       " 3.4605152562932635,\n",
       " 3.4625210667613877,\n",
       " 3.4636269904923314,\n",
       " 3.464802591288678,\n",
       " 3.4655089872276847,\n",
       " 3.4671330791198174,\n",
       " 3.4684206426638307,\n",
       " 3.4696851336447305,\n",
       " 3.470763009389355,\n",
       " 3.4722101645961025,\n",
       " 3.473405083291252,\n",
       " 3.474847699284603,\n",
       " 3.475645767744054,\n",
       " 3.476426432926936,\n",
       " 3.4779044922985687,\n",
       " 3.478903806943261,\n",
       " 3.4805229224062972,\n",
       " 3.4820033601304807,\n",
       " 3.482829940219634,\n",
       " 3.4839575148911655,\n",
       " 3.48532016209836,\n",
       " 3.486277448906086,\n",
       " 3.4875023168056005,\n",
       " 3.488956947344445,\n",
       " 3.4898828240732582,\n",
       " 3.49100936300286,\n",
       " 3.492526415001586,\n",
       " 3.493659295933928,\n",
       " 3.494886957899335,\n",
       " 3.4960108206937393,\n",
       " 3.4974035319507157,\n",
       " 3.498029932859549,\n",
       " 3.498336560896643,\n",
       " 3.498928458895077,\n",
       " 3.499288027864749,\n",
       " 3.500411882931174,\n",
       " 3.5013831956668726,\n",
       " 3.5018283974666162,\n",
       " 3.5028672657608544,\n",
       " 3.504062370370765,\n",
       " 3.5046759562962957,\n",
       " 3.505512870558695,\n",
       " 3.5066641980122166,\n",
       " 3.508074702380315,\n",
       " 3.50877780018798,\n",
       " 3.509778242334896,\n",
       " 3.5097597928210567,\n",
       " 3.5109113037973105,\n",
       " 3.5119160843267414,\n",
       " 3.512350744100218,\n",
       " 3.5127567664271218,\n",
       " 3.5141757814890546,\n",
       " 3.51531537891165,\n",
       " 3.5162044631654243,\n",
       " 3.5173515428497515,\n",
       " 3.5178444321356044,\n",
       " 3.519127176364593,\n",
       " 3.520280096820217,\n",
       " 3.5206701839424546,\n",
       " 3.521444596993368,\n",
       " 3.522352146475276,\n",
       " 3.5229783560480485,\n",
       " 3.522661545872136,\n",
       " 3.523619072427084,\n",
       " 3.524397139813166,\n",
       " 3.5249598651201244,\n",
       " 3.5244186157785835,\n",
       " 3.524747951054741,\n",
       " 3.5250201467955837,\n",
       " 3.525446637606473,\n",
       " 3.5263354652332795,\n",
       " 3.5268424144989714,\n",
       " 3.5268262539384647,\n",
       " 3.527728561857257,\n",
       " 3.528473758676683,\n",
       " 3.529064724277282,\n",
       " 3.528385923287881,\n",
       " 3.5281803217815937,\n",
       " 3.52658806735375,\n",
       " 3.5267224983660395,\n",
       " 3.5266139784068433,\n",
       " 3.5247969625158575,\n",
       " 3.5252478512746634,\n",
       " 3.526022168493378,\n",
       " 3.5257073798555765,\n",
       " 3.524783465303985,\n",
       " 3.5247948101016973,\n",
       " 3.525308622725305,\n",
       " 3.5259271756211015,\n",
       " 3.5267545278451484,\n",
       " 3.527300993009033,\n",
       " 3.52614240191008,\n",
       " 3.525358245110074,\n",
       " 3.525148632492389,\n",
       " 3.524316964346977,\n",
       " 3.524007674417601,\n",
       " 3.522529500266306,\n",
       " 3.5229487765692182,\n",
       " 3.522500247334399,\n",
       " 3.5224217635242994,\n",
       " 3.5215700139292236,\n",
       " 3.5208493814267805,\n",
       " 3.5199605599567687,\n",
       " 3.5193127666388753,\n",
       " 3.516863165621498,\n",
       " 3.515738044231082,\n",
       " 3.5165681399281388,\n",
       " 3.515047122870432,\n",
       " 3.5143342447166206,\n",
       " 3.514468786710452,\n",
       " 3.5152716663798698,\n",
       " 3.515209463360013,\n",
       " 3.514236769413046,\n",
       " 3.5137104096652854,\n",
       " 3.5142448961597137,\n",
       " 3.5125516659490965,\n",
       " 3.513364079839181,\n",
       " 3.5132031856408905,\n",
       " 3.513305838156437,\n",
       " 3.5115735730848674,\n",
       " 3.5101057360433363,\n",
       " 3.510045535174713,\n",
       " 3.5106477702651837,\n",
       " 3.5099437926096124,\n",
       " 3.5085568236524693,\n",
       " 3.5081564115977906,\n",
       " 3.508537113571212,\n",
       " 3.5062913304661256,\n",
       " 3.5063438961654643,\n",
       " 3.505871339510491,\n",
       " 3.5056396864553214,\n",
       " 3.5049653277633763,\n",
       " 3.504200422659513,\n",
       " 3.5031131178145762,\n",
       " 3.5005610349798055,\n",
       " 3.500738108415259,\n",
       " 3.499874848952298,\n",
       " 3.497620622142391,\n",
       " 3.497680717605184,\n",
       " 3.497437496302694,\n",
       " 3.497835336300883,\n",
       " 3.498331107455109,\n",
       " 3.4970558181460754,\n",
       " 3.4958702926678256,\n",
       " 3.495134668483776,\n",
       " 3.492130103284111,\n",
       " 3.4901017788571296,\n",
       " 3.4900407822237995,\n",
       " 3.4900565404797748,\n",
       " 3.489867082864688,\n",
       " 3.4898639467527226,\n",
       " 3.490119970497034,\n",
       " 3.4890277292626903,\n",
       " 3.488665149650236,\n",
       " 3.4880167716727275,\n",
       " 3.487693193000313,\n",
       " 3.4868374223862504,\n",
       " 3.485507902826545,\n",
       " 3.484661099964068,\n",
       " 3.483069929453298,\n",
       " 3.482855267429623,\n",
       " 3.483458937126976,\n",
       " 3.4823830897606207,\n",
       " 3.4816375208429076,\n",
       " 3.4809328333107423,\n",
       " 3.481827937835846,\n",
       " 3.48174600474467,\n",
       " 3.4811832376335183,\n",
       " 3.4815208380379126,\n",
       " 3.4821346697425657,\n",
       " 3.4822796061449823,\n",
       " 3.4827019709774762,\n",
       " 3.48060848474123,\n",
       " 3.4805036996896943,\n",
       " 3.481222521380277,\n",
       " 3.4816973243023996,\n",
       " 3.4809201313867897,\n",
       " 3.4807598891305314,\n",
       " 3.4816604377525744,\n",
       " 3.4819143435779853,\n",
       " 3.481687439446091,\n",
       " 3.4817149771311344,\n",
       " 3.4818925822705773,\n",
       " 3.482387495940336,\n",
       " 3.4819980269677044,\n",
       " 3.4818007204998898,\n",
       " 3.4809655287114163,\n",
       " 3.4809938960307734,\n",
       " 3.480278131304537,\n",
       " 3.4811662978024454,\n",
       " 3.4806069511687125,\n",
       " 3.4797754665576623,\n",
       " 3.480914851962163,\n",
       " 3.4808164337381204,\n",
       " 3.4802055933737086,\n",
       " 3.479045213548869,\n",
       " 3.4793670833328654,\n",
       " 3.4800207708784656,\n",
       " 3.4797834703613155,\n",
       " 3.4795769201520304,\n",
       " 3.480078878845765,\n",
       " 3.4802448220883258,\n",
       " 3.4802736197237656,\n",
       " 3.477172784760558,\n",
       " 3.4763753990684223,\n",
       " 3.4752606790891263,\n",
       " 3.4751800735500735,\n",
       " 3.4741463390951783,\n",
       " 3.4744697066205705,\n",
       " 3.4738164157458438,\n",
       " 3.473743304084938,\n",
       " 3.4737810835035208,\n",
       " 3.4731235374528806,\n",
       " 3.473162097657396,\n",
       " 3.4716937792683007,\n",
       " 3.471018966994669,\n",
       " 3.471774654184677,\n",
       " 3.4716470911133386,\n",
       " 3.4723522472038706,\n",
       " 3.4717396076867475,\n",
       " 3.472134863925829,\n",
       " 3.471564129993822,\n",
       " 3.469415378328881,\n",
       " 3.469134498491546,\n",
       " 3.4698382510421912,\n",
       " 3.4693518783326818,\n",
       " 3.4690869461096776,\n",
       " 3.4682074286046007,\n",
       " 3.468017998695512,\n",
       " 3.4681563558735924,\n",
       " 3.4681175881349406,\n",
       " 3.4669165495501364,\n",
       " 3.4674646758775802,\n",
       " 3.4673938278870486,\n",
       " 3.4668185549040405,\n",
       " 3.4659585636572823,\n",
       " 3.4650799175040548,\n",
       " 3.4656152627360703,\n",
       " 3.4659069181563673,\n",
       " 3.4671297301644497,\n",
       " 3.4678029563030974,\n",
       " 3.4687956418806105,\n",
       " 3.4689804153442334,\n",
       " 3.4699609349679936,\n",
       " 3.470626573044336,\n",
       " 3.471176872493926,\n",
       " 3.471665842531605,\n",
       " 3.47224202762097,\n",
       " 3.4729630084575533,\n",
       " 3.473734493491665,\n",
       " 3.474172804189162,\n",
       " 3.474434700600696,\n",
       " 3.474730723687254,\n",
       " 3.4751819597021516,\n",
       " 3.475539613462423,\n",
       " 3.475388188225852,\n",
       " 3.475260572270077,\n",
       " 3.475727735561789,\n",
       " 3.4761361362712027,\n",
       " 3.474620475253341,\n",
       " 3.473870537338574,\n",
       " 3.473066684268321,\n",
       " 3.4734006729250955,\n",
       " 3.4723764863928444,\n",
       " 3.4723138599603587,\n",
       " 3.472753877226704,\n",
       " 3.4730213165015127,\n",
       " 3.47263227488677,\n",
       " 3.471917049266835,\n",
       " 3.4717923902113514,\n",
       " 3.471608757509922,\n",
       " 3.4717393094054008,\n",
       " 3.471247590742166,\n",
       " 3.4712508095265573,\n",
       " 3.47175990193766,\n",
       " 3.4718046808895693,\n",
       " 3.471669830232896,\n",
       " 3.4711751761790266,\n",
       " 3.471040328247862,\n",
       " 3.471979331749503,\n",
       " 3.472670458278627,\n",
       " 3.4726178595520305,\n",
       " 3.47246503670086,\n",
       " 3.4733435393854024,\n",
       " 3.472998474012939,\n",
       " 3.4720724286178863,\n",
       " 3.4702255813079934,\n",
       " 3.469300973473841,\n",
       " 3.469146438534108,\n",
       " 3.4685395220547623,\n",
       " 3.468026458811059,\n",
       " 3.4685047597382956,\n",
       " 3.4688427294174593,\n",
       " 3.4697101868350138,\n",
       " 3.469333272183857,\n",
       " 3.469944721351674,\n",
       " 3.4704065725797424,\n",
       " 3.4703164233190766,\n",
       " 3.4702589510825157,\n",
       " 3.4692162782891103,\n",
       " 3.469557637762292,\n",
       " 3.4695095620222354,\n",
       " 3.469641446462038,\n",
       " 3.4684093734678045,\n",
       " 3.4684494630953835,\n",
       " 3.46809947352531,\n",
       " 3.4678315124909873,\n",
       " 3.4677572512983197,\n",
       " 3.4670403860820342,\n",
       " 3.466599789200245,\n",
       " 3.4664403436219073,\n",
       " 3.4664563515754225,\n",
       " 3.466335640543758,\n",
       " 3.466133908944024,\n",
       " 3.4658630644466006,\n",
       " 3.466179568746417,\n",
       " 3.466395455396595,\n",
       " 3.4659796475038815,\n",
       " 3.4662892560659535,\n",
       " 3.4666218140700225,\n",
       " 3.4653630126278276,\n",
       " 3.4644122511214577,\n",
       " 3.4641952057530814,\n",
       " 3.4643870922627404,\n",
       " 3.4635235768845276,\n",
       " 3.4633523487301585,\n",
       " 3.462920600600413,\n",
       " 3.463302606361359,\n",
       " 3.4620722899918075,\n",
       " 3.462177513555925,\n",
       " 3.4628996542026624,\n",
       " 3.4629159619597027,\n",
       " 3.4630154738286967,\n",
       " 3.4626527457905545,\n",
       " 3.461720407470517,\n",
       " 3.4612505694600806,\n",
       " 3.4614222648830886,\n",
       " 3.4611555194233334,\n",
       " 3.4608606221977576,\n",
       " 3.461385526840114,\n",
       " 3.4599981436985385,\n",
       " 3.46086102473648,\n",
       " 3.461006950068321,\n",
       " 3.460887315262334,\n",
       " 3.4609013734232823,\n",
       " 3.4614310460729527,\n",
       " 3.462055827945154,\n",
       " 3.4619059412689266,\n",
       " 3.4624787244386295,\n",
       " 3.46295727472275,\n",
       " 3.4629128726258718,\n",
       " 3.4628717451479623,\n",
       " 3.462562742408007,\n",
       " 3.462010098749216,\n",
       " 3.462560297823593,\n",
       " 3.4622256826674485,\n",
       " 3.4609313663785586,\n",
       " 3.4613220231179542,\n",
       " 3.461085185515563,\n",
       " 3.4611589347782417,\n",
       " 3.459901637462154,\n",
       " 3.4604619116584514,\n",
       " 3.4610374512676643,\n",
       " 3.4613195794243725,\n",
       " 3.4610638304444437,\n",
       " 3.4594606928349685,\n",
       " 3.4596764533644064,\n",
       " 3.4602757724200264,\n",
       " 3.460469110715308,\n",
       " 3.4602372733808315,\n",
       " 3.4603871539671744,\n",
       " 3.460823348329006,\n",
       " 3.4614875871331847,\n",
       " 3.462261813986005,\n",
       " 3.4622866913093047,\n",
       " 3.4630846430920963,\n",
       " 3.4626803407342974,\n",
       " 3.463556500923416,\n",
       " 3.462795637590202,\n",
       " 3.462466293199682,\n",
       " 3.4627110232347267,\n",
       " 3.4610842539079303,\n",
       " 3.4606095607740874,\n",
       " 3.4602880020901705,\n",
       " 3.4607254583089606,\n",
       " 3.4607620657371814,\n",
       " 3.460825907440732,\n",
       " 3.4610695940258482,\n",
       " 3.462213245103036,\n",
       " 3.4613974223709594,\n",
       " 3.4616017731462785,\n",
       " 3.460747697650438,\n",
       " 3.4598412124552507,\n",
       " 3.459411899024097,\n",
       " 3.4588072971215316,\n",
       " 3.4585291155710927,\n",
       " 3.458033886204225,\n",
       " 3.4568991523190142,\n",
       " 3.4555874752755686,\n",
       " 3.4548176843284453,\n",
       " 3.4547980941878023,\n",
       " 3.455183016731606,\n",
       " 3.4548402764774115,\n",
       " 3.454891189356242,\n",
       " 3.4549922610542,\n",
       " 3.4553546701115554,\n",
       " 3.4560327250096456,\n",
       " 3.4551369472451476,\n",
       " 3.4552432959589985,\n",
       " 3.453520365803016,\n",
       " 3.4528000117132183,\n",
       " 3.4528010214249396,\n",
       " 3.4525941473613684,\n",
       " 3.452303972941019,\n",
       " 3.4514986975442765,\n",
       " 3.450670441542252,\n",
       " 3.44899322601897,\n",
       " 3.4489265175426875,\n",
       " 3.44883196083104,\n",
       " 3.4482310948722015,\n",
       " 3.4483611373266396,\n",
       " 3.447618044433423,\n",
       " 3.445744293832503,\n",
       " 3.445877615081493,\n",
       " 3.4455187190296415,\n",
       " 3.445358632430049,\n",
       " 3.444295887635692,\n",
       " 3.4442147399767835,\n",
       " 3.4437775029213866,\n",
       " 3.4435835151489282,\n",
       " 3.4421750539726164,\n",
       " 3.4421121472301492,\n",
       " 3.442048401360064,\n",
       " 3.44185994156494,\n",
       " 3.441728752708582,\n",
       " 3.442064194762218,\n",
       " 3.441040211941824,\n",
       " 3.4407518279945384,\n",
       " 3.439708893980083,\n",
       " 3.439774214788338,\n",
       " 3.440109956980126,\n",
       " 3.439779692577569,\n",
       " 3.439137195702439,\n",
       " 3.439118948697606,\n",
       " 3.438762889110835,\n",
       " 3.439097912911577,\n",
       " 3.4397982651900754,\n",
       " 3.4392661987875557,\n",
       " 3.438633938917612,\n",
       " 3.4381102155104117,\n",
       " 3.437694679947767,\n",
       " 3.43767219009399,\n",
       " 3.437449427782636,\n",
       " 3.4378401663106923,\n",
       " 3.437136475064922,\n",
       " 3.4364490737780224,\n",
       " 3.435984766252727,\n",
       " 3.4356231933670713,\n",
       " 3.4353996018666817,\n",
       " 3.4360537261552326,\n",
       " 3.436827680541368,\n",
       " 3.4363375816312987,\n",
       " 3.4371368506181215,\n",
       " 3.4372325643743618,\n",
       " 3.4377856296667293,\n",
       " 3.4372804112301294,\n",
       " 3.4377411686919923,\n",
       " 3.438069516569288,\n",
       " 3.438440942147121,\n",
       " 3.4378129873284986,\n",
       " 3.4380466364882323,\n",
       " 3.438492280181581,\n",
       " 3.4380214431657254,\n",
       " 3.43711093660721,\n",
       " 3.43653421891202,\n",
       " 3.436204871087474,\n",
       " 3.43589253646797,\n",
       " 3.435550445230379,\n",
       " 3.4357282071137663,\n",
       " 3.4352969298096663,\n",
       " 3.4340673686791585,\n",
       " 3.43225745430747,\n",
       " 3.4327510707202897,\n",
       " 3.4326564675874556,\n",
       " 3.432381684735265,\n",
       " 3.4327293102094605,\n",
       " 3.432752637871984,\n",
       " 3.432264049504797,\n",
       " 3.432023394214605,\n",
       " 3.432634177765745,\n",
       " 3.4326605629357325,\n",
       " 3.4321484324438325,\n",
       " 3.432422870525345,\n",
       " 3.4330038092453803,\n",
       " 3.4327634338439705,\n",
       " 3.4321286609337287,\n",
       " 3.4325671440401875,\n",
       " 3.4313183978890875,\n",
       " 3.4312865054268786,\n",
       " 3.431232949243025,\n",
       " 3.4310718662384363,\n",
       " 3.4304280115519,\n",
       " 3.430460299725725,\n",
       " 3.4296864459941556,\n",
       " 3.4300359536399103,\n",
       " 3.4296011346776862,\n",
       " 3.4293692143396277,\n",
       " 3.4280432964799354,\n",
       " 3.4266997428496513,\n",
       " 3.426044317196193,\n",
       " 3.4257059864844703,\n",
       " 3.4251106370843183,\n",
       " 3.4252630592126705,\n",
       " 3.425839525552477,\n",
       " 3.4256633336431057,\n",
       " 3.4249557126885084,\n",
       " 3.425447423642486,\n",
       " ...]"
      ]
     },
     "execution_count": 45,
     "metadata": {},
     "output_type": "execute_result"
    }
   ],
   "source": [
    "promedios = list()\n",
    "\n",
    "for i in range(1,len(nota_promedio_por_pelicula_con_10_o_mas_votos)):\n",
    "    promedio = sum(nota_promedio_por_pelicula_con_10_o_mas_votos[0:i]) / i\n",
    "    promedios.append(promedio)\n",
    "\n",
    "promedios\n"
   ]
  },
  {
   "cell_type": "markdown",
   "id": "2ff96882",
   "metadata": {},
   "source": [
    "### Notamos que existe una oscilación del promedio, entonces graficando el comportamiento:"
   ]
  },
  {
   "cell_type": "markdown",
   "id": "514d46e0",
   "metadata": {},
   "source": [
    "#### Lo que da la conclusión que con el tamaño, la muestra es pequeña, siempre tenemos la probabilidad de tomar conclusiones erradas, porque a medida que van creciendo los datos a partir del número 500, í baja un poco, a partir del número 1000, se comienza a estabilizar."
   ]
  },
  {
   "cell_type": "code",
   "execution_count": 46,
   "id": "1f60c5ff",
   "metadata": {},
   "outputs": [
    {
     "data": {
      "text/plain": [
       "[<matplotlib.lines.Line2D at 0x21f13eba310>]"
      ]
     },
     "execution_count": 46,
     "metadata": {},
     "output_type": "execute_result"
    },
    {
     "data": {
      "image/png": "[encoded data removed]",
      "text/plain": [
       "<Figure size 432x288 with 1 Axes>"
      ]
     },
     "metadata": {
      "needs_background": "light"
     },
     "output_type": "display_data"
    }
   ],
   "source": [
    "import matplotlib.pyplot as plt\n",
    "\n",
    "promedios = list()\n",
    "\n",
    "for i in range(1,len(nota_promedio_por_pelicula_con_10_o_mas_votos)):\n",
    "    promedio = sum(nota_promedio_por_pelicula_con_10_o_mas_votos[0:i]) / i\n",
    "    promedios.append(promedio)\n",
    "\n",
    "promedios\n",
    "\n",
    "plt.plot(promedios)"
   ]
  },
  {
   "cell_type": "markdown",
   "id": "fca0df96",
   "metadata": {},
   "source": [
    "### Ordenando aleatoriamente para ver si el comportamiento es el mismo cuando aleatorizamos los datos"
   ]
  },
  {
   "cell_type": "markdown",
   "id": "4ae61d0f",
   "metadata": {},
   "source": [
    "#### A partir del número 500, ya está estabilizado, a diferencia del otro, que es a partir del número 1000. Entonces esto  ayuda incluso a ver la importancia del tamaño de los datos, de la gráfica anterior a partir del número 1000 se estabilizó y en este, a partir del número 500.\n",
    "\n",
    "#### Aparte del número de muestras, el orden también puede influenciarlo, porque, si con mis datos yo recibí ordenados de menor a mayor y capturo una muestra que no sea aleatoria, la probabilidad de que yo tome decisiones erradas es muy grande. Entonces, aparte de tomar datos aleatorios es importante tomar en cuenta estos detalles como el orden de los datos, por ejemplo, para analizar esa tendencia y consistencia en los datos."
   ]
  },
  {
   "cell_type": "code",
   "execution_count": 49,
   "id": "576d02e7",
   "metadata": {},
   "outputs": [
    {
     "data": {
      "text/plain": [
       "[<matplotlib.lines.Line2D at 0x21f14f8d100>]"
      ]
     },
     "execution_count": 49,
     "metadata": {},
     "output_type": "execute_result"
    },
    {
     "data": {
      "image/png": "[encoded data removed]",
      "text/plain": [
       "<Figure size 432x288 with 1 Axes>"
      ]
     },
     "metadata": {
      "needs_background": "light"
     },
     "output_type": "display_data"
    }
   ],
   "source": [
    "import matplotlib.pyplot as plt\n",
    "import numpy as np\n",
    "\n",
    "##numpy ayuda a aleatorizar las variables\n",
    "\n",
    "np.random.seed(75243)\n",
    "\n",
    "## La función seed() en NumPy permite establecer la semilla del\n",
    "## generador de números aleatorios para asegurar que los resultados sean reproducibles.\n",
    "temp= nota_promedio_por_pelicula_con_10_o_mas_votos.sample(frac=1)\n",
    "promedios = list()\n",
    "\n",
    "for i in range(1,len(temp)):\n",
    "    promedio = sum(temp[0:i]) / i\n",
    "    promedios.append(promedio)\n",
    "\n",
    "promedios\n",
    "\n",
    "plt.plot(promedios)"
   ]
  },
  {
   "cell_type": "markdown",
   "id": "ecb611cc",
   "metadata": {},
   "source": [
    "### Sacando intervalos de confianza para sacar el rango de valores y verificar qué el universo se encuentra en el intervalo de valores"
   ]
  },
  {
   "cell_type": "markdown",
   "id": "8579bc96",
   "metadata": {},
   "source": [
    "Teniendo como base este promedio: "
   ]
  },
  {
   "cell_type": "code",
   "execution_count": 51,
   "id": "735e2d0f",
   "metadata": {},
   "outputs": [
    {
     "data": {
      "text/plain": [
       "3.4320503405352603"
      ]
     },
     "execution_count": 51,
     "metadata": {},
     "output_type": "execute_result"
    }
   ],
   "source": [
    "nota_promedio_por_pelicula_con_10_o_mas_votos.mean()"
   ]
  },
  {
   "cell_type": "markdown",
   "id": "c7127a65",
   "metadata": {},
   "source": [
    "### Analizamos Tests Estadísticos Z test - T Test"
   ]
  },
  {
   "cell_type": "markdown",
   "id": "1b75d811",
   "metadata": {},
   "source": [
    "#### Se importa la función zconfint() del módulo para calcular elintervalo de confianza para la media de la muestra, utilizando el método de distribución normal z\n"
   ]
  },
  {
   "cell_type": "markdown",
   "id": "60234443",
   "metadata": {},
   "source": [
    "#### el promedio era 3.43 y nos dice que el universo seleccionar aleatoriamente un valor de universo para ver el promedio de las notas,entonces existe un 95% de confianza de que si se selecciona cualquier dato va a estar entre 3.411 y  3.452."
   ]
  },
  {
   "cell_type": "code",
   "execution_count": 53,
   "id": "14c59678",
   "metadata": {},
   "outputs": [
    {
     "data": {
      "text/plain": [
       "(3.4112459477469557, 3.452854733323563)"
      ]
     },
     "execution_count": 53,
     "metadata": {},
     "output_type": "execute_result"
    }
   ],
   "source": [
    "from statsmodels.stats.weightstats import zconfint\n",
    "zconfint(nota_promedio_por_pelicula_con_10_o_mas_votos)"
   ]
  },
  {
   "cell_type": "markdown",
   "id": "8086da00",
   "metadata": {},
   "source": [
    "### Calculando el T test"
   ]
  },
  {
   "cell_type": "code",
   "execution_count": 59,
   "id": "5371c078",
   "metadata": {},
   "outputs": [
    {
     "data": {
      "text/plain": [
       "(3.41123483922938, 3.4528658418411386)"
      ]
     },
     "execution_count": 59,
     "metadata": {},
     "output_type": "execute_result"
    }
   ],
   "source": [
    "from statsmodels.stats.weightstats import DescrStatsW\n",
    "desc_notas_con_mas_de_10_votos= DescrStatsW(nota_promedio_por_pelicula_con_10_o_mas_votos)\n",
    "desc_notas_con_mas_de_10_votos.tconfint_mean()"
   ]
  },
  {
   "cell_type": "markdown",
   "id": "cd14a1a7",
   "metadata": {},
   "source": [
    "### Se observa una similitud de intervalos del T y Z tests"
   ]
  },
  {
   "cell_type": "code",
   "execution_count": 61,
   "id": "662d3791",
   "metadata": {},
   "outputs": [
    {
     "data": {
      "text/plain": [
       "(3.41123483922938, 3.4528658418411386)"
      ]
     },
     "execution_count": 61,
     "metadata": {},
     "output_type": "execute_result"
    }
   ],
   "source": [
    "desc_notas_con_mas_de_10_votos.tconfint_mean()\n"
   ]
  },
  {
   "cell_type": "code",
   "execution_count": 62,
   "id": "5118f599",
   "metadata": {},
   "outputs": [
    {
     "data": {
      "text/plain": [
       "(3.4112459477469557, 3.452854733323563)"
      ]
     },
     "execution_count": 62,
     "metadata": {},
     "output_type": "execute_result"
    }
   ],
   "source": [
    "desc_notas_con_mas_de_10_votos.zconfint_mean()"
   ]
  },
  {
   "cell_type": "markdown",
   "id": "0ee83b7d",
   "metadata": {},
   "source": [
    "### Resumiendo:\n",
    "#### media= 3.43\n",
    "#### int(3.41, 3.45)"
   ]
  },
  {
   "cell_type": "markdown",
   "id": "8f04ceab",
   "metadata": {},
   "source": [
    "### Importando para extraer el nuevo dataset de películas registradas y se analiza una película específica: Toy Story"
   ]
  },
  {
   "cell_type": "code",
   "execution_count": 63,
   "id": "58012f2b",
   "metadata": {},
   "outputs": [],
   "source": [
    "peliculas =  pd.read_csv('C:/Users/Carina/Downloads/ml-latest-small/movies.csv')"
   ]
  },
  {
   "cell_type": "code",
   "execution_count": 64,
   "id": "7561640f",
   "metadata": {},
   "outputs": [
    {
     "data": {
      "text/html": [
       "<div>\n",
       "<style scoped>\n",
       "    .dataframe tbody tr th:only-of-type {\n",
       "        vertical-align: middle;\n",
       "    }\n",
       "\n",
       "    .dataframe tbody tr th {\n",
       "        vertical-align: top;\n",
       "    }\n",
       "\n",
       "    .dataframe thead th {\n",
       "        text-align: right;\n",
       "    }\n",
       "</style>\n",
       "<table border=\"1\" class=\"dataframe\">\n",
       "  <thead>\n",
       "    <tr style=\"text-align: right;\">\n",
       "      <th></th>\n",
       "      <th>movieId</th>\n",
       "      <th>title</th>\n",
       "      <th>genres</th>\n",
       "    </tr>\n",
       "  </thead>\n",
       "  <tbody>\n",
       "    <tr>\n",
       "      <th>0</th>\n",
       "      <td>1</td>\n",
       "      <td>Toy Story (1995)</td>\n",
       "      <td>Adventure|Animation|Children|Comedy|Fantasy</td>\n",
       "    </tr>\n",
       "    <tr>\n",
       "      <th>1</th>\n",
       "      <td>2</td>\n",
       "      <td>Jumanji (1995)</td>\n",
       "      <td>Adventure|Children|Fantasy</td>\n",
       "    </tr>\n",
       "    <tr>\n",
       "      <th>2</th>\n",
       "      <td>3</td>\n",
       "      <td>Grumpier Old Men (1995)</td>\n",
       "      <td>Comedy|Romance</td>\n",
       "    </tr>\n",
       "    <tr>\n",
       "      <th>3</th>\n",
       "      <td>4</td>\n",
       "      <td>Waiting to Exhale (1995)</td>\n",
       "      <td>Comedy|Drama|Romance</td>\n",
       "    </tr>\n",
       "    <tr>\n",
       "      <th>4</th>\n",
       "      <td>5</td>\n",
       "      <td>Father of the Bride Part II (1995)</td>\n",
       "      <td>Comedy</td>\n",
       "    </tr>\n",
       "  </tbody>\n",
       "</table>\n",
       "</div>"
      ],
      "text/plain": [
       "   movieId                               title  \\\n",
       "0        1                    Toy Story (1995)   \n",
       "1        2                      Jumanji (1995)   \n",
       "2        3             Grumpier Old Men (1995)   \n",
       "3        4            Waiting to Exhale (1995)   \n",
       "4        5  Father of the Bride Part II (1995)   \n",
       "\n",
       "                                        genres  \n",
       "0  Adventure|Animation|Children|Comedy|Fantasy  \n",
       "1                   Adventure|Children|Fantasy  \n",
       "2                               Comedy|Romance  \n",
       "3                         Comedy|Drama|Romance  \n",
       "4                                       Comedy  "
      ]
     },
     "execution_count": 64,
     "metadata": {},
     "output_type": "execute_result"
    }
   ],
   "source": [
    "peliculas.head()"
   ]
  },
  {
   "cell_type": "code",
   "execution_count": 65,
   "id": "b6ad08b1",
   "metadata": {},
   "outputs": [
    {
     "data": {
      "text/html": [
       "<div>\n",
       "<style scoped>\n",
       "    .dataframe tbody tr th:only-of-type {\n",
       "        vertical-align: middle;\n",
       "    }\n",
       "\n",
       "    .dataframe tbody tr th {\n",
       "        vertical-align: top;\n",
       "    }\n",
       "\n",
       "    .dataframe thead th {\n",
       "        text-align: right;\n",
       "    }\n",
       "</style>\n",
       "<table border=\"1\" class=\"dataframe\">\n",
       "  <thead>\n",
       "    <tr style=\"text-align: right;\">\n",
       "      <th></th>\n",
       "      <th>userId</th>\n",
       "      <th>movieId</th>\n",
       "      <th>rating</th>\n",
       "      <th>timestamp</th>\n",
       "    </tr>\n",
       "  </thead>\n",
       "  <tbody>\n",
       "    <tr>\n",
       "      <th>0</th>\n",
       "      <td>1</td>\n",
       "      <td>1</td>\n",
       "      <td>4.0</td>\n",
       "      <td>964982703</td>\n",
       "    </tr>\n",
       "    <tr>\n",
       "      <th>1</th>\n",
       "      <td>1</td>\n",
       "      <td>3</td>\n",
       "      <td>4.0</td>\n",
       "      <td>964981247</td>\n",
       "    </tr>\n",
       "    <tr>\n",
       "      <th>2</th>\n",
       "      <td>1</td>\n",
       "      <td>6</td>\n",
       "      <td>4.0</td>\n",
       "      <td>964982224</td>\n",
       "    </tr>\n",
       "    <tr>\n",
       "      <th>3</th>\n",
       "      <td>1</td>\n",
       "      <td>47</td>\n",
       "      <td>5.0</td>\n",
       "      <td>964983815</td>\n",
       "    </tr>\n",
       "    <tr>\n",
       "      <th>4</th>\n",
       "      <td>1</td>\n",
       "      <td>50</td>\n",
       "      <td>5.0</td>\n",
       "      <td>964982931</td>\n",
       "    </tr>\n",
       "  </tbody>\n",
       "</table>\n",
       "</div>"
      ],
      "text/plain": [
       "   userId  movieId  rating  timestamp\n",
       "0       1        1     4.0  964982703\n",
       "1       1        3     4.0  964981247\n",
       "2       1        6     4.0  964982224\n",
       "3       1       47     5.0  964983815\n",
       "4       1       50     5.0  964982931"
      ]
     },
     "execution_count": 65,
     "metadata": {},
     "output_type": "execute_result"
    }
   ],
   "source": [
    "notas.head()"
   ]
  },
  {
   "cell_type": "markdown",
   "id": "48697e9f",
   "metadata": {},
   "source": [
    "### Notas de todos los usuarios que vieron la película de Toy Story"
   ]
  },
  {
   "cell_type": "code",
   "execution_count": 67,
   "id": "416aec86",
   "metadata": {},
   "outputs": [
    {
     "data": {
      "text/html": [
       "<div>\n",
       "<style scoped>\n",
       "    .dataframe tbody tr th:only-of-type {\n",
       "        vertical-align: middle;\n",
       "    }\n",
       "\n",
       "    .dataframe tbody tr th {\n",
       "        vertical-align: top;\n",
       "    }\n",
       "\n",
       "    .dataframe thead th {\n",
       "        text-align: right;\n",
       "    }\n",
       "</style>\n",
       "<table border=\"1\" class=\"dataframe\">\n",
       "  <thead>\n",
       "    <tr style=\"text-align: right;\">\n",
       "      <th></th>\n",
       "      <th>userId</th>\n",
       "      <th>movieId</th>\n",
       "      <th>rating</th>\n",
       "      <th>timestamp</th>\n",
       "    </tr>\n",
       "  </thead>\n",
       "  <tbody>\n",
       "    <tr>\n",
       "      <th>0</th>\n",
       "      <td>1</td>\n",
       "      <td>1</td>\n",
       "      <td>4.0</td>\n",
       "      <td>964982703</td>\n",
       "    </tr>\n",
       "    <tr>\n",
       "      <th>516</th>\n",
       "      <td>5</td>\n",
       "      <td>1</td>\n",
       "      <td>4.0</td>\n",
       "      <td>847434962</td>\n",
       "    </tr>\n",
       "    <tr>\n",
       "      <th>874</th>\n",
       "      <td>7</td>\n",
       "      <td>1</td>\n",
       "      <td>4.5</td>\n",
       "      <td>1106635946</td>\n",
       "    </tr>\n",
       "    <tr>\n",
       "      <th>1434</th>\n",
       "      <td>15</td>\n",
       "      <td>1</td>\n",
       "      <td>2.5</td>\n",
       "      <td>1510577970</td>\n",
       "    </tr>\n",
       "    <tr>\n",
       "      <th>1667</th>\n",
       "      <td>17</td>\n",
       "      <td>1</td>\n",
       "      <td>4.5</td>\n",
       "      <td>1305696483</td>\n",
       "    </tr>\n",
       "    <tr>\n",
       "      <th>...</th>\n",
       "      <td>...</td>\n",
       "      <td>...</td>\n",
       "      <td>...</td>\n",
       "      <td>...</td>\n",
       "    </tr>\n",
       "    <tr>\n",
       "      <th>97364</th>\n",
       "      <td>606</td>\n",
       "      <td>1</td>\n",
       "      <td>2.5</td>\n",
       "      <td>1349082950</td>\n",
       "    </tr>\n",
       "    <tr>\n",
       "      <th>98479</th>\n",
       "      <td>607</td>\n",
       "      <td>1</td>\n",
       "      <td>4.0</td>\n",
       "      <td>964744033</td>\n",
       "    </tr>\n",
       "    <tr>\n",
       "      <th>98666</th>\n",
       "      <td>608</td>\n",
       "      <td>1</td>\n",
       "      <td>2.5</td>\n",
       "      <td>1117408267</td>\n",
       "    </tr>\n",
       "    <tr>\n",
       "      <th>99497</th>\n",
       "      <td>609</td>\n",
       "      <td>1</td>\n",
       "      <td>3.0</td>\n",
       "      <td>847221025</td>\n",
       "    </tr>\n",
       "    <tr>\n",
       "      <th>99534</th>\n",
       "      <td>610</td>\n",
       "      <td>1</td>\n",
       "      <td>5.0</td>\n",
       "      <td>1479542900</td>\n",
       "    </tr>\n",
       "  </tbody>\n",
       "</table>\n",
       "<p>215 rows × 4 columns</p>\n",
       "</div>"
      ],
      "text/plain": [
       "       userId  movieId  rating   timestamp\n",
       "0           1        1     4.0   964982703\n",
       "516         5        1     4.0   847434962\n",
       "874         7        1     4.5  1106635946\n",
       "1434       15        1     2.5  1510577970\n",
       "1667       17        1     4.5  1305696483\n",
       "...       ...      ...     ...         ...\n",
       "97364     606        1     2.5  1349082950\n",
       "98479     607        1     4.0   964744033\n",
       "98666     608        1     2.5  1117408267\n",
       "99497     609        1     3.0   847221025\n",
       "99534     610        1     5.0  1479542900\n",
       "\n",
       "[215 rows x 4 columns]"
      ]
     },
     "execution_count": 67,
     "metadata": {},
     "output_type": "execute_result"
    }
   ],
   "source": [
    "notas1 = notas.query(\"movieId == 1\")\n",
    "notas1"
   ]
  },
  {
   "cell_type": "markdown",
   "id": "cf609647",
   "metadata": {},
   "source": [
    "### Graficando un histograma"
   ]
  },
  {
   "cell_type": "code",
   "execution_count": 71,
   "id": "e2ef2fb5",
   "metadata": {},
   "outputs": [
    {
     "name": "stderr",
     "output_type": "stream",
     "text": [
      "C:\\Users\\Carina\\anaconda3\\lib\\site-packages\\seaborn\\distributions.py:2619: FutureWarning: `distplot` is a deprecated function and will be removed in a future version. Please adapt your code to use either `displot` (a figure-level function with similar flexibility) or `histplot` (an axes-level function for histograms).\n",
      "  warnings.warn(msg, FutureWarning)\n"
     ]
    },
    {
     "data": {
      "text/plain": [
       "Text(0.5, 1.0, 'Grafico de distribución de la nota de Toy Story ')"
      ]
     },
     "execution_count": 71,
     "metadata": {},
     "output_type": "execute_result"
    },
    {
     "data": {
      "image/png": "[encoded data removed]",
      "text/plain": [
       "<Figure size 432x288 with 1 Axes>"
      ]
     },
     "metadata": {
      "needs_background": "light"
     },
     "output_type": "display_data"
    }
   ],
   "source": [
    "ax=sb.distplot(notas1.rating)\n",
    "ax.set(xlabel = \"Nota de Toy Story\", ylabel= \"Densidad\")\n",
    "ax.set_title(\"Grafico de distribución de la nota de Toy Story \")"
   ]
  },
  {
   "cell_type": "markdown",
   "id": "13a90227",
   "metadata": {},
   "source": [
    "### Graficando con boxplot"
   ]
  },
  {
   "cell_type": "markdown",
   "id": "6baa360e",
   "metadata": {},
   "source": [
    "#### Se visualiza una mediana de 4, tiene una mediana mayor al de movielens (3.5) vs Toy Story (4)\n",
    "\n",
    "#### La mediana a la derecha están mas concentrados (mayores votaciones que jalan hacia los votos máximos)\n",
    "#### Podemos decir que la nota de Toy Story es mejor que todas las notas (movielens)"
   ]
  },
  {
   "cell_type": "code",
   "execution_count": 73,
   "id": "8ae1eafc",
   "metadata": {},
   "outputs": [
    {
     "name": "stderr",
     "output_type": "stream",
     "text": [
      "C:\\Users\\Carina\\anaconda3\\lib\\site-packages\\seaborn\\_decorators.py:36: FutureWarning: Pass the following variable as a keyword arg: x. From version 0.12, the only valid positional argument will be `data`, and passing other arguments without an explicit keyword will result in an error or misinterpretation.\n",
      "  warnings.warn(\n"
     ]
    },
    {
     "data": {
      "text/plain": [
       "Text(0.5, 1.0, 'Grafico de distribución de notas de Toy Story')"
      ]
     },
     "execution_count": 73,
     "metadata": {},
     "output_type": "execute_result"
    },
    {
     "data": {
      "image/png": "[encoded data removed]",
      "text/plain": [
       "<Figure size 432x288 with 1 Axes>"
      ]
     },
     "metadata": {
      "needs_background": "light"
     },
     "output_type": "display_data"
    }
   ],
   "source": [
    "ax=sb.boxplot(notas1.rating)\n",
    "ax.set(xlabel = \"Nota de Toy Story\")\n",
    "ax.set_title(\"Grafico de distribución de notas de Toy Story\")"
   ]
  },
  {
   "cell_type": "markdown",
   "id": "ff8f1af7",
   "metadata": {},
   "source": [
    "### Podria exisitir un sesgo, quizá por el tipo de muestra que se hizo, quizá se seleccionaron datos aleatorios y se seleccionaron los datos 'buenos' entonces se realiza un test para comparar y concluir si este resultado es real"
   ]
  },
  {
   "cell_type": "code",
   "execution_count": 74,
   "id": "f70ae4bb",
   "metadata": {},
   "outputs": [
    {
     "data": {
      "text/plain": [
       "(3.8093359183563402, 4.032524546759939)"
      ]
     },
     "execution_count": 74,
     "metadata": {},
     "output_type": "execute_result"
    }
   ],
   "source": [
    "zconfint(notas1.rating)"
   ]
  },
  {
   "cell_type": "markdown",
   "id": "f528b908",
   "metadata": {},
   "source": [
    "### Las medias de los promedios de Toy Story con un nivel de confianza del 95% con seleccion aleatoria de las votaciones oscila entre 3.80 a 4.03"
   ]
  },
  {
   "cell_type": "markdown",
   "id": "ac1702ec",
   "metadata": {},
   "source": [
    "### Obteniendo resultados enteros "
   ]
  },
  {
   "cell_type": "markdown",
   "id": "9600ca9f",
   "metadata": {},
   "source": [
    "#### Comparando las notas que fueron dadas a Toy Story con el promedio de todas las notas que ya se había calculado anteriormente con un alpha de 0.05.\n",
    "#### ie si la media de notas de Toy Story es igual a la media de todas las películas analizadas"
   ]
  },
  {
   "cell_type": "code",
   "execution_count": 77,
   "id": "93b186c6",
   "metadata": {},
   "outputs": [
    {
     "data": {
      "text/plain": [
       "(12.64176977802645, 1.2422593409480636e-36)"
      ]
     },
     "execution_count": 77,
     "metadata": {},
     "output_type": "execute_result"
    }
   ],
   "source": [
    "\n",
    "from statsmodels.stats.weightstats import ztest\n",
    "ztest(notas1.rating,nota_promedio_por_pelicula_con_10_o_mas_votos)"
   ]
  },
  {
   "cell_type": "markdown",
   "id": "dfac2f03",
   "metadata": {},
   "source": [
    "#### 1.2422593409480636e-36 es mucho menor que 0.0.5 (del 5% de error), usando el pvalue  menor que el valor de alpha, se verifica que podemos rechazar la hiótesis nula: Decir que este eran iguales.\n",
    "#### Se considera entonces que la media de Toy Stroy es mayor que la media de todas las películas en general."
   ]
  },
  {
   "cell_type": "markdown",
   "id": "444dc838",
   "metadata": {},
   "source": [
    "### Capturando los datos para ver la gráfica de muestras"
   ]
  },
  {
   "cell_type": "code",
   "execution_count": 81,
   "id": "118698ff",
   "metadata": {},
   "outputs": [
    {
     "data": {
      "text/plain": [
       "[<matplotlib.lines.Line2D at 0x21f1617aeb0>]"
      ]
     },
     "execution_count": 81,
     "metadata": {},
     "output_type": "execute_result"
    },
    {
     "data": {
      "image/png": "[encoded data removed]",
      "text/plain": [
       "<Figure size 432x288 with 1 Axes>"
      ]
     },
     "metadata": {
      "needs_background": "light"
     },
     "output_type": "display_data"
    }
   ],
   "source": [
    "\n",
    "\n",
    "np.random.seed(75241)\n",
    "\n",
    "## La función seed() en NumPy permite establecer la semilla del\n",
    "## generador de números aleatorios para asegurar que los resultados sean reproducibles.\n",
    "temp= notas1.sample(frac=1).rating\n",
    "promedios = list()\n",
    "\n",
    "for i in range(1,len(temp)):\n",
    "    promedio = sum(temp[0:i]) / i\n",
    "    promedios.append(promedio)\n",
    "\n",
    "promedios\n",
    "##graficando: \n",
    "plt.plot(promedios)"
   ]
  },
  {
   "cell_type": "markdown",
   "id": "972bb42f",
   "metadata": {},
   "source": [
    "### Comparando usando Z Tests con cada uno de los promedios con diferentes muestras.\n",
    "### Nota: El Test-Z es ideal cuando tenemos una gran cantidad de datos."
   ]
  },
  {
   "cell_type": "markdown",
   "id": "a08bd115",
   "metadata": {},
   "source": [
    "#### Se obtiene una lista con 2 valores, p value y media respectivamente."
   ]
  },
  {
   "cell_type": "code",
   "execution_count": 84,
   "id": "dd2d25d0",
   "metadata": {},
   "outputs": [
    {
     "data": {
      "text/plain": [
       "[(2, 0.032687621135204896, 4.5),\n",
       " (3, 0.3252543510880489, 4.0),\n",
       " (4, 0.29952196979944745, 3.875),\n",
       " (5, 0.15826781784711086, 3.9),\n",
       " (6, 0.07406936464331344, 3.9166666666666665),\n",
       " (7, 0.03058372185045264, 3.9285714285714284),\n",
       " (8, 0.008546846816661634, 4.0625),\n",
       " (9, 0.034351369792154834, 3.9444444444444446),\n",
       " (10, 0.6797757440816464, 3.6),\n",
       " (11, 0.6661040559180447, 3.590909090909091),\n",
       " (12, 0.8452594429449549, 3.5),\n",
       " (13, 0.8319722700425317, 3.5),\n",
       " (14, 0.7285036535608292, 3.5357142857142856),\n",
       " (15, 0.5561564945645507, 3.6),\n",
       " (16, 0.6284166359766319, 3.5625),\n",
       " (17, 0.42056196093078513, 3.6470588235294117),\n",
       " (18, 0.2692718087435868, 3.7222222222222223),\n",
       " (19, 0.3157395629293568, 3.6842105263157894),\n",
       " (20, 0.36558117183067695, 3.65),\n",
       " (21, 0.5650170364597873, 3.5714285714285716),\n",
       " (22, 0.4930885087384419, 3.590909090909091),\n",
       " (23, 0.4265824656611449, 3.608695652173913),\n",
       " (24, 0.36578337526912086, 3.625),\n",
       " (25, 0.3108287352909964, 3.64),\n",
       " (26, 0.26171758950670954, 3.6538461538461537),\n",
       " (27, 0.2559999054486449, 3.6481481481481484),\n",
       " (28, 0.16314137427171593, 3.6964285714285716),\n",
       " (29, 0.10054986793464257, 3.7413793103448274),\n",
       " (30, 0.09812718831667805, 3.7333333333333334),\n",
       " (31, 0.07894877889458934, 3.7419354838709675),\n",
       " (32, 0.19389049416761317, 3.671875),\n",
       " (33, 0.18994435269346233, 3.6666666666666665),\n",
       " (34, 0.12400478766945784, 3.7058823529411766),\n",
       " (35, 0.07870821336871098, 3.742857142857143),\n",
       " (36, 0.09353576061527746, 3.7222222222222223),\n",
       " (37, 0.11013590254134484, 3.7027027027027026),\n",
       " (38, 0.070293980214127, 3.736842105263158),\n",
       " (39, 0.057719600728433226, 3.7435897435897436),\n",
       " (40, 0.06895669959313765, 3.725),\n",
       " (41, 0.043027696867534854, 3.7560975609756095),\n",
       " (42, 0.026192682251694282, 3.7857142857142856),\n",
       " (43, 0.015559932099710492, 3.813953488372093),\n",
       " (44, 0.01233272538941352, 3.8181818181818183),\n",
       " (45, 0.00971325069982623, 3.8222222222222224),\n",
       " (46, 0.012260404094830826, 3.8043478260869565),\n",
       " (47, 0.015299059283941084, 3.7872340425531914),\n",
       " (48, 0.008966188879749698, 3.8125),\n",
       " (49, 0.008766884002523942, 3.806122448979592),\n",
       " (50, 0.006897537294395224, 3.81),\n",
       " (51, 0.005394516156167565, 3.8137254901960786),\n",
       " (52, 0.004193844231736312, 3.8173076923076925),\n",
       " (53, 0.005385212289644282, 3.80188679245283),\n",
       " (54, 0.004195763368449785, 3.8055555555555554),\n",
       " (55, 0.005368352947838337, 3.790909090909091),\n",
       " (56, 0.006794205663451532, 3.7767857142857144),\n",
       " (57, 0.008512220201001898, 3.763157894736842),\n",
       " (58, 0.004975558567317606, 3.7844827586206895),\n",
       " (59, 0.003904050433428437, 3.788135593220339),\n",
       " (60, 0.0022169155153936113, 3.808333333333333),\n",
       " (61, 0.0017134856636438817, 3.8114754098360657),\n",
       " (62, 0.0022185468321933607, 3.7983870967741935),\n",
       " (63, 0.0021667091142656882, 3.7936507936507935),\n",
       " (64, 0.0021155742986059037, 3.7890625),\n",
       " (65, 0.001638169688311084, 3.792307692307692),\n",
       " (66, 0.002112904717074153, 3.7803030303030303),\n",
       " (67, 0.0016391796508841768, 3.783582089552239),\n",
       " (68, 0.002107877006211813, 3.7720588235294117),\n",
       " (69, 0.001638208006937132, 3.7753623188405796),\n",
       " (70, 0.0012667046775475992, 3.7785714285714285),\n",
       " (71, 0.0022426047709492537, 3.76056338028169),\n",
       " (72, 0.0017525084760790894, 3.763888888888889),\n",
       " (73, 0.0011365250751412, 3.7739726027397262),\n",
       " (74, 0.0006361085905667348, 3.7905405405405403),\n",
       " (75, 0.00035042445221225517, 3.8066666666666666),\n",
       " (76, 0.00021841519783205381, 3.8157894736842106),\n",
       " (77, 0.0002133389727594162, 3.811688311688312),\n",
       " (78, 0.0001607423772756106, 3.8141025641025643),\n",
       " (79, 0.00012053616176043722, 3.8164556962025316),\n",
       " (80, 6.355135417245393e-05, 3.83125),\n",
       " (81, 3.300722928041108e-05, 3.845679012345679),\n",
       " (82, 3.2304003745802037e-05, 3.841463414634146),\n",
       " (83, 2.374556884407959e-05, 3.8433734939759034),\n",
       " (84, 1.2077073301628071e-05, 3.857142857142857),\n",
       " (85, 1.7088673225760976e-05, 3.847058823529412),\n",
       " (86, 3.608185615666001e-05, 3.8313953488372094),\n",
       " (87, 2.681257612846113e-05, 3.8333333333333335),\n",
       " (88, 3.681562512354262e-05, 3.8238636363636362),\n",
       " (89, 7.313870608516293e-05, 3.808988764044944),\n",
       " (90, 5.525606847923858e-05, 3.811111111111111),\n",
       " (91, 4.1572170968967595e-05, 3.8131868131868134),\n",
       " (92, 2.540508532221419e-05, 3.8206521739130435),\n",
       " (93, 1.891161316381205e-05, 3.8225806451612905),\n",
       " (94, 1.4019284811900051e-05, 3.824468085106383),\n",
       " (95, 1.9300245184706242e-05, 3.8157894736842106),\n",
       " (96, 1.4337154349835086e-05, 3.8177083333333335),\n",
       " (97, 7.470440358184904e-06, 3.829896907216495),\n",
       " (98, 3.843679820388642e-06, 3.8418367346938775),\n",
       " (99, 1.3101881021708747e-05, 3.823232323232323),\n",
       " (100, 1.773810320525232e-05, 3.815),\n",
       " (101, 5.156319239792069e-05, 3.797029702970297),\n",
       " (102, 3.956916550250529e-05, 3.799019607843137),\n",
       " (103, 0.00010532490098882295, 3.7815533980582523),\n",
       " (104, 8.207340957567451e-05, 3.7836538461538463),\n",
       " (105, 6.373666797007717e-05, 3.7857142857142856),\n",
       " (106, 4.9327620681370155e-05, 3.7877358490566038),\n",
       " (107, 3.158510492524062e-05, 3.794392523364486),\n",
       " (108, 5.741195652105531e-05, 3.7824074074074074),\n",
       " (109, 4.452063805181686e-05, 3.7844036697247705),\n",
       " (110, 2.5034997999585643e-05, 3.7954545454545454),\n",
       " (111, 1.593383648900579e-05, 3.8018018018018016),\n",
       " (112, 1.2181676067708934e-05, 3.8035714285714284),\n",
       " (113, 9.282385148662153e-06, 3.8053097345132745),\n",
       " (114, 7.049800097807919e-06, 3.807017543859649),\n",
       " (115, 5.336512954125956e-06, 3.8086956521739133),\n",
       " (116, 7.132420343988585e-06, 3.8017241379310347),\n",
       " (117, 3.8777239631651985e-06, 3.8119658119658117),\n",
       " (118, 3.789024541840527e-06, 3.809322033898305),\n",
       " (119, 3.701652394675697e-06, 3.80672268907563),\n",
       " (120, 3.6156244484077226e-06, 3.8041666666666667),\n",
       " (121, 2.234409015059164e-06, 3.809917355371901),\n",
       " (122, 1.1935921381583365e-06, 3.819672131147541),\n",
       " (123, 8.907771906449635e-07, 3.821138211382114),\n",
       " (124, 1.2165528009735344e-06, 3.814516129032258),\n",
       " (125, 1.6492029231809994e-06, 3.808),\n",
       " (126, 1.2383902023580329e-06, 3.8095238095238093),\n",
       " (127, 2.4447090501870245e-06, 3.7992125984251968),\n",
       " (128, 1.3259626346058774e-06, 3.80859375),\n",
       " (129, 1.7799716841358229e-06, 3.802325581395349),\n",
       " (130, 5.106740278151876e-06, 3.7884615384615383),\n",
       " (131, 4.986913728968981e-06, 3.786259541984733),\n",
       " (132, 2.7799402746913627e-06, 3.7954545454545454),\n",
       " (133, 2.715247214619515e-06, 3.793233082706767),\n",
       " (134, 2.075872794199074e-06, 3.794776119402985),\n",
       " (135, 3.869818273690176e-06, 3.785185185185185),\n",
       " (136, 2.9771501112494567e-06, 3.786764705882353),\n",
       " (137, 2.906855295169462e-06, 3.7846715328467155),\n",
       " (138, 2.229978257172786e-06, 3.786231884057971),\n",
       " (139, 2.923020543496903e-06, 3.7805755395683454),\n",
       " (140, 1.861736987479408e-06, 3.7857142857142856),\n",
       " (141, 2.441850783063681e-06, 3.780141843971631),\n",
       " (142, 1.8743496554091788e-06, 3.7816901408450705),\n",
       " (143, 1.4348129269825041e-06, 3.7832167832167833),\n",
       " (144, 1.0953489095524478e-06, 3.7847222222222223),\n",
       " (145, 8.33914593413763e-07, 3.786206896551724),\n",
       " (146, 4.5654100105346796e-07, 3.7945205479452055),\n",
       " (147, 2.4781068087348057e-07, 3.802721088435374),\n",
       " (148, 1.8647631467675183e-07, 3.804054054054054),\n",
       " (149, 1.3994497318116365e-07, 3.8053691275167787),\n",
       " (150, 1.0474187906210276e-07, 3.8066666666666666),\n",
       " (151, 5.5638738167742754e-08, 3.814569536423841),\n",
       " (152, 2.9310557354650833e-08, 3.8223684210526314),\n",
       " (153, 2.169106984430368e-08, 3.823529411764706),\n",
       " (154, 1.296533237512879e-08, 3.8279220779220777),\n",
       " (155, 6.69721358751862e-09, 3.835483870967742),\n",
       " (156, 4.90242789582791e-09, 3.8365384615384617),\n",
       " (157, 3.579198670373318e-09, 3.837579617834395),\n",
       " (158, 5.065038279328382e-09, 3.8322784810126582),\n",
       " (159, 2.593122661980238e-09, 3.839622641509434),\n",
       " (160, 1.888254008877338e-09, 3.840625),\n",
       " (161, 6.89862648428305e-09, 3.829192546583851),\n",
       " (162, 5.088654193995244e-09, 3.830246913580247),\n",
       " (163, 3.744165106538347e-09, 3.831288343558282),\n",
       " (164, 5.23409616911476e-09, 3.826219512195122),\n",
       " (165, 2.715045381204715e-09, 3.8333333333333335),\n",
       " (166, 1.9924856311040464e-09, 3.8343373493975905),\n",
       " (167, 1.021658248002295e-09, 3.841317365269461),\n",
       " (168, 5.986014433616568e-10, 3.8452380952380953),\n",
       " (169, 3.026046512497991e-10, 3.8520710059171597),\n",
       " (170, 2.9667891226340393e-10, 3.85),\n",
       " (171, 2.1473424779915278e-10, 3.8508771929824563),\n",
       " (172, 3.087411923363227e-10, 3.8459302325581395),\n",
       " (173, 1.7917893544489147e-10, 3.8497109826589595),\n",
       " (174, 1.2939702905988413e-10, 3.8505747126436782),\n",
       " (175, 7.437375301814674e-11, 3.854285714285714),\n",
       " (176, 3.68536489501502e-11, 3.8607954545454546),\n",
       " (177, 1.8128994549484078e-11, 3.867231638418079),\n",
       " (178, 1.0226884113071301e-11, 3.8707865168539324),\n",
       " (179, 2.476407211840968e-11, 3.863128491620112),\n",
       " (180, 1.7738569534234892e-11, 3.863888888888889),\n",
       " (181, 8.709233016873075e-12, 3.8701657458563536),\n",
       " (182, 6.201886620364462e-12, 3.870879120879121),\n",
       " (183, 9.186029818083115e-12, 3.866120218579235),\n",
       " (184, 6.5513651601619266e-12, 3.8668478260869565),\n",
       " (185, 3.688482306426001e-12, 3.8702702702702703),\n",
       " (186, 1.787257905280176e-12, 3.8763440860215055),\n",
       " (187, 8.600037830948384e-13, 3.8823529411764706),\n",
       " (188, 6.056150219694947e-13, 3.882978723404255),\n",
       " (189, 4.2551292144889585e-13, 3.8835978835978837),\n",
       " (190, 2.3370424038676717e-13, 3.886842105263158),\n",
       " (191, 1.6326985261947053e-13, 3.887434554973822),\n",
       " (192, 1.1380629973295943e-13, 3.8880208333333335),\n",
       " (193, 7.91493424125946e-14, 3.88860103626943),\n",
       " (194, 4.278258438283099e-14, 3.8917525773195876),\n",
       " (195, 2.958555465053198e-14, 3.8923076923076922),\n",
       " (196, 4.623476152843946e-14, 3.8877551020408165),\n",
       " (197, 2.493280074064741e-14, 3.8908629441624365),\n",
       " (198, 1.3370684043107038e-14, 3.893939393939394),\n",
       " (199, 6.160613753635314e-15, 3.899497487437186),\n",
       " (200, 9.749074156510373e-15, 3.895),\n",
       " (201, 6.7127681104016146e-15, 3.8955223880597014),\n",
       " (202, 4.6119520070165714e-15, 3.896039603960396),\n",
       " (203, 3.1616414709692205e-15, 3.896551724137931),\n",
       " (204, 1.443848995257856e-15, 3.9019607843137254),\n",
       " (205, 2.309845735394206e-15, 3.897560975609756),\n",
       " (206, 1.0555998801123747e-15, 3.9029126213592233),\n",
       " (207, 4.793088683620974e-16, 3.9082125603864735),\n",
       " (208, 3.2609910418318076e-16, 3.9086538461538463),\n",
       " (209, 1.466694033719233e-16, 3.9138755980861246),\n",
       " (210, 9.927030087378508e-17, 3.914285714285714),\n",
       " (211, 6.704625749290763e-17, 3.914691943127962),\n",
       " (212, 4.518611521397103e-17, 3.9150943396226414),\n",
       " (213, 3.038859398683116e-17, 3.915492957746479),\n",
       " (214, 1.3418325209316871e-17, 3.9205607476635516)]"
      ]
     },
     "execution_count": 84,
     "metadata": {},
     "output_type": "execute_result"
    }
   ],
   "source": [
    "\n",
    "np.random.seed(75241)\n",
    "\n",
    "## La función seed() en NumPy permite establecer la semilla del\n",
    "## generador de números aleatorios para asegurar que los resultados sean reproducibles.\n",
    "temp= notas1.sample(frac=1).rating\n",
    "promedios = list()\n",
    "\n",
    "def calcula_test(i): \n",
    "    media = temp[0:i].mean()\n",
    "    stat,p = ztest(temp[0:i], value=3.4320503405352603)\n",
    "    #i con cantidad de registros\n",
    "    return(i, p, media)\n",
    "#Calculando desde el 2do porque el primer valor nos devuelve nulo porque no puede calcular un promedio con un solo valor\n",
    "for i in range(2,len(temp)):\n",
    "    promedios.append(calcula_test(i))\n",
    "\n",
    "promedios"
   ]
  },
  {
   "cell_type": "code",
   "execution_count": 86,
   "id": "379582b1",
   "metadata": {},
   "outputs": [],
   "source": [
    "valores = np.array(promedios)"
   ]
  },
  {
   "cell_type": "markdown",
   "id": "cb5a0aab",
   "metadata": {},
   "source": [
    "### Graficando se atribuyen Arrays"
   ]
  },
  {
   "cell_type": "markdown",
   "id": "ebc5cc5c",
   "metadata": {},
   "source": [
    "#### Amarillo: promedio, azul: p-value\n",
    "#### Promedio: En los primeros  50 registros, existe oscilación.  Esa oscilación es bastante fuerte de valores de los promedios de las medias, de las notas de Toy Story. \n",
    "#### P-value: también muestra la oscilación en el P value, en los primeros 50 valores."
   ]
  },
  {
   "cell_type": "code",
   "execution_count": 92,
   "id": "6c8a57d3",
   "metadata": {},
   "outputs": [
    {
     "data": {
      "text/plain": [
       "<matplotlib.collections.LineCollection at 0x21f19e90460>"
      ]
     },
     "execution_count": 92,
     "metadata": {},
     "output_type": "execute_result"
    },
    {
     "data": {
      "image/png": "[encoded data removed]",
      "text/plain": [
       "<Figure size 432x288 with 1 Axes>"
      ]
     },
     "metadata": {
      "needs_background": "light"
     },
     "output_type": "display_data"
    }
   ],
   "source": [
    "\n",
    "##graficando: \n",
    "#Todos las lineas(i), y 1: la clumna del p-value\n",
    "#posicion 0 de la primer columna\n",
    "plt.plot(valores[:,0],valores[:,1])\n",
    "#Eje horizontal:\n",
    "#columna 2 en el eje vertical y empieza desde la posicion 0 \n",
    "plt.plot(valores[:,0],valores[:,2])\n",
    "## Graficando una línea constante con plt.hlines. \n",
    "## Para ver los parámetros, se grafica una línea constante en el valor de 0.05, que es el alpha. Entonces, (y = 0.5). \n",
    "plt.hlines(y=0.05, xmin=2, xmax=len(temp), colors=\"g\", linestyles=\"dashdot\")"
   ]
  },
  {
   "cell_type": "markdown",
   "id": "b24169b0",
   "metadata": {},
   "source": [
    "#### Con la línea verde, para diferenciarla se hizo ese estilo y lo que se estaba diciendo, antes se podría decir que en los primeros 40 valores tenemos p values encima de nuestro alpha.\n",
    "\n",
    "#### ¿Cuál es el riesgo de si se tuviera una muestra pequeña? Hacer el Z test, se iba a aceptar en este caso la hipótesis nula:  el valor de la media es igual, el valor de la media de Toy Story, las notas de Toy Story, es igual al valor de las medias en general. Entonces ese es el riesgo de tener muestras pequeñas donde podríamos tomar decisiones erradas.\n",
    "\n",
    "#### Y en el caso de que dudar de los valores y no presenten una consistencia como en este caso, se rechaza la hipótesis nula, ya sea por falta de datos o por tener una muestra, en realidad por inconsistencia en los resultados o por tener una muestra pequeña de datos."
   ]
  },
  {
   "cell_type": "markdown",
   "id": "7298748d",
   "metadata": {},
   "source": [
    "### Comparando la distribución de un conjunto de datos con la distribución de otro conjunto de datos: notas de Toy Story con el de todos"
   ]
  },
  {
   "cell_type": "markdown",
   "id": "783880b2",
   "metadata": {},
   "source": [
    "#### Hay un intervalo de confianza de 0.2799 a 0.5588 de que las notas 1, en este caso las notas de Toy Story son mayores en ese rango que las notas en general."
   ]
  },
  {
   "cell_type": "code",
   "execution_count": 93,
   "id": "c961fd27",
   "metadata": {},
   "outputs": [
    {
     "data": {
      "text/plain": [
       "(0.2799245129192442, 0.5588219849631111)"
      ]
     },
     "execution_count": 93,
     "metadata": {},
     "output_type": "execute_result"
    }
   ],
   "source": [
    "zconfint(notas1.rating, notas.rating)"
   ]
  },
  {
   "cell_type": "markdown",
   "id": "287773f9",
   "metadata": {},
   "source": [
    "### Aplicando Z test para ver el P value"
   ]
  },
  {
   "cell_type": "markdown",
   "id": "ea4258a0",
   "metadata": {},
   "source": [
    "### Hipótesis nula: La media de la distribución es igual a la media de la otra distribución.\n",
    "#### Se rechaza la hipótesis nula porque el P value (3.76) es menor que el valor de Alpha (0.05)"
   ]
  },
  {
   "cell_type": "code",
   "execution_count": 94,
   "id": "8a721042",
   "metadata": {},
   "outputs": [
    {
     "data": {
      "text/plain": [
       "(5.894327101501841, 3.762112778881965e-09)"
      ]
     },
     "execution_count": 94,
     "metadata": {},
     "output_type": "execute_result"
    }
   ],
   "source": [
    "ztest(notas1.rating, notas.rating)"
   ]
  },
  {
   "cell_type": "markdown",
   "id": "d58536ba",
   "metadata": {},
   "source": [
    "### Comparando notas generales vs Toy Story.\n",
    "#### Da valores negativos porque dice que la media de esos valores de esta distribución es menor,  muestra negativo, entonces es menor que Toy Story en este rango de -0,56 a -0,28."
   ]
  },
  {
   "cell_type": "code",
   "execution_count": 95,
   "id": "62b2bed9",
   "metadata": {},
   "outputs": [
    {
     "data": {
      "text/plain": [
       "(-5.894327101501841, 3.762112778881965e-09)"
      ]
     },
     "execution_count": 95,
     "metadata": {},
     "output_type": "execute_result"
    }
   ],
   "source": [
    "ztest(notas.rating, notas1.rating)"
   ]
  },
  {
   "cell_type": "markdown",
   "id": "8f50c281",
   "metadata": {},
   "source": [
    "### Visualizando el test P con el modulo de scipy"
   ]
  },
  {
   "cell_type": "markdown",
   "id": "ca4c323f",
   "metadata": {},
   "source": [
    "#### Tenemos  un valor parecido al de ztest donde descartamos la hipótesis de que las medias de las distribuciones no son iguales."
   ]
  },
  {
   "cell_type": "code",
   "execution_count": 96,
   "id": "7057b164",
   "metadata": {},
   "outputs": [
    {
     "data": {
      "text/plain": [
       "Ttest_indResult(statistic=5.894327101501841, pvalue=3.774003138720876e-09)"
      ]
     },
     "execution_count": 96,
     "metadata": {},
     "output_type": "execute_result"
    }
   ],
   "source": [
    "from scipy.stats import ttest_ind\n",
    "ttest_ind(notas1.rating, notas.rating)"
   ]
  },
  {
   "cell_type": "markdown",
   "id": "514a3eb0",
   "metadata": {},
   "source": [
    "### Importando la biblioteca de statsmodels y usar el DescrStatsW. "
   ]
  },
  {
   "cell_type": "code",
   "execution_count": 100,
   "id": "7b89d42f",
   "metadata": {},
   "outputs": [
    {
     "data": {
      "text/html": [
       "<table class=\"simpletable\">\n",
       "<caption>Test for equality of means</caption>\n",
       "<tr>\n",
       "      <td></td>         <th>coef</th>     <th>std err</th>      <th>t</th>      <th>P>|t|</th>  <th>[0.025</th>    <th>0.975]</th>  \n",
       "</tr>\n",
       "<tr>\n",
       "  <th>subset #1</th> <td>   -0.4194</td> <td>    0.071</td> <td>   -5.894</td> <td> 0.000</td> <td>   -0.559</td> <td>   -0.280</td>\n",
       "</tr>\n",
       "</table>"
      ],
      "text/plain": [
       "<class 'statsmodels.iolib.table.SimpleTable'>"
      ]
     },
     "execution_count": 100,
     "metadata": {},
     "output_type": "execute_result"
    }
   ],
   "source": [
    "\n",
    "from statsmodels.stats.weightstats import DescrStatsW\n",
    "\n",
    "desc_todos_las_notas = DescrStatsW(notas.rating)\n",
    "\n",
    "desc_toy_story = DescrStatsW(notas1.rating)\n",
    "# comparar esos dos conjuntos de datos.\n",
    "comparacion= desc_todos_las_notas.get_compare(desc_toy_story)\n",
    "# con parametro para que no arroje el Z test\n",
    "comparacion.summary(use_t=True)"
   ]
  },
  {
   "cell_type": "markdown",
   "id": "53dcb493",
   "metadata": {},
   "source": [
    "### El P value se rechaza por ser menor que el alpha."
   ]
  },
  {
   "cell_type": "markdown",
   "id": "2cdcbc52",
   "metadata": {},
   "source": [
    "### Comparando con gráficos para visualizar y mejorar su análisis: graficando un gráfico de boxplot con las dos distribuciones"
   ]
  },
  {
   "cell_type": "markdown",
   "id": "cd7937ba",
   "metadata": {},
   "source": [
    "####  Se ve fácilmente que la media de las notas de Toy Story es mayor que la media de las notas generales, pero existe una debilidad: no se pueden ver las notas generales de muestras"
   ]
  },
  {
   "cell_type": "code",
   "execution_count": 102,
   "id": "9bbfa402",
   "metadata": {},
   "outputs": [
    {
     "data": {
      "text/plain": [
       "Text(0.5, 1.0, 'Distribución de todas las notas y de Toy Story')"
      ]
     },
     "execution_count": 102,
     "metadata": {},
     "output_type": "execute_result"
    },
    {
     "data": {
      "image/png": "[encoded data removed]",
      "text/plain": [
       "<Figure size 432x288 with 1 Axes>"
      ]
     },
     "metadata": {
      "needs_background": "light"
     },
     "output_type": "display_data"
    }
   ],
   "source": [
    "import matplotlib.pyplot as plt\n",
    "plt.boxplot([notas.rating, notas1.rating], labels= [\"Notas general\", \"Notas de Toy Story\"])\n",
    "plt.title (\"Distribución de todas las notas y de Toy Story\")"
   ]
  },
  {
   "cell_type": "markdown",
   "id": "61e97569",
   "metadata": {},
   "source": [
    "### Suponiendo que existieran pocos datos deToy Story "
   ]
  },
  {
   "cell_type": "markdown",
   "id": "ea4db7e5",
   "metadata": {},
   "source": [
    "#### Existen distribuciones parecidas con medias promedio bien parecidos: El promedio general de Toy Story es igual al general (Conclusión incorrecta)"
   ]
  },
  {
   "cell_type": "code",
   "execution_count": 105,
   "id": "24535851",
   "metadata": {},
   "outputs": [
    {
     "data": {
      "text/plain": [
       "Text(0.5, 1.0, 'Distribución de todas las notas y de Toy Story del 3 al 12')"
      ]
     },
     "execution_count": 105,
     "metadata": {},
     "output_type": "execute_result"
    },
    {
     "data": {
      "image/png": "[encoded data removed]",
      "text/plain": [
       "<Figure size 432x288 with 1 Axes>"
      ]
     },
     "metadata": {
      "needs_background": "light"
     },
     "output_type": "display_data"
    }
   ],
   "source": [
    "import matplotlib.pyplot as plt\n",
    "plt.boxplot([notas.rating, notas1[3:12].rating], labels= [\"Notas general\", \"Notas de Toy Story del 3 al 12\"])\n",
    "plt.title (\"Distribución de todas las notas y de Toy Story del 3 al 12\")"
   ]
  },
  {
   "cell_type": "markdown",
   "id": "4e401a1f",
   "metadata": {},
   "source": [
    "### Comparando los dos conjuntos de datos"
   ]
  },
  {
   "cell_type": "markdown",
   "id": "dd5f02aa",
   "metadata": {},
   "source": [
    "#### El p value es mayor que el alpha (0.05), se rechaza la hipótesis nula: de que los valores son iguales.\n",
    "\n",
    "#### El intervalo de confianza es inconsistente, el primer valor es negativo (-0.735) y el segundo positivo (0.627)"
   ]
  },
  {
   "cell_type": "markdown",
   "id": "dce3bdb7",
   "metadata": {},
   "source": [
    "### Podemos decir que no existe una conclusión acertiva por falta de datos"
   ]
  },
  {
   "cell_type": "code",
   "execution_count": 108,
   "id": "ee007345",
   "metadata": {},
   "outputs": [
    {
     "data": {
      "text/html": [
       "<table class=\"simpletable\">\n",
       "<caption>Test for equality of means</caption>\n",
       "<tr>\n",
       "      <td></td>         <th>coef</th>     <th>std err</th>      <th>t</th>      <th>P>|t|</th>  <th>[0.025</th>    <th>0.975]</th>  \n",
       "</tr>\n",
       "<tr>\n",
       "  <th>subset #1</th> <td>   -0.0540</td> <td>    0.348</td> <td>   -0.155</td> <td> 0.877</td> <td>   -0.735</td> <td>    0.627</td>\n",
       "</tr>\n",
       "</table>"
      ],
      "text/plain": [
       "<class 'statsmodels.iolib.table.SimpleTable'>"
      ]
     },
     "execution_count": 108,
     "metadata": {},
     "output_type": "execute_result"
    }
   ],
   "source": [
    "\n",
    "\n",
    "desc_todos_las_notas = DescrStatsW(notas.rating)\n",
    "\n",
    "desc_toy_story_3_12 = DescrStatsW(notas1[3:12].rating)\n",
    "# comparar esos dos conjuntos de datos.\n",
    "comparacion= desc_todos_las_notas.get_compare(desc_toy_story_3_12)\n",
    "# con parametro para que no arroje el Z test\n",
    "# con estadístico T que aplica a pocas muestras, es recomendable\n",
    "comparacion.summary(use_t=True)"
   ]
  },
  {
   "cell_type": "markdown",
   "id": "ea640168",
   "metadata": {},
   "source": [
    "### Si fuera el caso:\n",
    "#### Con la hipótesis: El p value es menor que 0.05\n",
    "#### Entonces se aceptaría la hipótesis nula y el intervalo de confianza sería de 0.01 y 0.02"
   ]
  },
  {
   "cell_type": "markdown",
   "id": "a22d840d",
   "metadata": {},
   "source": [
    "### Analizando 3 películas específicas:"
   ]
  },
  {
   "cell_type": "code",
   "execution_count": 109,
   "id": "21b547f1",
   "metadata": {},
   "outputs": [
    {
     "data": {
      "text/html": [
       "<div>\n",
       "<style scoped>\n",
       "    .dataframe tbody tr th:only-of-type {\n",
       "        vertical-align: middle;\n",
       "    }\n",
       "\n",
       "    .dataframe tbody tr th {\n",
       "        vertical-align: top;\n",
       "    }\n",
       "\n",
       "    .dataframe thead th {\n",
       "        text-align: right;\n",
       "    }\n",
       "</style>\n",
       "<table border=\"1\" class=\"dataframe\">\n",
       "  <thead>\n",
       "    <tr style=\"text-align: right;\">\n",
       "      <th></th>\n",
       "      <th>movieId</th>\n",
       "      <th>title</th>\n",
       "      <th>genres</th>\n",
       "    </tr>\n",
       "  </thead>\n",
       "  <tbody>\n",
       "    <tr>\n",
       "      <th>0</th>\n",
       "      <td>1</td>\n",
       "      <td>Toy Story (1995)</td>\n",
       "      <td>Adventure|Animation|Children|Comedy|Fantasy</td>\n",
       "    </tr>\n",
       "    <tr>\n",
       "      <th>510</th>\n",
       "      <td>593</td>\n",
       "      <td>Silence of the Lambs, The (1991)</td>\n",
       "      <td>Crime|Horror|Thriller</td>\n",
       "    </tr>\n",
       "    <tr>\n",
       "      <th>7180</th>\n",
       "      <td>72226</td>\n",
       "      <td>Fantastic Mr. Fox (2009)</td>\n",
       "      <td>Adventure|Animation|Children|Comedy|Crime</td>\n",
       "    </tr>\n",
       "  </tbody>\n",
       "</table>\n",
       "</div>"
      ],
      "text/plain": [
       "      movieId                             title  \\\n",
       "0           1                  Toy Story (1995)   \n",
       "510       593  Silence of the Lambs, The (1991)   \n",
       "7180    72226          Fantastic Mr. Fox (2009)   \n",
       "\n",
       "                                           genres  \n",
       "0     Adventure|Animation|Children|Comedy|Fantasy  \n",
       "510                         Crime|Horror|Thriller  \n",
       "7180    Adventure|Animation|Children|Comedy|Crime  "
      ]
     },
     "execution_count": 109,
     "metadata": {},
     "output_type": "execute_result"
    }
   ],
   "source": [
    "peliculas.query(\"movieId in (1,593, 72226)\")"
   ]
  },
  {
   "cell_type": "markdown",
   "id": "7b5d0d10",
   "metadata": {},
   "source": [
    "### Asignando a cada una su propia variable"
   ]
  },
  {
   "cell_type": "code",
   "execution_count": 111,
   "id": "ef39b227",
   "metadata": {},
   "outputs": [],
   "source": [
    "notas1= notas.query(\"movieId ==1\")\n",
    "notas593= notas.query(\"movieId ==593\")\n",
    "notas72226= notas.query(\"movieId ==72226\")"
   ]
  },
  {
   "cell_type": "code",
   "execution_count": 112,
   "id": "aff7eb57",
   "metadata": {},
   "outputs": [
    {
     "data": {
      "text/html": [
       "<div>\n",
       "<style scoped>\n",
       "    .dataframe tbody tr th:only-of-type {\n",
       "        vertical-align: middle;\n",
       "    }\n",
       "\n",
       "    .dataframe tbody tr th {\n",
       "        vertical-align: top;\n",
       "    }\n",
       "\n",
       "    .dataframe thead th {\n",
       "        text-align: right;\n",
       "    }\n",
       "</style>\n",
       "<table border=\"1\" class=\"dataframe\">\n",
       "  <thead>\n",
       "    <tr style=\"text-align: right;\">\n",
       "      <th></th>\n",
       "      <th>userId</th>\n",
       "      <th>movieId</th>\n",
       "      <th>rating</th>\n",
       "      <th>timestamp</th>\n",
       "    </tr>\n",
       "  </thead>\n",
       "  <tbody>\n",
       "    <tr>\n",
       "      <th>0</th>\n",
       "      <td>1</td>\n",
       "      <td>1</td>\n",
       "      <td>4.0</td>\n",
       "      <td>964982703</td>\n",
       "    </tr>\n",
       "    <tr>\n",
       "      <th>516</th>\n",
       "      <td>5</td>\n",
       "      <td>1</td>\n",
       "      <td>4.0</td>\n",
       "      <td>847434962</td>\n",
       "    </tr>\n",
       "    <tr>\n",
       "      <th>874</th>\n",
       "      <td>7</td>\n",
       "      <td>1</td>\n",
       "      <td>4.5</td>\n",
       "      <td>1106635946</td>\n",
       "    </tr>\n",
       "    <tr>\n",
       "      <th>1434</th>\n",
       "      <td>15</td>\n",
       "      <td>1</td>\n",
       "      <td>2.5</td>\n",
       "      <td>1510577970</td>\n",
       "    </tr>\n",
       "    <tr>\n",
       "      <th>1667</th>\n",
       "      <td>17</td>\n",
       "      <td>1</td>\n",
       "      <td>4.5</td>\n",
       "      <td>1305696483</td>\n",
       "    </tr>\n",
       "  </tbody>\n",
       "</table>\n",
       "</div>"
      ],
      "text/plain": [
       "      userId  movieId  rating   timestamp\n",
       "0          1        1     4.0   964982703\n",
       "516        5        1     4.0   847434962\n",
       "874        7        1     4.5  1106635946\n",
       "1434      15        1     2.5  1510577970\n",
       "1667      17        1     4.5  1305696483"
      ]
     },
     "execution_count": 112,
     "metadata": {},
     "output_type": "execute_result"
    }
   ],
   "source": [
    "notas1.head()"
   ]
  },
  {
   "cell_type": "markdown",
   "id": "97e8d927",
   "metadata": {},
   "source": [
    "### Usando boxplot para entender mejor los datos"
   ]
  },
  {
   "cell_type": "markdown",
   "id": "69f10896",
   "metadata": {},
   "source": [
    "#### La mediana para the Silence of the Lambs y Toy Story es 4 para ambos; Fantastic Mr. Fox parecer tener mejor valoracion "
   ]
  },
  {
   "cell_type": "code",
   "execution_count": 115,
   "id": "8759fbea",
   "metadata": {},
   "outputs": [
    {
     "data": {
      "text/plain": [
       "{'whiskers': [<matplotlib.lines.Line2D at 0x21f1a1bd130>,\n",
       "  <matplotlib.lines.Line2D at 0x21f1a1bd400>,\n",
       "  <matplotlib.lines.Line2D at 0x21f1a1ca550>,\n",
       "  <matplotlib.lines.Line2D at 0x21f1a1ca820>,\n",
       "  <matplotlib.lines.Line2D at 0x21f1a1d6940>,\n",
       "  <matplotlib.lines.Line2D at 0x21f1a1d6c10>],\n",
       " 'caps': [<matplotlib.lines.Line2D at 0x21f1a1bd700>,\n",
       "  <matplotlib.lines.Line2D at 0x21f1a1bd9d0>,\n",
       "  <matplotlib.lines.Line2D at 0x21f1a1caaf0>,\n",
       "  <matplotlib.lines.Line2D at 0x21f1a1cadc0>,\n",
       "  <matplotlib.lines.Line2D at 0x21f1a1d6ee0>,\n",
       "  <matplotlib.lines.Line2D at 0x21f1a1e41f0>],\n",
       " 'boxes': [<matplotlib.lines.Line2D at 0x21f1a1ace20>,\n",
       "  <matplotlib.lines.Line2D at 0x21f1a1ca280>,\n",
       "  <matplotlib.lines.Line2D at 0x21f1a1d6670>],\n",
       " 'medians': [<matplotlib.lines.Line2D at 0x21f1a1bdca0>,\n",
       "  <matplotlib.lines.Line2D at 0x21f1a1d60d0>,\n",
       "  <matplotlib.lines.Line2D at 0x21f1a1e44c0>],\n",
       " 'fliers': [<matplotlib.lines.Line2D at 0x21f1a1bdf70>,\n",
       "  <matplotlib.lines.Line2D at 0x21f1a1d63a0>,\n",
       "  <matplotlib.lines.Line2D at 0x21f1a1e4790>],\n",
       " 'means': []}"
      ]
     },
     "execution_count": 115,
     "metadata": {},
     "output_type": "execute_result"
    },
    {
     "data": {
      "image/png": "[encoded data removed]",
      "text/plain": [
       "<Figure size 432x288 with 1 Axes>"
      ]
     },
     "metadata": {
      "needs_background": "light"
     },
     "output_type": "display_data"
    }
   ],
   "source": [
    "import matplotlib.pyplot as plt\n",
    "\n",
    "plt.boxplot([notas1.rating, notas593.rating, notas72226.rating],\n",
    "           labels= [\"Toy Story\", \"Silence of the Lambs\", \"Fantastic Mr. Fox\"])"
   ]
  },
  {
   "cell_type": "markdown",
   "id": "97339b50",
   "metadata": {},
   "source": [
    "### Aplicando query o describe para visualizar mejor los datos"
   ]
  },
  {
   "cell_type": "markdown",
   "id": "d9b429aa",
   "metadata": {},
   "source": [
    "#### La película 1 en este caso es Toy Story, la película 593, que es The Silence of Lambs, tienen la misma mediana. Parece que la Silencie of Lambs está un poco encima, pero la que tiene una gran diferencia en la mediana y una distribución más cerrada es Fantastic Mr. Fox."
   ]
  },
  {
   "cell_type": "code",
   "execution_count": 117,
   "id": "e0a7426a",
   "metadata": {},
   "outputs": [
    {
     "data": {
      "text/plain": [
       "<AxesSubplot:xlabel='movieId', ylabel='rating'>"
      ]
     },
     "execution_count": 117,
     "metadata": {},
     "output_type": "execute_result"
    },
    {
     "data": {
      "image/png": "[encoded data removed]",
      "text/plain": [
       "<Figure size 432x288 with 1 Axes>"
      ]
     },
     "metadata": {
      "needs_background": "light"
     },
     "output_type": "display_data"
    }
   ],
   "source": [
    "import seaborn as sb\n",
    "#seaborn da una gráfica un poco más formateado\n",
    "sb.boxplot(x=\"movieId\", y= \"rating\",data= notas.query(\"movieId in(1,593,72226)\") )"
   ]
  },
  {
   "cell_type": "markdown",
   "id": "ae59003d",
   "metadata": {},
   "source": [
    "### Usando una query para saber la cantidad"
   ]
  },
  {
   "cell_type": "markdown",
   "id": "42315da1",
   "metadata": {},
   "source": [
    "#### Hay 215 muestras en \"Toy Story\", 279 en Silence of the Lambs\", y 18 en \"Fantastic Mr. Fox\" \n",
    "\n",
    "#### Son pocas muestras comparando entre ellas, no podemos concluir que \"Fantastic Mr. Fox\"  es mejor que las demás"
   ]
  },
  {
   "cell_type": "code",
   "execution_count": 118,
   "id": "2eebfd37",
   "metadata": {},
   "outputs": [
    {
     "data": {
      "text/html": [
       "<div>\n",
       "<style scoped>\n",
       "    .dataframe tbody tr th:only-of-type {\n",
       "        vertical-align: middle;\n",
       "    }\n",
       "\n",
       "    .dataframe tbody tr th {\n",
       "        vertical-align: top;\n",
       "    }\n",
       "\n",
       "    .dataframe thead th {\n",
       "        text-align: right;\n",
       "    }\n",
       "</style>\n",
       "<table border=\"1\" class=\"dataframe\">\n",
       "  <thead>\n",
       "    <tr style=\"text-align: right;\">\n",
       "      <th></th>\n",
       "      <th>userId</th>\n",
       "      <th>rating</th>\n",
       "      <th>timestamp</th>\n",
       "    </tr>\n",
       "    <tr>\n",
       "      <th>movieId</th>\n",
       "      <th></th>\n",
       "      <th></th>\n",
       "      <th></th>\n",
       "    </tr>\n",
       "  </thead>\n",
       "  <tbody>\n",
       "    <tr>\n",
       "      <th>1</th>\n",
       "      <td>215</td>\n",
       "      <td>215</td>\n",
       "      <td>215</td>\n",
       "    </tr>\n",
       "    <tr>\n",
       "      <th>593</th>\n",
       "      <td>279</td>\n",
       "      <td>279</td>\n",
       "      <td>279</td>\n",
       "    </tr>\n",
       "    <tr>\n",
       "      <th>72226</th>\n",
       "      <td>18</td>\n",
       "      <td>18</td>\n",
       "      <td>18</td>\n",
       "    </tr>\n",
       "  </tbody>\n",
       "</table>\n",
       "</div>"
      ],
      "text/plain": [
       "         userId  rating  timestamp\n",
       "movieId                           \n",
       "1           215     215        215\n",
       "593         279     279        279\n",
       "72226        18      18         18"
      ]
     },
     "execution_count": 118,
     "metadata": {},
     "output_type": "execute_result"
    }
   ],
   "source": [
    "notas.query(\"movieId in(1,593,72226)\").groupby(\"movieId\").count()"
   ]
  },
  {
   "cell_type": "markdown",
   "id": "f56b2faf",
   "metadata": {},
   "source": [
    "### Comparando películas entre si para ver cual es mejor"
   ]
  },
  {
   "cell_type": "markdown",
   "id": "4fa55512",
   "metadata": {},
   "source": [
    "#### Se descarta la hipótesis nula: Que son iguales"
   ]
  },
  {
   "cell_type": "markdown",
   "id": "bdc968a2",
   "metadata": {},
   "source": [
    "#### Toy Story estaba evaluada, tiene notas menores en un rango de -0.39 a -0.09. Podemos redondearlo de -0.4 a -0.1.\n",
    "#### Exactamente, es -0,4 a -0,1. Es un valor estadístico representativo entonces podemos concluir de que en este caso, Silence of Lambs está mejor evaluada que Toy Story. "
   ]
  },
  {
   "cell_type": "code",
   "execution_count": 120,
   "id": "3a4c705a",
   "metadata": {},
   "outputs": [
    {
     "data": {
      "text/html": [
       "<table class=\"simpletable\">\n",
       "<caption>Test for equality of means</caption>\n",
       "<tr>\n",
       "      <td></td>         <th>coef</th>     <th>std err</th>      <th>t</th>      <th>P>|t|</th>  <th>[0.025</th>    <th>0.975]</th>  \n",
       "</tr>\n",
       "<tr>\n",
       "  <th>subset #1</th> <td>   -0.2404</td> <td>    0.077</td> <td>   -3.132</td> <td> 0.002</td> <td>   -0.391</td> <td>   -0.090</td>\n",
       "</tr>\n",
       "</table>"
      ],
      "text/plain": [
       "<class 'statsmodels.iolib.table.SimpleTable'>"
      ]
     },
     "execution_count": 120,
     "metadata": {},
     "output_type": "execute_result"
    }
   ],
   "source": [
    "#1 vs 593\n",
    "\n",
    "from statsmodels.stats.weightstats import DescrStatsW\n",
    "\n",
    "\n",
    "desc_1 = DescrStatsW(notas1.rating)\n",
    "desc_593= DescrStatsW(notas593.rating)\n",
    "\n",
    "# comparar esos dos conjuntos de datos.\n",
    "comparacion= desc_1.get_compare(desc_593)\n",
    "# sin parametro para que arroje el Z test, default\n",
    "comparacion.summary()"
   ]
  },
  {
   "cell_type": "markdown",
   "id": "c4537234",
   "metadata": {},
   "source": [
    "### Repitiendo el ejercicio, ahora se va a comparar la primera con la tercera, que es 72226."
   ]
  },
  {
   "cell_type": "markdown",
   "id": "5c2959bc",
   "metadata": {},
   "source": [
    "#### Se rechaza la hipótesis nula, el P value es mayor que 0-05; además el rango nuevamente es inconsistente, uno negativo y positivo respectivamente.\n",
    "\n",
    "#### Los datos no son suficientes para concluir."
   ]
  },
  {
   "cell_type": "code",
   "execution_count": 123,
   "id": "ee363d27",
   "metadata": {},
   "outputs": [
    {
     "data": {
      "text/html": [
       "<table class=\"simpletable\">\n",
       "<caption>Test for equality of means</caption>\n",
       "<tr>\n",
       "      <td></td>         <th>coef</th>     <th>std err</th>      <th>t</th>      <th>P>|t|</th>  <th>[0.025</th>    <th>0.975]</th>  \n",
       "</tr>\n",
       "<tr>\n",
       "  <th>subset #1</th> <td>   -0.1624</td> <td>    0.206</td> <td>   -0.788</td> <td> 0.431</td> <td>   -0.568</td> <td>    0.243</td>\n",
       "</tr>\n",
       "</table>"
      ],
      "text/plain": [
       "<class 'statsmodels.iolib.table.SimpleTable'>"
      ]
     },
     "execution_count": 123,
     "metadata": {},
     "output_type": "execute_result"
    }
   ],
   "source": [
    "#1 vs 72226\n",
    "\n",
    "from statsmodels.stats.weightstats import DescrStatsW\n",
    "\n",
    "\n",
    "desc_1 = DescrStatsW(notas1.rating)\n",
    "desc_72226= DescrStatsW(notas72226.rating)\n",
    "\n",
    "# comparar esos dos conjuntos de datos.\n",
    "comparacion= desc_1.get_compare(desc_72226)\n",
    "# con parametro para que no arroje el Z test\n",
    "comparacion.summary(use_t=True)"
   ]
  },
  {
   "cell_type": "markdown",
   "id": "abcfc24c",
   "metadata": {},
   "source": [
    "### Repitiendo el ejercicio, ahora se va a comparar 593 con la tercera, que es 72226."
   ]
  },
  {
   "cell_type": "markdown",
   "id": "f4656684",
   "metadata": {},
   "source": [
    "#### Se rechaza la hipótesis nula, el P value es mayor que 0-05; además el rango nuevamente es inconsistente, uno negativo y positivo respectivamente."
   ]
  },
  {
   "cell_type": "code",
   "execution_count": 125,
   "id": "b9ee9a2f",
   "metadata": {},
   "outputs": [
    {
     "data": {
      "text/html": [
       "<table class=\"simpletable\">\n",
       "<caption>Test for equality of means</caption>\n",
       "<tr>\n",
       "      <td></td>         <th>coef</th>     <th>std err</th>      <th>t</th>      <th>P>|t|</th>  <th>[0.025</th>    <th>0.975]</th>  \n",
       "</tr>\n",
       "<tr>\n",
       "  <th>subset #1</th> <td>    0.0780</td> <td>    0.208</td> <td>    0.374</td> <td> 0.708</td> <td>   -0.332</td> <td>    0.488</td>\n",
       "</tr>\n",
       "</table>"
      ],
      "text/plain": [
       "<class 'statsmodels.iolib.table.SimpleTable'>"
      ]
     },
     "execution_count": 125,
     "metadata": {},
     "output_type": "execute_result"
    }
   ],
   "source": [
    "#593 vs 72226\n",
    "\n",
    "# comparar esos dos conjuntos de datos.\n",
    "comparacion= desc_593.get_compare(desc_72226)\n",
    "# con parametro para que no arroje el Z test\n",
    "comparacion.summary(use_t=True)"
   ]
  },
  {
   "cell_type": "markdown",
   "id": "8de4fe7f",
   "metadata": {},
   "source": [
    "### Para el caso que los datos no tengan distribución normal: "
   ]
  },
  {
   "cell_type": "markdown",
   "id": "ee75d18e",
   "metadata": {},
   "source": [
    "#### El gráfico tiene una cola más inclinada hacia la izquierda. O sea el máximo, la nota máxima está más próxima de la media que la nota mínima.\n",
    "\n",
    "#### Concluimos que las personas normalmente dan notas buenas a las películas, buenas apreciaciones,"
   ]
  },
  {
   "cell_type": "code",
   "execution_count": 126,
   "id": "76bdd75a",
   "metadata": {},
   "outputs": [
    {
     "name": "stderr",
     "output_type": "stream",
     "text": [
      "C:\\Users\\Carina\\anaconda3\\lib\\site-packages\\seaborn\\distributions.py:2619: FutureWarning: `distplot` is a deprecated function and will be removed in a future version. Please adapt your code to use either `displot` (a figure-level function with similar flexibility) or `histplot` (an axes-level function for histograms).\n",
      "  warnings.warn(msg, FutureWarning)\n"
     ]
    },
    {
     "data": {
      "text/plain": [
       "Text(0.5, 1.0, 'Grafico de distribución del Promedio de notas de TMDB')"
      ]
     },
     "execution_count": 126,
     "metadata": {},
     "output_type": "execute_result"
    },
    {
     "data": {
      "image/png": "[encoded data removed]",
      "text/plain": [
       "<Figure size 432x288 with 1 Axes>"
      ]
     },
     "metadata": {
      "needs_background": "light"
     },
     "output_type": "display_data"
    }
   ],
   "source": [
    "ax= sb.distplot(tmdb_10_o_mas_votos.vote_average)\n",
    "ax.set(xlabel = \"Nota promedio\", ylabel = \"Densidad\")\n",
    "ax.set_title(\"Grafico de distribución del Promedio de notas de TMDB\")"
   ]
  },
  {
   "cell_type": "markdown",
   "id": "213fb40a",
   "metadata": {},
   "source": [
    "#### La media parece estar en 3.5, la nota máxima está cerca de la curva centuada hacia la izquierda; la nota máxima está mas cerca de la mediana que de la nota minima."
   ]
  },
  {
   "cell_type": "code",
   "execution_count": 127,
   "id": "def53cfe",
   "metadata": {},
   "outputs": [
    {
     "name": "stderr",
     "output_type": "stream",
     "text": [
      "C:\\Users\\Carina\\anaconda3\\lib\\site-packages\\seaborn\\distributions.py:2619: FutureWarning: `distplot` is a deprecated function and will be removed in a future version. Please adapt your code to use either `displot` (a figure-level function with similar flexibility) or `histplot` (an axes-level function for histograms).\n",
      "  warnings.warn(msg, FutureWarning)\n"
     ]
    },
    {
     "data": {
      "text/plain": [
       "Text(0.5, 1.0, 'Grafico de distribución del Promedio de notas de Movielens ')"
      ]
     },
     "execution_count": 127,
     "metadata": {},
     "output_type": "execute_result"
    },
    {
     "data": {
      "image/png": "[encoded data removed]",
      "text/plain": [
       "<Figure size 432x288 with 1 Axes>"
      ]
     },
     "metadata": {
      "needs_background": "light"
     },
     "output_type": "display_data"
    }
   ],
   "source": [
    "ax=sb.distplot(nota_promedio_por_pelicula_con_10_o_mas_votos.values)\n",
    "ax.set(xlabel = \"Nota promedio\", ylabel= \"Densidad\")\n",
    "ax.set_title(\"Grafico de distribución del Promedio de notas de Movielens \")"
   ]
  },
  {
   "cell_type": "markdown",
   "id": "53f68d85",
   "metadata": {},
   "source": [
    "### Existe un test para saber si son normales"
   ]
  },
  {
   "cell_type": "code",
   "execution_count": 129,
   "id": "a1af993d",
   "metadata": {},
   "outputs": [],
   "source": [
    "from scipy.stats import normaltest\n",
    "\n"
   ]
  },
  {
   "cell_type": "markdown",
   "id": "191e5535",
   "metadata": {},
   "source": [
    "#### Se rechaza la hipótesis nula: La distribución es normal\n",
    "#### ie: se acepta la hipótesis no nula"
   ]
  },
  {
   "cell_type": "code",
   "execution_count": 131,
   "id": "2c3f937a",
   "metadata": {},
   "outputs": [
    {
     "data": {
      "text/plain": [
       "0.00011053430732728716"
      ]
     },
     "execution_count": 131,
     "metadata": {},
     "output_type": "execute_result"
    }
   ],
   "source": [
    "#devuelve dos variables: valor de p y valor de estadítico\n",
    "stat,p= normaltest(notas1.rating)\n",
    "p"
   ]
  },
  {
   "cell_type": "markdown",
   "id": "57774767",
   "metadata": {},
   "source": [
    "### Test para datos que no son normales, se analizan los datos, se comparan las distribuciones: test de Wilcoxon"
   ]
  },
  {
   "cell_type": "code",
   "execution_count": 132,
   "id": "04ed916d",
   "metadata": {},
   "outputs": [],
   "source": [
    "from scipy.stats import ranksums"
   ]
  },
  {
   "cell_type": "markdown",
   "id": "9838f6bd",
   "metadata": {},
   "source": [
    "#### El valor de P es menor que 0.05 entonces se rechaza la hipótesis nula. \n",
    "#### La hipótesis nula: Las dos muestras tienen la misma distribución\n",
    "#### La hipótesis alternativa: Los valores de una muestra tiende a ser mayores que la segunda u otra"
   ]
  },
  {
   "cell_type": "code",
   "execution_count": 133,
   "id": "8e6196b6",
   "metadata": {},
   "outputs": [
    {
     "data": {
      "text/plain": [
       "0.0003267718756440693"
      ]
     },
     "execution_count": 133,
     "metadata": {},
     "output_type": "execute_result"
    }
   ],
   "source": [
    "stat,p= ranksums(notas1.rating, notas593.rating)\n",
    "p"
   ]
  },
  {
   "cell_type": "code",
   "execution_count": null,
   "id": "6ffd55ad",
   "metadata": {},
   "outputs": [],
   "source": []
  }
 ],
 "metadata": {
  "kernelspec": {
   "display_name": "Python 3 (ipykernel)",
   "language": "python",
   "name": "python3"
  },
  "language_info": {
   "codemirror_mode": {
    "name": "ipython",
    "version": 3
   },
   "file_extension": ".py",
   "mimetype": "text/x-python",
   "name": "python",
   "nbconvert_exporter": "python",
   "pygments_lexer": "ipython3",
   "version": "3.9.12"
  }
 },
 "nbformat": 4,
 "nbformat_minor": 5
}
